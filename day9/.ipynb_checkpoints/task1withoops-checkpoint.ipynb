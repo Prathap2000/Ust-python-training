{
 "cells": [
  {
   "cell_type": "code",
   "execution_count": 1,
   "id": "ace61956-fd99-49a5-a123-4c4239ad7864",
   "metadata": {},
   "outputs": [],
   "source": [
    "#defining calss in python"
   ]
  },
  {
   "cell_type": "code",
   "execution_count": 11,
   "id": "cdd6360b-d289-4122-80bf-64c7ecc22bb6",
   "metadata": {},
   "outputs": [
    {
     "ename": "NameError",
     "evalue": "name 'grosssalary' is not defined",
     "output_type": "error",
     "traceback": [
      "\u001b[1;31m---------------------------------------------------------------------------\u001b[0m",
      "\u001b[1;31mNameError\u001b[0m                                 Traceback (most recent call last)",
      "Cell \u001b[1;32mIn[11], line 22\u001b[0m\n\u001b[0;32m     19\u001b[0m         \u001b[38;5;28mprint\u001b[39m(\u001b[38;5;124mf\u001b[39m\u001b[38;5;124m\"\u001b[39m\u001b[38;5;124m grossalary  \u001b[39m\u001b[38;5;132;01m{\u001b[39;00m\u001b[38;5;28mself\u001b[39m\u001b[38;5;241m.\u001b[39mgrosssalary\u001b[38;5;132;01m}\u001b[39;00m\u001b[38;5;124m\"\u001b[39m)\n\u001b[0;32m     20\u001b[0m         \u001b[38;5;28mprint\u001b[39m(\u001b[38;5;124mf\u001b[39m\u001b[38;5;124m\"\u001b[39m\u001b[38;5;124m rate        \u001b[39m\u001b[38;5;132;01m{\u001b[39;00m\u001b[38;5;28mself\u001b[39m\u001b[38;5;241m.\u001b[39merate\u001b[38;5;132;01m}\u001b[39;00m\u001b[38;5;124m\"\u001b[39m)\n\u001b[1;32m---> 22\u001b[0m p\u001b[38;5;241m=\u001b[39memp(\u001b[38;5;124m\"\u001b[39m\u001b[38;5;124mprathap\u001b[39m\u001b[38;5;124m\"\u001b[39m,\u001b[38;5;241m30\u001b[39m,\u001b[38;5;124m\"\u001b[39m\u001b[38;5;124must\u001b[39m\u001b[38;5;124m\"\u001b[39m,\u001b[38;5;241m50000\u001b[39m,\u001b[38;5;241m20\u001b[39m)\n\u001b[0;32m     23\u001b[0m p\u001b[38;5;241m.\u001b[39mreport()\n",
      "Cell \u001b[1;32mIn[11], line 6\u001b[0m, in \u001b[0;36memp.__init__\u001b[1;34m(self, ename, eage, ecompany, grossalary, erate)\u001b[0m\n\u001b[0;32m      4\u001b[0m \u001b[38;5;28mself\u001b[39m\u001b[38;5;241m.\u001b[39mage\u001b[38;5;241m=\u001b[39meage\n\u001b[0;32m      5\u001b[0m \u001b[38;5;28mself\u001b[39m\u001b[38;5;241m.\u001b[39mcompany\u001b[38;5;241m=\u001b[39mecompany\n\u001b[1;32m----> 6\u001b[0m \u001b[38;5;28mself\u001b[39m\u001b[38;5;241m.\u001b[39msalary\u001b[38;5;241m=\u001b[39mgrosssalary\n\u001b[0;32m      7\u001b[0m \u001b[38;5;28mself\u001b[39m\u001b[38;5;241m.\u001b[39mrate\u001b[38;5;241m=\u001b[39merate\n",
      "\u001b[1;31mNameError\u001b[0m: name 'grosssalary' is not defined"
     ]
    }
   ],
   "source": [
    "class emp():\n",
    "    def __init__(self,ename,eage,ecompany):\n",
    "        self.name=ename\n",
    "        self.age=eage\n",
    "        self.company=ecompany\n",
    "        self.salary=grosssalary\n",
    "        self.rate=erate\n",
    "    def get_net_salary(self,rate, grosssalary):\n",
    "        self.net_salary= self.grosssalary *(1-self.rate/100)\n",
    "        return self.net_salary\n",
    "    def set_grossalary(self,esalary):\n",
    "        self.set_grossalary= esalary\n",
    "    def set_rate(self,rate):\n",
    "        self.set_rate=rate\n",
    "    def report(self):\n",
    "        print(f\" name       {self.name}\")\n",
    "        print(f\" age        {self.age}\")\n",
    "        print(f\" company    {self.company}\")\n",
    "        print(f\" grossalary  {self.grosssalary}\")\n",
    "        print(f\" rate        {self.erate}\")\n",
    "\n",
    "p=emp(\"prathap\",30,\"ust\",50000,20)\n",
    "p.report()\n",
    "        \n",
    "    "
   ]
  },
  {
   "cell_type": "code",
   "execution_count": null,
   "id": "ba792d6a-0bda-4bf8-92fe-c027500f65df",
   "metadata": {},
   "outputs": [],
   "source": []
  }
 ],
 "metadata": {
  "kernelspec": {
   "display_name": "Python 3 (ipykernel)",
   "language": "python",
   "name": "python3"
  },
  "language_info": {
   "codemirror_mode": {
    "name": "ipython",
    "version": 3
   },
   "file_extension": ".py",
   "mimetype": "text/x-python",
   "name": "python",
   "nbconvert_exporter": "python",
   "pygments_lexer": "ipython3",
   "version": "3.12.7"
  }
 },
 "nbformat": 4,
 "nbformat_minor": 5
}
