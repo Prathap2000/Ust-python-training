{
 "cells": [
  {
   "cell_type": "code",
   "execution_count": null,
   "id": "610b3fc8-cee7-48d9-96b2-0027e3c5f4eb",
   "metadata": {},
   "outputs": [],
   "source": []
  }
 ],
 "metadata": {
  "kernelspec": {
   "display_name": "",
   "name": ""
  },
  "language_info": {
   "name": ""
  }
 },
 "nbformat": 4,
 "nbformat_minor": 5
}
