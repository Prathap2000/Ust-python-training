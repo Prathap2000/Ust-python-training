{
 "cells": [
  {
   "cell_type": "code",
   "execution_count": 1,
   "id": "610b3fc8-cee7-48d9-96b2-0027e3c5f4eb",
   "metadata": {},
   "outputs": [
    {
     "data": {
      "text/plain": [
       "'\\nsyntax:\\ntry:\\n     statment\\nexception:\\n    stament\\n'"
      ]
     },
     "execution_count": 1,
     "metadata": {},
     "output_type": "execute_result"
    }
   ],
   "source": [
    "'''\n",
    "syntax:\n",
    "try:\n",
    "     statment\n",
    "exception:\n",
    "    stament\n",
    "'''\n",
    "#assert is used for the "
   ]
  },
  {
   "cell_type": "code",
   "execution_count": 3,
   "id": "7aa25011-34c1-4cb9-96c2-8767e90a930d",
   "metadata": {},
   "outputs": [],
   "source": [
    "#handaling exceptions"
   ]
  },
  {
   "cell_type": "code",
   "execution_count": 11,
   "id": "7b37092e-2319-48e2-86d3-190277bc058c",
   "metadata": {},
   "outputs": [
    {
     "name": "stdout",
     "output_type": "stream",
     "text": [
      "1.0\n"
     ]
    }
   ],
   "source": [
    "try:\n",
    "    a=10\n",
    "    b=10\n",
    "    print(a/b)\n",
    "except:\n",
    "    print(\" error occured\")"
   ]
  },
  {
   "cell_type": "code",
   "execution_count": 15,
   "id": "9a621264-ff63-43e0-b266-af6e97abe9a1",
   "metadata": {},
   "outputs": [
    {
     "name": "stdout",
     "output_type": "stream",
     "text": [
      " error occured\n"
     ]
    }
   ],
   "source": [
    "try:\n",
    "    a=10\n",
    "    b=0\n",
    "    print(a/b)\n",
    "except:\n",
    "    print(\" error occured\")"
   ]
  },
  {
   "cell_type": "code",
   "execution_count": 22,
   "id": "725c3f8d-bae7-404a-a63e-0e1faa347f51",
   "metadata": {},
   "outputs": [
    {
     "name": "stdout",
     "output_type": "stream",
     "text": [
      "error occured by division by zero\n"
     ]
    }
   ],
   "source": [
    "try:\n",
    "    a=10\n",
    "    b=0\n",
    "    print(a/b)\n",
    "except Exception as e:\n",
    "    print(f\"error occured by {e}\")"
   ]
  },
  {
   "cell_type": "code",
   "execution_count": null,
   "id": "e251296b-4377-42cf-9e5d-a5e79528649b",
   "metadata": {},
   "outputs": [],
   "source": [
    "#if expception occur the else part will not run "
   ]
  },
  {
   "cell_type": "code",
   "execution_count": 24,
   "id": "01f6b049-c928-4121-9d1b-50562734d1ed",
   "metadata": {},
   "outputs": [
    {
     "name": "stdout",
     "output_type": "stream",
     "text": [
      "error occured by division by zero\n",
      "thanks\n"
     ]
    }
   ],
   "source": [
    "try:\n",
    "    a=10\n",
    "    b=0\n",
    "    print(a/b)\n",
    "except Exception as e:\n",
    "    print(f\"error occured by {e}\")\n",
    "else:\n",
    "    print(\"completed\")\n",
    "finally:\n",
    "    print(\"thanks\")"
   ]
  },
  {
   "cell_type": "code",
   "execution_count": null,
   "id": "603407ce-96a5-49c9-9064-0f43a3286402",
   "metadata": {},
   "outputs": [],
   "source": [
    "#if exception is not occuer it print the else and finally all"
   ]
  },
  {
   "cell_type": "code",
   "execution_count": 40,
   "id": "78546ae0-997d-4e30-a5a6-5284aad55856",
   "metadata": {},
   "outputs": [
    {
     "name": "stdout",
     "output_type": "stream",
     "text": [
      "completed\n",
      "thanks\n"
     ]
    }
   ],
   "source": [
    "try:\n",
    "    a=10\n",
    "    b=10\n",
    "    assert (a/b)\n",
    "except Exception as e:\n",
    "    print(f\"error occured by {e}\")\n",
    "else:\n",
    "    print(\"completed\")\n",
    "finally:\n",
    "    print(\"thanks\")"
   ]
  },
  {
   "cell_type": "code",
   "execution_count": 30,
   "id": "5fe66d04-90f2-4e9e-aa0a-6a2f5b1dbacf",
   "metadata": {},
   "outputs": [],
   "source": [
    "#assertion"
   ]
  },
  {
   "cell_type": "code",
   "execution_count": 44,
   "id": "dfcbb808-5066-41e3-bb6c-fab68f2906e8",
   "metadata": {},
   "outputs": [
    {
     "name": "stdout",
     "output_type": "stream",
     "text": [
      "error occured by  assert need to be more then 10\n",
      "thanks\n"
     ]
    }
   ],
   "source": [
    "try:\n",
    "    a=9\n",
    "    b=0\n",
    "    assert (a+b >10), ' assert need to be more then 10'\n",
    "except Exception as e:\n",
    "    print(f\"error occured by {e}\")\n",
    "else:\n",
    "    print(\"completed\")\n",
    "finally:\n",
    "    print(\"thanks\")"
   ]
  },
  {
   "cell_type": "code",
   "execution_count": 46,
   "id": "56df85e6-b61f-45bf-8628-8001ef1f424c",
   "metadata": {},
   "outputs": [],
   "source": [
    "# practical usage of exception\n"
   ]
  },
  {
   "cell_type": "code",
   "execution_count": 56,
   "id": "20ad424f-2454-4b9e-9339-cd9fe60773a9",
   "metadata": {},
   "outputs": [
    {
     "ename": "ZeroDivisionError",
     "evalue": "dont divide by zero",
     "output_type": "error",
     "traceback": [
      "\u001b[1;31m---------------------------------------------------------------------------\u001b[0m",
      "\u001b[1;31mZeroDivisionError\u001b[0m                         Traceback (most recent call last)",
      "Cell \u001b[1;32mIn[56], line 6\u001b[0m\n\u001b[0;32m      4\u001b[0m     \u001b[38;5;28;01melse\u001b[39;00m:\n\u001b[0;32m      5\u001b[0m         \u001b[38;5;28mprint\u001b[39m(a\u001b[38;5;241m/\u001b[39mb)\n\u001b[1;32m----> 6\u001b[0m div(\u001b[38;5;241m2\u001b[39m,\u001b[38;5;241m0\u001b[39m)\n",
      "Cell \u001b[1;32mIn[56], line 3\u001b[0m, in \u001b[0;36mdiv\u001b[1;34m(a, b)\u001b[0m\n\u001b[0;32m      1\u001b[0m \u001b[38;5;28;01mdef\u001b[39;00m \u001b[38;5;21mdiv\u001b[39m(a,b):\n\u001b[0;32m      2\u001b[0m     \u001b[38;5;28;01mif\u001b[39;00m b\u001b[38;5;241m==\u001b[39m\u001b[38;5;241m0\u001b[39m:\n\u001b[1;32m----> 3\u001b[0m         \u001b[38;5;28;01mraise\u001b[39;00m \u001b[38;5;167;01mZeroDivisionError\u001b[39;00m(\u001b[38;5;124m\"\u001b[39m\u001b[38;5;124mdont divide by zero\u001b[39m\u001b[38;5;124m\"\u001b[39m)\n\u001b[0;32m      4\u001b[0m     \u001b[38;5;28;01melse\u001b[39;00m:\n\u001b[0;32m      5\u001b[0m         \u001b[38;5;28mprint\u001b[39m(a\u001b[38;5;241m/\u001b[39mb)\n",
      "\u001b[1;31mZeroDivisionError\u001b[0m: dont divide by zero"
     ]
    }
   ],
   "source": [
    "def div(a,b):\n",
    "    if b==0:\n",
    "        raise ZeroDivisionError(\"dont divide by zero\")\n",
    "    else:\n",
    "        print(a/b)\n",
    "div(2,0)"
   ]
  },
  {
   "cell_type": "code",
   "execution_count": null,
   "id": "75eb5349-422b-455d-b1e3-dd68cb7062dd",
   "metadata": {},
   "outputs": [],
   "source": []
  }
 ],
 "metadata": {
  "kernelspec": {
   "display_name": "Python 3 (ipykernel)",
   "language": "python",
   "name": "python3"
  },
  "language_info": {
   "codemirror_mode": {
    "name": "ipython",
    "version": 3
   },
   "file_extension": ".py",
   "mimetype": "text/x-python",
   "name": "python",
   "nbconvert_exporter": "python",
   "pygments_lexer": "ipython3",
   "version": "3.12.7"
  }
 },
 "nbformat": 4,
 "nbformat_minor": 5
}
