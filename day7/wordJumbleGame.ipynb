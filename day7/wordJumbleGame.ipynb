{
 "cells": [
  {
   "cell_type": "code",
   "execution_count": 7,
   "id": "611c5a36-6470-4708-8f3a-6b52833cfe99",
   "metadata": {},
   "outputs": [
    {
     "data": {
      "text/plain": [
       "'\\n get the word and proccess it \\n for every word in th elist of word\\n jumble he word\\n show to the user\\n ask user input\\n caompare both user and the computer uput \\n '"
      ]
     },
     "execution_count": 7,
     "metadata": {},
     "output_type": "execute_result"
    }
   ],
   "source": [
    "''' jumbled word: \"\"\n",
    "    your guess : \"\"\n",
    "    correct ! \n",
    "'''\n",
    "'''\n",
    " get the word and proccess it \n",
    " for every word in th elist of word\n",
    " jumble he word\n",
    " show to the user\n",
    " ask user input\n",
    " caompare both user and the computer uput \n",
    " '''"
   ]
  },
  {
   "cell_type": "code",
   "execution_count": 29,
   "id": "de87a928-d823-4325-bacd-188f7869568f",
   "metadata": {},
   "outputs": [],
   "source": [
    "import random\n",
    "def jumble(w):\n",
    "    temp=list(w)\n",
    "    random.shuffle(temp)\n",
    "    return temp"
   ]
  },
  {
   "cell_type": "code",
   "execution_count": 59,
   "id": "d2c4bc1e-ed49-4ea4-9dea-10e32512f617",
   "metadata": {},
   "outputs": [
    {
     "name": "stdout",
     "output_type": "stream",
     "text": [
      "the content is -->: ['hi', ' all', ' am ', 'from ', 'mysore']\n"
     ]
    }
   ],
   "source": [
    "path=r'C:\\Users\\Administrator\\Desktop\\python training\\day7\\game.txt'\n",
    "f=open(path,'r')\n",
    "fData=f.read()\n",
    "f.close()\n",
    "fData=fData.split(',')\n",
    "print(\"the content is -->:\",fData)"
   ]
  },
  {
   "cell_type": "code",
   "execution_count": null,
   "id": "e6dc4bf3-5559-46a1-85fc-5514a50e90c9",
   "metadata": {},
   "outputs": [
    {
     "name": "stdin",
     "output_type": "stream",
     "text": [
      "enter your input hi\n"
     ]
    },
    {
     "name": "stdout",
     "output_type": "stream",
     "text": [
      "hi\n",
      "you win!\n"
     ]
    },
    {
     "name": "stdin",
     "output_type": "stream",
     "text": [
      "enter your input hello\n"
     ]
    },
    {
     "name": "stdout",
     "output_type": "stream",
     "text": [
      " all\n",
      "you lose :-)\n"
     ]
    }
   ],
   "source": [
    "import random\n",
    "random.shuffle(fData)\n",
    "for word in fData:\n",
    "    jumbled=jumble(word)\n",
    "    user=input(\"enter your input\")\n",
    "    print(jumbled)\n",
    "    if jumbled==user:\n",
    "        print(\"you win!\")\n",
    "    else:\n",
    "        print(\"you lose :-)\")"
   ]
  },
  {
   "cell_type": "code",
   "execution_count": null,
   "id": "2e34e170-97c9-41b5-b9ec-bb560960e521",
   "metadata": {},
   "outputs": [],
   "source": []
  }
 ],
 "metadata": {
  "kernelspec": {
   "display_name": "Python 3 (ipykernel)",
   "language": "python",
   "name": "python3"
  },
  "language_info": {
   "codemirror_mode": {
    "name": "ipython",
    "version": 3
   },
   "file_extension": ".py",
   "mimetype": "text/x-python",
   "name": "python",
   "nbconvert_exporter": "python",
   "pygments_lexer": "ipython3",
   "version": "3.12.7"
  }
 },
 "nbformat": 4,
 "nbformat_minor": 5
}
