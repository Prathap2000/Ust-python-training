{
 "cells": [
  {
   "cell_type": "raw",
   "id": "d5dae443-26c1-4da5-8d2c-2c8bc0b71a09",
   "metadata": {},
   "source": [
    "#we have three mode in files read,write,binary mode"
   ]
  },
  {
   "cell_type": "code",
   "execution_count": 1,
   "id": "67de43bd-f0f0-405f-a5d2-5bdddf8d792d",
   "metadata": {},
   "outputs": [],
   "source": [
    "#syntax: file_obj=open(file_name[,access_mode][,Buffering])"
   ]
  },
  {
   "cell_type": "code",
   "execution_count": null,
   "id": "e5169ff2-bd59-4049-9a8c-cb2d85a031b4",
   "metadata": {},
   "outputs": [],
   "source": [
    "# file_obj.close() after all the file opertaion done need to end uo with closing the file#\n",
    "#read() this is used to read the file and get all the read content from as string\n",
    "#readline() it is used to read the single line\n",
    "#write() it is used to write the content into the the file\n",
    "#writelines() is used to write the line in to the file\n",
    "# sys is build in module for sys.stdin,sys.stdout,sys.stderr ,sys.argv(its allows to provide comdline argument )"
   ]
  },
  {
   "cell_type": "code",
   "execution_count": 3,
   "id": "56cd1e33-804b-49e8-ae3c-f5dbfff3ef8b",
   "metadata": {},
   "outputs": [],
   "source": [
    "#files"
   ]
  },
  {
   "cell_type": "code",
   "execution_count": 5,
   "id": "59f733e3-4e11-476a-a847-fef96e3fa6c5",
   "metadata": {},
   "outputs": [],
   "source": [
    "#for open and close -->open(),close()\n",
    "#modes--r,w,a\n",
    "#reading ,read(),readline(),readlines()\n",
    "#writing--> write(),writelines()\n",
    "\n"
   ]
  },
  {
   "cell_type": "code",
   "execution_count": 65,
   "id": "6fffa177-29d1-4b2b-a761-15223cf3673b",
   "metadata": {},
   "outputs": [],
   "source": [
    "path=r'C:\\Users\\Administrator\\Desktop\\python training\\day7\\note.txt'"
   ]
  },
  {
   "cell_type": "code",
   "execution_count": 67,
   "id": "b8a60f6a-8dc1-49a2-a43a-804c21d064dc",
   "metadata": {},
   "outputs": [],
   "source": [
    "fileData=open(path,'r')"
   ]
  },
  {
   "cell_type": "code",
   "execution_count": 53,
   "id": "da28b030-650d-4af1-abf4-9c606df84a76",
   "metadata": {},
   "outputs": [
    {
     "data": {
      "text/plain": [
       "'r'"
      ]
     },
     "execution_count": 53,
     "metadata": {},
     "output_type": "execute_result"
    }
   ],
   "source": [
    "fileData.mode"
   ]
  },
  {
   "cell_type": "code",
   "execution_count": 55,
   "id": "792266c8-47cd-417b-a789-afe6466cc270",
   "metadata": {},
   "outputs": [
    {
     "data": {
      "text/plain": [
       "'cp1252'"
      ]
     },
     "execution_count": 55,
     "metadata": {},
     "output_type": "execute_result"
    }
   ],
   "source": [
    "fileData.encoding"
   ]
  },
  {
   "cell_type": "code",
   "execution_count": 57,
   "id": "9add1bb3-9db6-4b5f-b240-e850c6eef69c",
   "metadata": {},
   "outputs": [],
   "source": [
    "data=fileData.read()"
   ]
  },
  {
   "cell_type": "code",
   "execution_count": 59,
   "id": "73d88ba6-98a3-40e8-892f-28c74d1c4bbb",
   "metadata": {},
   "outputs": [
    {
     "data": {
      "text/plain": [
       "'#syntax: file_obj=open(file_name[,access_mode][,Buffering])\\n# file_obj.close() after all the file opertaion done need to end uo with closing the file#\\n#read() this is used to read the file and get all the read content from as string\\n#readline() it is used to read the single line\\n#write() it is used to write the content into the the file\\n#writelines() is used to write the line in to the file\\n# sys is build in module for sys.stdin,sys.stdout,sys.stderr ,sys.argv(its allows to provide comdline argument )'"
      ]
     },
     "execution_count": 59,
     "metadata": {},
     "output_type": "execute_result"
    }
   ],
   "source": [
    "data"
   ]
  },
  {
   "cell_type": "code",
   "execution_count": 69,
   "id": "6fcd9710-eb41-4388-9f0c-bcb026ed65fe",
   "metadata": {},
   "outputs": [
    {
     "data": {
      "text/plain": [
       "'#syntax: file_obj=open(file_name[,access_mode][,Buffering])\\n'"
      ]
     },
     "execution_count": 69,
     "metadata": {},
     "output_type": "execute_result"
    }
   ],
   "source": [
    "dataLine=fileData.readline()\n",
    "dataLine"
   ]
  },
  {
   "cell_type": "code",
   "execution_count": 71,
   "id": "adeffe3c-f70d-4c14-a4ae-647ef6693109",
   "metadata": {},
   "outputs": [
    {
     "data": {
      "text/plain": [
       "61"
      ]
     },
     "execution_count": 71,
     "metadata": {},
     "output_type": "execute_result"
    }
   ],
   "source": [
    "fileData.tell() "
   ]
  },
  {
   "cell_type": "code",
   "execution_count": 75,
   "id": "ceb5f7ba-6de0-4b61-aca7-d59bf9ed421a",
   "metadata": {},
   "outputs": [
    {
     "data": {
      "text/plain": [
       "506"
      ]
     },
     "execution_count": 75,
     "metadata": {},
     "output_type": "execute_result"
    }
   ],
   "source": [
    "len(data)"
   ]
  },
  {
   "cell_type": "code",
   "execution_count": 81,
   "id": "8b136c69-0f45-4c69-9a2d-d5b4e408b8a8",
   "metadata": {},
   "outputs": [
    {
     "data": {
      "text/plain": [
       "60"
      ]
     },
     "execution_count": 81,
     "metadata": {},
     "output_type": "execute_result"
    }
   ],
   "source": [
    "len(dataLine)"
   ]
  },
  {
   "cell_type": "code",
   "execution_count": null,
   "id": "83c8f3d9-82c0-4e82-9742-bb2a3b844b60",
   "metadata": {},
   "outputs": [],
   "source": []
  },
  {
   "cell_type": "code",
   "execution_count": 83,
   "id": "e2bc50da-85a6-4092-b573-42d5cbf5f432",
   "metadata": {},
   "outputs": [],
   "source": [
    "fileData.close()"
   ]
  },
  {
   "cell_type": "code",
   "execution_count": 87,
   "id": "063eec4a-bc21-4155-96a5-e282ef2e73f4",
   "metadata": {},
   "outputs": [],
   "source": [
    " #write into the file"
   ]
  },
  {
   "cell_type": "code",
   "execution_count": 89,
   "id": "07c9548d-d11a-4dbf-be38-b8e8a8cac167",
   "metadata": {},
   "outputs": [],
   "source": [
    "path=r'C:\\Users\\Administrator\\Desktop\\python training\\day7\\filewrite.txt'\n"
   ]
  },
  {
   "cell_type": "code",
   "execution_count": 121,
   "id": "14eb859d-b02f-4c83-88c2-096f5cc3fe7a",
   "metadata": {},
   "outputs": [],
   "source": [
    "filewrite=open(path,\"w\")"
   ]
  },
  {
   "cell_type": "code",
   "execution_count": 123,
   "id": "5857b13d-f157-490b-bd5f-583621149915",
   "metadata": {},
   "outputs": [],
   "source": [
    "wrt=\"prathap\""
   ]
  },
  {
   "cell_type": "code",
   "execution_count": 127,
   "id": "2417d1d5-e136-4377-b95d-b459b93541ba",
   "metadata": {},
   "outputs": [
    {
     "data": {
      "text/plain": [
       "7"
      ]
     },
     "execution_count": 127,
     "metadata": {},
     "output_type": "execute_result"
    }
   ],
   "source": [
    "filewrite.write(\"prathap\")"
   ]
  },
  {
   "cell_type": "code",
   "execution_count": 136,
   "id": "9d26bf32-6419-4de3-ba49-ea288201b6ba",
   "metadata": {},
   "outputs": [],
   "source": [
    "path=r'C:\\Users\\Administrator\\Desktop\\python training\\day7\\note.txt'\n",
    "ff=open(path,'r')\n",
    "#need to do in the room"
   ]
  },
  {
   "cell_type": "code",
   "execution_count": 142,
   "id": "1ad60a93-14b2-44eb-bf64-f45e0925073b",
   "metadata": {},
   "outputs": [
    {
     "name": "stdout",
     "output_type": "stream",
     "text": [
      "0\n"
     ]
    }
   ],
   "source": [
    "rd=ff.read()\n",
    "count=0\n",
    "for i in range(len(rd)):\n",
    "    if i ==\"file\":\n",
    "        count+=1\n",
    "print(count)\n",
    "        "
   ]
  },
  {
   "cell_type": "code",
   "execution_count": 144,
   "id": "f9ed29be-a183-48fb-bf55-6eafbd54769f",
   "metadata": {},
   "outputs": [
    {
     "ename": "SyntaxError",
     "evalue": "unterminated f-string literal (detected at line 2) (2651591534.py, line 2)",
     "output_type": "error",
     "traceback": [
      "\u001b[1;36m  Cell \u001b[1;32mIn[144], line 2\u001b[1;36m\u001b[0m\n\u001b[1;33m    f.write(f'fle\u001b[0m\n\u001b[1;37m            ^\u001b[0m\n\u001b[1;31mSyntaxError\u001b[0m\u001b[1;31m:\u001b[0m unterminated f-string literal (detected at line 2)\n"
     ]
    }
   ],
   "source": [
    "f=open(path,'a')\n",
    "f.write(f'fle "
   ]
  },
  {
   "cell_type": "code",
   "execution_count": null,
   "id": "b28c2fdd-faab-4b98-bc86-e65525a2aebb",
   "metadata": {},
   "outputs": [],
   "source": []
  }
 ],
 "metadata": {
  "kernelspec": {
   "display_name": "Python 3 (ipykernel)",
   "language": "python",
   "name": "python3"
  },
  "language_info": {
   "codemirror_mode": {
    "name": "ipython",
    "version": 3
   },
   "file_extension": ".py",
   "mimetype": "text/x-python",
   "name": "python",
   "nbconvert_exporter": "python",
   "pygments_lexer": "ipython3",
   "version": "3.12.7"
  }
 },
 "nbformat": 4,
 "nbformat_minor": 5
}
