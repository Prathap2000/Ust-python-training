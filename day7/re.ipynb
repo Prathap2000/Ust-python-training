{
 "cells": [
  {
   "cell_type": "code",
   "execution_count": 1,
   "id": "cfca64cb-b238-4b18-9c25-92a05360ac49",
   "metadata": {},
   "outputs": [],
   "source": [
    "#regular exp\n",
    "#used for the validation and to find the match in the the give strings\n"
   ]
  },
  {
   "cell_type": "code",
   "execution_count": 5,
   "id": "02e7ec01-ba33-4ecc-bbad-7b7a79f520cf",
   "metadata": {},
   "outputs": [],
   "source": [
    "#re module,undertsnd the function in the re module\n",
    "#re.match() is used to match in the string sytanx::- match(pattern,string,flag=0) return match object \n",
    "#the match only match the give substring is from the starting of the string like s=Prathap, it matches only->\n",
    "#->the sunstring start from the to end but inbetwwen it will not work\n",
    "#re.search() is used to for first occurance and synatx::- re.serach(pattern,string)\n",
    "#re.findall() is used to find all the occurance and syntax:- re.findall(pattern,string,[flag])\n",
    "#re.finditer() it return iterator insted of list\n",
    "#re.split() synatx::- split(pattern,string,max=0)\n",
    "#re.sub/re.subn() ,syntax:- re.sub(pattern,replacement,string,max=0)\n",
    "#re.compile() \n",
    "#match object \n",
    "#start()/end() need to find the string with starting with and ending eith in the string \n",
    "#groups() used to group based the give pattern\n",
    "\n",
    "\n",
    "\n"
   ]
  },
  {
   "cell_type": "code",
   "execution_count": 7,
   "id": "0f398f45-e9cd-45af-b3c6-c69a8bfb7eeb",
   "metadata": {},
   "outputs": [],
   "source": [
    "import re"
   ]
  },
  {
   "cell_type": "code",
   "execution_count": null,
   "id": "4d576596-87fb-4f8d-8aea-10971a85ab02",
   "metadata": {},
   "outputs": [],
   "source": []
  }
 ],
 "metadata": {
  "kernelspec": {
   "display_name": "Python 3 (ipykernel)",
   "language": "python",
   "name": "python3"
  },
  "language_info": {
   "codemirror_mode": {
    "name": "ipython",
    "version": 3
   },
   "file_extension": ".py",
   "mimetype": "text/x-python",
   "name": "python",
   "nbconvert_exporter": "python",
   "pygments_lexer": "ipython3",
   "version": "3.12.7"
  }
 },
 "nbformat": 4,
 "nbformat_minor": 5
}
