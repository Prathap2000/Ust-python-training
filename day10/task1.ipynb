{
 "cells": [
  {
   "cell_type": "code",
   "execution_count": 11,
   "id": "05075e8f-590e-4b94-aa4e-53c8cf98c9c4",
   "metadata": {},
   "outputs": [],
   "source": [
    "class Car:\n",
    "    def __init__(self, brand, model, year, mileage, fuel_level):\n",
    "        self.brand = brand\n",
    "        self.model = model\n",
    "        self.year = year\n",
    "        self.mileage = mileage\n",
    "        self.fuel_level = fuel_level\n",
    "\n",
    "    def drive(self, distance):\n",
    "        if self.fuel_level > 0:\n",
    "            self.mileage += distance\n",
    "            fuel_consumed = distance / 20  # Assuming 20 km per unit of fuel\n",
    "            if self.fuel_level >= fuel_consumed:\n",
    "                self.fuel_level -= fuel_consumed\n",
    "                print(f\"Car drove {distance} km. New mileage: {self.mileage} km. Remaining fuel: {self.fuel_level:.2f} units.\")\n",
    "            else:\n",
    "                print(\"Insufficient fuel to complete the drive.\")\n",
    "                self.mileage -= distance #revert mileage\n",
    "        else:\n",
    "            print(\"Car is out of fuel. Cannot drive.\")\n",
    "\n",
    "    def refuel(self, amount):\n",
    "        self.fuel_level += amount\n",
    "        print(f\"Refueled {amount} units. New fuel level: {self.fuel_level:.2f} units.\")\n",
    "\n",
    "    def display_info(self):\n",
    "        print(f\"Brand: {self.brand}\")\n",
    "        print(f\"Model: {self.model}\")\n",
    "        print(f\"Year: {self.year}\")\n",
    "        print(f\"Mileage: {self.mileage} km\")\n",
    "        print(f\"Fuel Level: {self.fuel_level:.2f} units\")\n",
    "\n"
   ]
  },
  {
   "cell_type": "code",
   "execution_count": 15,
   "id": "b7e7fb4b-7043-4ec7-bf27-e087f7c9cc22",
   "metadata": {},
   "outputs": [
    {
     "name": "stdout",
     "output_type": "stream",
     "text": [
      "Brand: Toyota\n",
      "Model: Camry\n",
      "Year: 2022\n",
      "Mileage: 10000 km\n",
      "Fuel Level: 50.00 units\n",
      "Car drove 100 km. New mileage: 10100 km. Remaining fuel: 45.00 units.\n",
      "Insufficient fuel to complete the drive.\n",
      "Refueled 20 units. New fuel level: 65.00 units.\n",
      "Car drove 100 km. New mileage: 10200 km. Remaining fuel: 60.00 units.\n",
      "Brand: Toyota\n",
      "Model: Camry\n",
      "Year: 2022\n",
      "Mileage: 10200 km\n",
      "Fuel Level: 60.00 units\n"
     ]
    }
   ],
   "source": [
    "# Example Usage:\n",
    "my_car = Car(\"Toyota\", \"Camry\", 2022, 10000, 50.0)\n",
    "my_car.display_info()\n",
    "\n",
    "my_car.drive(100)\n",
    "my_car.drive(2000)\n",
    "my_car.refuel(20)\n",
    "my_car.drive(100);\n",
    "my_car.display_info()"
   ]
  },
  {
   "cell_type": "code",
   "execution_count": 17,
   "id": "5858b88e-e4dc-470e-b2f6-8081edd05726",
   "metadata": {},
   "outputs": [],
   "source": [
    "#task2"
   ]
  },
  {
   "cell_type": "code",
   "execution_count": 21,
   "id": "3cc657f7-a47e-443d-8c87-e0a7271f71d9",
   "metadata": {},
   "outputs": [],
   "source": [
    "class BankAccount:\n",
    "    def __init__(self, account_number, initial_balance=0):\n",
    "        self._account_number = account_number  # Encapsulated attribute\n",
    "        self._balance = initial_balance  # Encapsulated attribute\n",
    "        self._minimum_balance = 100 #minimum balance required.\n",
    "\n",
    "    def deposit(self, amount):\n",
    "        if amount > 0:\n",
    "            self._balance += amount\n",
    "            print(f\"Deposited ${amount}. New balance: ${self._balance}\")\n",
    "        else:\n",
    "            print(\"Deposit amount must be positive.\")\n",
    "\n",
    "    def withdraw(self, amount):\n",
    "        if amount > 0:\n",
    "            if self._balance - amount >= self._minimum_balance:\n",
    "                self._balance -= amount\n",
    "                print(f\"Withdrawn ${amount}. New balance: ${self._balance}\")\n",
    "            else:\n",
    "                print(f\"Insufficient funds or would fall below minimum balance of ${self._minimum_balance}.\")\n",
    "        else:\n",
    "            print(\"Withdrawal amount must be positive.\")\n",
    "\n",
    "    def get_balance(self):\n",
    "        return self._balance\n",
    "\n",
    "    def get_account_number(self): #Added getter for account number, just in case.\n",
    "        return self._account_number\n",
    "\n"
   ]
  },
  {
   "cell_type": "code",
   "execution_count": 23,
   "id": "e79c3ff1-ed8d-41e4-83f0-d4a800fde1ea",
   "metadata": {},
   "outputs": [
    {
     "name": "stdout",
     "output_type": "stream",
     "text": [
      "Account Number: 12345\n",
      "Initial balance: $500\n",
      "Deposited $200. New balance: $700\n",
      "Withdrawn $300. New balance: $400\n",
      "Insufficient funds or would fall below minimum balance of $100.\n",
      "Current balance: $400\n"
     ]
    }
   ],
   "source": [
    "# Example Usage:\n",
    "account1 = BankAccount(\"12345\", 500)\n",
    "print(f\"Account Number: {account1.get_account_number()}\")\n",
    "print(f\"Initial balance: ${account1.get_balance()}\")\n",
    "\n",
    "account1.deposit(200)\n",
    "account1.withdraw(300)\n",
    "account1.withdraw(500) #should fail, as it would leave balance below 100\n",
    "print(f\"Current balance: ${account1.get_balance()}\")"
   ]
  },
  {
   "cell_type": "code",
   "execution_count": 25,
   "id": "8030d4ae-35b8-4f0f-b1c8-007d11d5b8cf",
   "metadata": {},
   "outputs": [],
   "source": [
    "#task3"
   ]
  },
  {
   "cell_type": "code",
   "execution_count": null,
   "id": "eeff1194-5abe-45f1-a789-dcf8acca0a6f",
   "metadata": {},
   "outputs": [],
   "source": []
  }
 ],
 "metadata": {
  "kernelspec": {
   "display_name": "Python 3 (ipykernel)",
   "language": "python",
   "name": "python3"
  },
  "language_info": {
   "codemirror_mode": {
    "name": "ipython",
    "version": 3
   },
   "file_extension": ".py",
   "mimetype": "text/x-python",
   "name": "python",
   "nbconvert_exporter": "python",
   "pygments_lexer": "ipython3",
   "version": "3.12.7"
  }
 },
 "nbformat": 4,
 "nbformat_minor": 5
}
