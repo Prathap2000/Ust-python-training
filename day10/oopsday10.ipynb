{
 "cells": [
  {
   "cell_type": "code",
   "execution_count": 5,
   "id": "929746cf-f750-4626-b0ca-05c5aef9d1d0",
   "metadata": {},
   "outputs": [],
   "source": [
    "#inheritance\n",
    "#inherited class derives teh data and behaviour from parent class"
   ]
  },
  {
   "cell_type": "code",
   "execution_count": null,
   "id": "b5d30c29-8f0a-465c-ab40-f8343bd71254",
   "metadata": {},
   "outputs": [],
   "source": []
  },
  {
   "cell_type": "code",
   "execution_count": null,
   "id": "c48cc34c-9ece-49e1-9d57-6599dbe4f60d",
   "metadata": {},
   "outputs": [],
   "source": []
  }
 ],
 "metadata": {
  "kernelspec": {
   "display_name": "Python 3 (ipykernel)",
   "language": "python",
   "name": "python3"
  },
  "language_info": {
   "codemirror_mode": {
    "name": "ipython",
    "version": 3
   },
   "file_extension": ".py",
   "mimetype": "text/x-python",
   "name": "python",
   "nbconvert_exporter": "python",
   "pygments_lexer": "ipython3",
   "version": "3.12.7"
  }
 },
 "nbformat": 4,
 "nbformat_minor": 5
}
