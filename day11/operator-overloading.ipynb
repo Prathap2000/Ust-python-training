{
 "cells": [
  {
   "cell_type": "code",
   "execution_count": 1,
   "id": "3ae3d326-fda3-4400-897f-02083a97d30a",
   "metadata": {},
   "outputs": [
    {
     "ename": "SyntaxError",
     "evalue": "invalid syntax (727074519.py, line 2)",
     "output_type": "error",
     "traceback": [
      "\u001b[1;36m  Cell \u001b[1;32mIn[1], line 2\u001b[1;36m\u001b[0m\n\u001b[1;33m    m-->matrix\u001b[0m\n\u001b[1;37m      ^\u001b[0m\n\u001b[1;31mSyntaxError\u001b[0m\u001b[1;31m:\u001b[0m invalid syntax\n"
     ]
    }
   ],
   "source": [
    "#why opertor overloading\n",
    "m-->matrix\n",
    "n->matrix\n",
    "for matrix add which syntax is covenient and intuitive?\n",
    "method #1:\n",
    "m.add(n) or add(m,n)\n",
    "method #2:\n",
    "m+n\n",
    "m-n\n",
    "m*n\n",
    "m/n\n",
    "operator overloading --> is the process of re-defining the functionality of the exixting operators in python for the sake of custom classes\n",
    "\n"
   ]
  },
  {
   "cell_type": "code",
   "execution_count": 3,
   "id": "2da8cfdb-8da7-448a-85f1-4905539b7c9c",
   "metadata": {},
   "outputs": [],
   "source": [
    "class compl(object):\n",
    "    def __init__(self,a,b):\n",
    "        self.real=a\n",
    "        self.img=b\n",
    "    def print(self):\n",
    "        return f'{self.real}+j{self.img}'\n",
    "        "
   ]
  },
  {
   "cell_type": "code",
   "execution_count": 7,
   "id": "9d9c847a-620e-42a2-bbe2-dec317135d52",
   "metadata": {},
   "outputs": [],
   "source": [
    "a=compl(10,4)\n",
    "b=compl(5,6)"
   ]
  },
  {
   "cell_type": "code",
   "execution_count": 11,
   "id": "b8f74dd9-f474-4dce-bf4f-32236a939335",
   "metadata": {},
   "outputs": [
    {
     "data": {
      "text/plain": [
       "'10+j4'"
      ]
     },
     "execution_count": 11,
     "metadata": {},
     "output_type": "execute_result"
    }
   ],
   "source": [
    "a.print()"
   ]
  },
  {
   "cell_type": "code",
   "execution_count": 15,
   "id": "113d670b-a4d5-4575-a048-83e8834dcd3a",
   "metadata": {},
   "outputs": [
    {
     "data": {
      "text/plain": [
       "'5+j6'"
      ]
     },
     "execution_count": 15,
     "metadata": {},
     "output_type": "execute_result"
    }
   ],
   "source": [
    "b.print()"
   ]
  },
  {
   "cell_type": "code",
   "execution_count": 23,
   "id": "1ee08ee6-619a-441b-a87e-1dbab645376b",
   "metadata": {},
   "outputs": [
    {
     "ename": "TypeError",
     "evalue": "unsupported operand type(s) for -: 'compl' and 'compl'",
     "output_type": "error",
     "traceback": [
      "\u001b[1;31m---------------------------------------------------------------------------\u001b[0m",
      "\u001b[1;31mTypeError\u001b[0m                                 Traceback (most recent call last)",
      "Cell \u001b[1;32mIn[23], line 1\u001b[0m\n\u001b[1;32m----> 1\u001b[0m a \u001b[38;5;241m-\u001b[39m b\n",
      "\u001b[1;31mTypeError\u001b[0m: unsupported operand type(s) for -: 'compl' and 'compl'"
     ]
    }
   ],
   "source": [
    "a - b"
   ]
  },
  {
   "cell_type": "code",
   "execution_count": 27,
   "id": "fb93f28b-7474-4ed4-985e-a309bbe74f19",
   "metadata": {},
   "outputs": [
    {
     "ename": "TypeError",
     "evalue": "unsupported operand type(s) for -: 'compl' and 'compl'",
     "output_type": "error",
     "traceback": [
      "\u001b[1;31m---------------------------------------------------------------------------\u001b[0m",
      "\u001b[1;31mTypeError\u001b[0m                                 Traceback (most recent call last)",
      "Cell \u001b[1;32mIn[27], line 1\u001b[0m\n\u001b[1;32m----> 1\u001b[0m a\u001b[38;5;241m-\u001b[39mb\n",
      "\u001b[1;31mTypeError\u001b[0m: unsupported operand type(s) for -: 'compl' and 'compl'"
     ]
    }
   ],
   "source": [
    "a-b"
   ]
  },
  {
   "cell_type": "code",
   "execution_count": 31,
   "id": "25a3a6c0-7a6a-4d93-9c07-dbd2cadaf6e3",
   "metadata": {},
   "outputs": [],
   "source": [
    "# - is not working now we are going to impliment the overloading "
   ]
  },
  {
   "cell_type": "code",
   "execution_count": 33,
   "id": "659bdf96-009b-435e-aae5-65ae6dbb862d",
   "metadata": {},
   "outputs": [],
   "source": [
    "class compl(object):\n",
    "    def __init__(self,a,b):\n",
    "        self.real=a\n",
    "        self.img=b\n",
    "    def print(self):\n",
    "        return f'{self.real}+j{self.img}'\n",
    "    # like this you acn overload any opertor in the python\n",
    "    def __add__(self,other):\n",
    "        #for overloading + --> a+b =>a -->self b ->other\n",
    "        return compl( (self.real+other.real),(self.img+other.img))\n",
    "    def __sub__(self,other):\n",
    "        return compl( (self.real-other.real),(self.img-other.img))"
   ]
  },
  {
   "cell_type": "code",
   "execution_count": 35,
   "id": "c4d99522-0158-4144-af55-dbb27591f831",
   "metadata": {},
   "outputs": [],
   "source": [
    "a=compl(10,4)\n",
    "b=compl(5,6)"
   ]
  },
  {
   "cell_type": "code",
   "execution_count": 47,
   "id": "9b3b1e1e-ee91-4161-ac47-bc45afdc9001",
   "metadata": {},
   "outputs": [],
   "source": [
    "x=a+b"
   ]
  },
  {
   "cell_type": "code",
   "execution_count": 55,
   "id": "cdce9c58-444d-4ede-b600-0de30c077c2f",
   "metadata": {},
   "outputs": [
    {
     "data": {
      "text/plain": [
       "'15+j10'"
      ]
     },
     "execution_count": 55,
     "metadata": {},
     "output_type": "execute_result"
    }
   ],
   "source": [
    "x.print()"
   ]
  },
  {
   "cell_type": "code",
   "execution_count": 59,
   "id": "52141721-95c0-4bbb-b17a-43d693399f32",
   "metadata": {},
   "outputs": [],
   "source": [
    "y=a-b"
   ]
  },
  {
   "cell_type": "code",
   "execution_count": 61,
   "id": "0ccd5692-5ad3-4b42-b2f8-4053a485dc92",
   "metadata": {},
   "outputs": [
    {
     "data": {
      "text/plain": [
       "'5+j-2'"
      ]
     },
     "execution_count": 61,
     "metadata": {},
     "output_type": "execute_result"
    }
   ],
   "source": [
    "y.print()"
   ]
  },
  {
   "cell_type": "code",
   "execution_count": 65,
   "id": "1dccd432-917c-416e-9d94-7570a6b3678c",
   "metadata": {},
   "outputs": [],
   "source": [
    "#another example"
   ]
  },
  {
   "cell_type": "code",
   "execution_count": null,
   "id": "19e202f5-feef-4f01-bd24-8bd5ce0bdefd",
   "metadata": {},
   "outputs": [],
   "source": []
  }
 ],
 "metadata": {
  "kernelspec": {
   "display_name": "Python 3 (ipykernel)",
   "language": "python",
   "name": "python3"
  },
  "language_info": {
   "codemirror_mode": {
    "name": "ipython",
    "version": 3
   },
   "file_extension": ".py",
   "mimetype": "text/x-python",
   "name": "python",
   "nbconvert_exporter": "python",
   "pygments_lexer": "ipython3",
   "version": "3.12.7"
  }
 },
 "nbformat": 4,
 "nbformat_minor": 5
}
