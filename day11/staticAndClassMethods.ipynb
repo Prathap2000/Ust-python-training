{
 "cells": [
  {
   "cell_type": "code",
   "execution_count": 1,
   "id": "206a05ce-402b-4090-af18-b31d98cde5dc",
   "metadata": {},
   "outputs": [],
   "source": [
    "#class methods\n",
    "#a class mrthod operates on class rather than on instance\n",
    "#it takes cls as the first parameter rather than self\n",
    "#it can be used to modify class level attributes\n",
    "#it can't modify instance level attribute"
   ]
  },
  {
   "cell_type": "code",
   "execution_count": 13,
   "id": "6caff8b1-8cd1-4676-af27-2be31d1a1c20",
   "metadata": {},
   "outputs": [],
   "source": [
    "class person:\n",
    "    def __init__(self,name,age):\n",
    "        self.name=name\n",
    "        self.age=age\n",
    "    def __repr__(self):\n",
    "        return str(self.name)+ ' ' +str(self.age)\n",
    "    def fromBirthYear(cls,name,birthYear):  #cls method bcz first argument is cls\n",
    "        return cls(name,2025 - birthYear)\n",
    "    fromBirthYear=classmethod(fromBirthYear)"
   ]
  },
  {
   "cell_type": "code",
   "execution_count": 15,
   "id": "727bb88b-2c4e-4291-abb3-b1db998cdbf9",
   "metadata": {},
   "outputs": [
    {
     "data": {
      "text/plain": [
       "prathap 25"
      ]
     },
     "execution_count": 15,
     "metadata": {},
     "output_type": "execute_result"
    }
   ],
   "source": [
    "p1=person(\"prathap\",25)\n",
    "p1"
   ]
  },
  {
   "cell_type": "code",
   "execution_count": 19,
   "id": "6a164f32-384f-449d-8317-1b87d71a6908",
   "metadata": {},
   "outputs": [
    {
     "data": {
      "text/plain": [
       "prathap 25"
      ]
     },
     "execution_count": 19,
     "metadata": {},
     "output_type": "execute_result"
    }
   ],
   "source": [
    "p2=person.fromBirthYear(\"prathap\",2000)\n",
    "p2"
   ]
  },
  {
   "cell_type": "markdown",
   "id": "7328cd1c-c013-4bb1-bb50-d3f679e3e6d4",
   "metadata": {},
   "source": [
    "#static method does not operte on self --> object/instance or cls --> class itself\n",
    "it behaves like a regular function but belongs to a class\n",
    "can be used as helper or utility functions that do not need acess to class or instance variable"
   ]
  },
  {
   "cell_type": "code",
   "execution_count": 23,
   "id": "0dfbc5cd-1ad8-4a6e-b534-929a33147f12",
   "metadata": {},
   "outputs": [],
   "source": [
    "class methops:\n",
    "    def __init__(self):\n",
    "        print(\"math ops object created\")\n",
    "    def add(x,y):\n",
    "        return x+y\n",
    "    def multiply(x,y):\n",
    "        return x*y\n",
    "    add=staticmethod(add)\n",
    "    multiply=staticmethod(multiply)\n",
    "    "
   ]
  },
  {
   "cell_type": "code",
   "execution_count": 27,
   "id": "8ffce666-87ab-451d-b29f-14c96e459bb3",
   "metadata": {},
   "outputs": [
    {
     "name": "stdout",
     "output_type": "stream",
     "text": [
      "math ops object created\n"
     ]
    }
   ],
   "source": [
    "m=methops()\n"
   ]
  },
  {
   "cell_type": "code",
   "execution_count": 29,
   "id": "040ba025-9457-4c38-9c41-cff9e0eda91f",
   "metadata": {},
   "outputs": [
    {
     "data": {
      "text/plain": [
       "5"
      ]
     },
     "execution_count": 29,
     "metadata": {},
     "output_type": "execute_result"
    }
   ],
   "source": [
    "m.add(2,3)"
   ]
  }
 ],
 "metadata": {
  "kernelspec": {
   "display_name": "Python 3 (ipykernel)",
   "language": "python",
   "name": "python3"
  },
  "language_info": {
   "codemirror_mode": {
    "name": "ipython",
    "version": 3
   },
   "file_extension": ".py",
   "mimetype": "text/x-python",
   "name": "python",
   "nbconvert_exporter": "python",
   "pygments_lexer": "ipython3",
   "version": "3.12.7"
  }
 },
 "nbformat": 4,
 "nbformat_minor": 5
}
