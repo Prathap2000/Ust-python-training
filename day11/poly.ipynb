{
 "cells": [
  {
   "cell_type": "code",
   "execution_count": 3,
   "id": "4c1b9295-132a-4145-a698-3949eb4478e3",
   "metadata": {},
   "outputs": [
    {
     "name": "stdout",
     "output_type": "stream",
     "text": [
      "----------------------------------------------------------------------------------------------------\n",
      "From Superclass\n",
      "----------------------------------------------------------------------------------------------------\n",
      "Brand      | hyndai\n",
      "Name       | 2005\n",
      "Year       | getz\n",
      "Mileage    | 20\n",
      "----------------------------------------------------------------------------------------------------\n",
      "From Subclass\n",
      "----------------------------------------------------------------------------------------------------\n",
      "Brand      | hyndai\n",
      "Name       | 2005\n",
      "Year       | getz\n",
      "Mileage    | 1000\n",
      "Battery    | -30.0\n"
     ]
    }
   ],
   "source": [
    "class Car(object):\n",
    "    nCars=0\n",
    "    #this is constructor \n",
    "    def __init__(self,brand,year,name,mileage): #double underscored=dunder variable\n",
    "        #instance variable\n",
    "        self.brand=brand\n",
    "        self.name=name\n",
    "        self.year=year\n",
    "        self.mileage=mileage\n",
    "    #member functions\n",
    "    def drive(self,distance):\n",
    "        self.mileage+=distance\n",
    "    def display_info(self):\n",
    "        print(\"Brand\".ljust(10),'|',self.brand)\n",
    "        print(\"Name\".ljust(10),'|',self.name)\n",
    "        print(\"Year\".ljust(10),'|',self.year)\n",
    "        print(\"Mileage\".ljust(10),'|',self.mileage)\n",
    "\n",
    "class Electric(Car):\n",
    "    def __init__(self, brand, year, name, mileage):\n",
    "        super().__init__(brand, year, name, mileage)\n",
    "        self.battery=0\n",
    "    def charge(self,units):\n",
    "        self.battery-=units\n",
    "\n",
    "    def drive(self,distance):\n",
    "        self.battery-=distance/10 #this is used to reduce the unit based on the distance\n",
    "    def display_info(self):\n",
    "        super().display_info()\n",
    "        print(\"Battery\".ljust(10),'|',self.battery)\n",
    "        \n",
    "#test code\n",
    "    print(\"-\"*100)\n",
    "    print(\"From Superclass\")\n",
    "    print(\"-\"*100)\n"
   ]
  },
  {
   "cell_type": "code",
   "execution_count": 15,
   "id": "99087c20-0d33-419c-8e76-5c4619d86cf4",
   "metadata": {},
   "outputs": [
    {
     "name": "stdout",
     "output_type": "stream",
     "text": [
      "Brand      | hyndai\n",
      "Name       | 2005\n",
      "Year       | getz\n",
      "Mileage    | 20\n",
      "----------------------------------------------------------------------------------------------------\n",
      "From Subclass\n",
      "----------------------------------------------------------------------------------------------------\n",
      "Brand      | hyndai\n",
      "Name       | 2005\n",
      "Year       | getz\n",
      "Mileage    | 1000\n",
      "Battery    | -30.0\n"
     ]
    }
   ],
   "source": [
    "#poly \n",
    "c=Car(\"hyndai\",\"getz\",2005,10)\n",
    "c.drive(10)\n",
    "c.display_info()\n",
    "#test code for the subclasss\n",
    "print(\"-\"*100)\n",
    "print(\"From Subclass\")\n",
    "print(\"-\"*100)\n",
    "c1=Electric(\"hyndai\",\"getz\",2005,1000)\n",
    "c1.drive(200)\n",
    "c1.charge(10)\n",
    "c1.display_info()"
   ]
  },
  {
   "cell_type": "code",
   "execution_count": 11,
   "id": "9e573a7a-d471-4097-b0e0-36b112e45317",
   "metadata": {},
   "outputs": [],
   "source": [
    "# here the display_info is act as the poly because it used for diff for t=both car and the etric both but it have the diff information to the display"
   ]
  },
  {
   "cell_type": "code",
   "execution_count": 17,
   "id": "f8f769d8-e0d0-479e-8f32-76d66f9035ca",
   "metadata": {},
   "outputs": [],
   "source": [
    "class dummy:\n",
    "    def display_info(self):\n",
    "        print(\"this is dummy class\")\n",
    "        "
   ]
  },
  {
   "cell_type": "code",
   "execution_count": 19,
   "id": "75f850ef-b144-44a4-8cb2-1e374dc38831",
   "metadata": {},
   "outputs": [
    {
     "name": "stdout",
     "output_type": "stream",
     "text": [
      "this is dummy class\n"
     ]
    }
   ],
   "source": [
    "c=dummy()\n",
    "c.display_info()"
   ]
  }
 ],
 "metadata": {
  "kernelspec": {
   "display_name": "Python 3 (ipykernel)",
   "language": "python",
   "name": "python3"
  },
  "language_info": {
   "codemirror_mode": {
    "name": "ipython",
    "version": 3
   },
   "file_extension": ".py",
   "mimetype": "text/x-python",
   "name": "python",
   "nbconvert_exporter": "python",
   "pygments_lexer": "ipython3",
   "version": "3.12.7"
  }
 },
 "nbformat": 4,
 "nbformat_minor": 5
}
