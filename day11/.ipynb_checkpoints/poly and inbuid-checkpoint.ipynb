{
 "cells": [
  {
   "cell_type": "code",
   "execution_count": 7,
   "id": "22d9c0d2-f0ee-488f-b688-3cca89321c39",
   "metadata": {},
   "outputs": [],
   "source": [
    "class Car(object):\n",
    "    nCars=0\n",
    "    #this is constructor \n",
    "    def __init__(self,brand,year,name,mileage): #double underscored=dunder variable\n",
    "        #instance variable\n",
    "        self.brand=brand\n",
    "        self.name=name\n",
    "        self.year=year\n",
    "        self.mileage=mileage\n",
    "    #member functions\n",
    "    def drive(self,distance):\n",
    "        self.mileage+=distance\n",
    "    def display_info(self):\n",
    "        print(\"Brand\".ljust(10),'|',self.brand)\n",
    "        print(\"Name\".ljust(10),'|',self.name)\n",
    "        print(\"Year\".ljust(10),'|',self.year)\n",
    "        print(\"Mileage\".ljust(10),'|',self.mileage)\n",
    "\n",
    "class Electric(Car):\n",
    "    def __init__(self, brand, year, name, mileage):\n",
    "        super().__init__(brand, year, name, mileage)\n",
    "        self.battery=0\n",
    "    def charge(self,units):\n",
    "        self.battery-=units\n",
    "\n",
    "    def drive(self,distance):\n",
    "        self.battery-=distance/10 #this is used to reduce the unit based on the distance\n",
    "    def display_info(self):\n",
    "        super().display_info()\n",
    "        print(\"Battery\".ljust(10),'|',self.battery)\n",
    "        \n",
    "\n"
   ]
  },
  {
   "cell_type": "code",
   "execution_count": 11,
   "id": "5e8c342b-2331-4e13-b82a-4ea554d27748",
   "metadata": {},
   "outputs": [
    {
     "name": "stdout",
     "output_type": "stream",
     "text": [
      "Brand      | hyndai\n",
      "Name       | 2005\n",
      "Year       | getz\n",
      "Mileage    | 20\n",
      "----------------------------------------------------------------------------------------------------\n",
      "From Subclass\n",
      "----------------------------------------------------------------------------------------------------\n",
      "Brand      | hyndai\n",
      "Name       | 2005\n",
      "Year       | getz\n",
      "Mileage    | 1000\n",
      "Battery    | -30.0\n"
     ]
    }
   ],
   "source": [
    "#poly \n",
    "c=Car(\"hyndai\",\"getz\",2005,10)\n",
    "c.drive(10)\n",
    "c.display_info()\n",
    "#test code for the subclasss\n",
    "print(\"-\"*100)\n",
    "print(\"From Subclass\")\n",
    "print(\"-\"*100)\n",
    "c1=Electric(\"hyndai\",\"getz\",2005,1000)\n",
    "c1.drive(200)\n",
    "c1.charge(10)\n",
    "c1.display_info()"
   ]
  },
  {
   "cell_type": "code",
   "execution_count": 13,
   "id": "3e5d40b7-fb5e-47e8-ab57-ed4b55d15288",
   "metadata": {},
   "outputs": [],
   "source": [
    "#build i function"
   ]
  },
  {
   "cell_type": "code",
   "execution_count": 19,
   "id": "79972bfa-157d-4a61-a27e-c231919a15de",
   "metadata": {},
   "outputs": [
    {
     "data": {
      "text/plain": [
       "'hyndai'"
      ]
     },
     "execution_count": 19,
     "metadata": {},
     "output_type": "execute_result"
    }
   ],
   "source": [
    "getattr(c,\"brand\") #it is used to get the valued from the objects"
   ]
  },
  {
   "cell_type": "code",
   "execution_count": 25,
   "id": "e62345ef-c5fe-4917-a60c-15f786fdea0b",
   "metadata": {},
   "outputs": [
    {
     "data": {
      "text/plain": [
       "(True, False)"
      ]
     },
     "execution_count": 25,
     "metadata": {},
     "output_type": "execute_result"
    }
   ],
   "source": [
    "hasattr(c,\"brand\"),hasattr(c,\"su\") #its is used to check it in that object have this valuye or not "
   ]
  },
  {
   "cell_type": "code",
   "execution_count": 27,
   "id": "00cd0e2f-e0db-4539-8a0a-0ac4161231cb",
   "metadata": {},
   "outputs": [],
   "source": [
    "setattr(c1,\"su\",'True') #its is uded to add the attribute to the object after create using dynamically "
   ]
  },
  {
   "cell_type": "code",
   "execution_count": 31,
   "id": "f1bd7432-4c67-4a13-979f-567c0873776a",
   "metadata": {},
   "outputs": [
    {
     "data": {
      "text/plain": [
       "(True, True)"
      ]
     },
     "execution_count": 31,
     "metadata": {},
     "output_type": "execute_result"
    }
   ],
   "source": [
    "hasattr(c,\"brand\"),hasattr(c1,\"su\") #setattr is tested in this\n"
   ]
  },
  {
   "cell_type": "code",
   "execution_count": 35,
   "id": "0a360800-ed94-42e6-b35c-13bed1a12f6a",
   "metadata": {},
   "outputs": [
    {
     "ename": "AttributeError",
     "evalue": "'Electric' object has no attribute 'su'",
     "output_type": "error",
     "traceback": [
      "\u001b[1;31m---------------------------------------------------------------------------\u001b[0m",
      "\u001b[1;31mAttributeError\u001b[0m                            Traceback (most recent call last)",
      "Cell \u001b[1;32mIn[35], line 1\u001b[0m\n\u001b[1;32m----> 1\u001b[0m \u001b[38;5;28mdelattr\u001b[39m(c1,\u001b[38;5;124m\"\u001b[39m\u001b[38;5;124msu\u001b[39m\u001b[38;5;124m\"\u001b[39m)\n",
      "\u001b[1;31mAttributeError\u001b[0m: 'Electric' object has no attribute 'su'"
     ]
    }
   ],
   "source": [
    "delattr(c1,\"su\") #this is used to delete the attribute in the object after create the attribute dynamically "
   ]
  },
  {
   "cell_type": "code",
   "execution_count": 37,
   "id": "3bad9dfd-7259-4fab-aed4-258941849f67",
   "metadata": {},
   "outputs": [],
   "source": [
    " #build in modelue -operator "
   ]
  },
  {
   "cell_type": "code",
   "execution_count": 43,
   "id": "55035279-454c-4508-ad49-230b682dedc2",
   "metadata": {},
   "outputs": [],
   "source": [
    "from operator import itemgetter,methodcaller,attrgetter #module "
   ]
  },
  {
   "cell_type": "code",
   "execution_count": 47,
   "id": "8d9d5fec-6d91-43c5-974e-a4eeaf5fc526",
   "metadata": {},
   "outputs": [
    {
     "data": {
      "text/plain": [
       "'apples'"
      ]
     },
     "execution_count": 47,
     "metadata": {},
     "output_type": "execute_result"
    }
   ],
   "source": [
    "itemgetter(1)([\"banana\",\"apples\",\"cherry\"])"
   ]
  },
  {
   "cell_type": "code",
   "execution_count": 71,
   "id": "8aa01802-431a-4c57-b79a-65b17df5ac28",
   "metadata": {},
   "outputs": [],
   "source": [
    "class Person:\n",
    "    def __init__(self,name,age):\n",
    "        self.name=name\n",
    "        self.age=age\n",
    "    def greet(self):\n",
    "        return f\"My name is {self.name} and age is {self.age}\""
   ]
  },
  {
   "cell_type": "code",
   "execution_count": 73,
   "id": "bddd38fd-529c-4907-814c-8966e282a576",
   "metadata": {},
   "outputs": [],
   "source": [
    "people=[\n",
    "    Person(\"Anil\",35),\n",
    "    Person(\"prathap\",25),\n",
    "    Person(\"Sadris\",99)]"
   ]
  },
  {
   "cell_type": "code",
   "execution_count": 75,
   "id": "63c2642d-fb2c-4b8c-a89d-49352dacbbca",
   "metadata": {},
   "outputs": [
    {
     "data": {
      "text/plain": [
       "[<__main__.Person at 0x230a56b28a0>,\n",
       " <__main__.Person at 0x230a56b27e0>,\n",
       " <__main__.Person at 0x230a56b30e0>]"
      ]
     },
     "execution_count": 75,
     "metadata": {},
     "output_type": "execute_result"
    }
   ],
   "source": [
    "people\n"
   ]
  },
  {
   "cell_type": "code",
   "execution_count": 77,
   "id": "924c0087-1cc8-4040-96f3-6fbd4ef6dd58",
   "metadata": {},
   "outputs": [
    {
     "data": {
      "text/plain": [
       "<__main__.Person at 0x230a56b27e0>"
      ]
     },
     "execution_count": 77,
     "metadata": {},
     "output_type": "execute_result"
    }
   ],
   "source": [
    "itemgetter(1)(people)"
   ]
  },
  {
   "cell_type": "code",
   "execution_count": 79,
   "id": "0c7f99c8-1507-4424-a563-40cb2f263a46",
   "metadata": {},
   "outputs": [
    {
     "data": {
      "text/plain": [
       "'prathap'"
      ]
     },
     "execution_count": 79,
     "metadata": {},
     "output_type": "execute_result"
    }
   ],
   "source": [
    "attrgetter('name')(people[1])"
   ]
  },
  {
   "cell_type": "code",
   "execution_count": 81,
   "id": "6934bd98-448d-4c5a-b291-ebe6ee7a3017",
   "metadata": {},
   "outputs": [
    {
     "data": {
      "text/plain": [
       "'My name is Sadris and age is 99'"
      ]
     },
     "execution_count": 81,
     "metadata": {},
     "output_type": "execute_result"
    }
   ],
   "source": [
    "methodcaller(\"greet\")(people[2])"
   ]
  },
  {
   "cell_type": "code",
   "execution_count": 87,
   "id": "5bbc0620-f635-4917-8cb7-c4756a4c2372",
   "metadata": {},
   "outputs": [],
   "source": [
    "#extract all the name\n",
    "names=list(map(attrgetter(\"name\"),people))\n",
    "ages=list(map(attrgetter(\"age\"),people))\n"
   ]
  },
  {
   "cell_type": "code",
   "execution_count": 89,
   "id": "bfe71df7-6ee7-4967-a264-ae23a57ddd4f",
   "metadata": {},
   "outputs": [
    {
     "data": {
      "text/plain": [
       "['Anil', 'prathap', 'Sadris']"
      ]
     },
     "execution_count": 89,
     "metadata": {},
     "output_type": "execute_result"
    }
   ],
   "source": [
    "names"
   ]
  },
  {
   "cell_type": "code",
   "execution_count": 97,
   "id": "81d82087-1a09-4796-9548-e7ddc34fd1ef",
   "metadata": {},
   "outputs": [
    {
     "data": {
      "text/plain": [
       "[35, 25, 99]"
      ]
     },
     "execution_count": 97,
     "metadata": {},
     "output_type": "execute_result"
    }
   ],
   "source": [
    "ages"
   ]
  },
  {
   "cell_type": "code",
   "execution_count": 99,
   "id": "09f2acc9-7c34-46be-8df1-e6e5a3e8c740",
   "metadata": {},
   "outputs": [
    {
     "data": {
      "text/plain": [
       "{'Anil': 35, 'prathap': 25, 'Sadris': 99}"
      ]
     },
     "execution_count": 99,
     "metadata": {},
     "output_type": "execute_result"
    }
   ],
   "source": [
    "dict(zip(names,ages))"
   ]
  },
  {
   "cell_type": "code",
   "execution_count": null,
   "id": "40276c5a-22e5-44e0-b7bb-62896e7ad7e5",
   "metadata": {},
   "outputs": [],
   "source": []
  }
 ],
 "metadata": {
  "kernelspec": {
   "display_name": "Python 3 (ipykernel)",
   "language": "python",
   "name": "python3"
  },
  "language_info": {
   "codemirror_mode": {
    "name": "ipython",
    "version": 3
   },
   "file_extension": ".py",
   "mimetype": "text/x-python",
   "name": "python",
   "nbconvert_exporter": "python",
   "pygments_lexer": "ipython3",
   "version": "3.12.7"
  }
 },
 "nbformat": 4,
 "nbformat_minor": 5
}
