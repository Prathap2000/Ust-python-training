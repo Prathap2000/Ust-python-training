{
 "cells": [
  {
   "cell_type": "code",
   "execution_count": 1,
   "id": "24e70098-3794-44ac-99aa-c20cbdfaf11a",
   "metadata": {},
   "outputs": [],
   "source": [
    "#task1"
   ]
  },
  {
   "cell_type": "code",
   "execution_count": 149,
   "id": "bedc9f1a-5184-4205-82e8-fc142495b962",
   "metadata": {},
   "outputs": [
    {
     "name": "stdout",
     "output_type": "stream",
     "text": [
      "P L E P A S\n"
     ]
    }
   ],
   "source": [
    "import random\n",
    "\n",
    "def jumble(text):\n",
    "    words = text.split()  # Split the string into words\n",
    "    jumbled_words = []\n",
    "\n",
    "    for word in words:\n",
    "\n",
    "\n",
    "        \n",
    "        if len(word) <= 1:\n",
    "            jumbled_words.append(word.upper())\n",
    "            continue\n",
    "\n",
    "        chars = list(word)\n",
    "        random.shuffle(chars)\n",
    "        jumbled_words.append(\" \".join(char.upper() for char in chars))\n",
    "\n",
    "    return \" \".join(jumbled_words)\n",
    "\n",
    "print(jumble(\"apples\"))\n"
   ]
  },
  {
   "cell_type": "code",
   "execution_count": null,
   "id": "0a49def9-0752-4eab-acd7-17ca8f0ab9ba",
   "metadata": {},
   "outputs": [],
   "source": [
    "#task2"
   ]
  },
  {
   "cell_type": "code",
   "execution_count": 161,
   "id": "2d96ee42-25f4-4ef2-8174-b7d4c8eae086",
   "metadata": {},
   "outputs": [
    {
     "data": {
      "text/plain": [
       "[0, 1, 1, 2, 3, 5, 8, 13]"
      ]
     },
     "execution_count": 161,
     "metadata": {},
     "output_type": "execute_result"
    }
   ],
   "source": [
    "def fabi(n):\n",
    "    num=[]\n",
    "    a,b=0,1    \n",
    "    for _ in range(n):\n",
    "        num.append(a)\n",
    "        a, b = b, a + b\n",
    "    return num\n",
    "fabi(8)\n",
    "    "
   ]
  },
  {
   "cell_type": "code",
   "execution_count": 167,
   "id": "5a2fc463-969a-49de-8c00-260b8ceb2fb5",
   "metadata": {},
   "outputs": [
    {
     "name": "stdout",
     "output_type": "stream",
     "text": [
      "The 10th Fibonacci number is: 55\n"
     ]
    }
   ],
   "source": [
    "def fibonacci_iterative(n):\n",
    "    if n <= 1:\n",
    "        return n\n",
    "    a, b = 0, 1\n",
    "    for _ in range(n - 1):\n",
    "        a, b = b, a + b\n",
    "    return b\n",
    "\n",
    "# Example: Find the 10th Fibonacci number\n",
    "n = 10\n",
    "result = fibonacci_iterative(n)\n",
    "print(f\"The {n}th Fibonacci number is: {result}\")"
   ]
  },
  {
   "cell_type": "code",
   "execution_count": 165,
   "id": "dcfa1f3f-2e9e-499a-9beb-74b67031ea8d",
   "metadata": {},
   "outputs": [],
   "source": [
    "#task3"
   ]
  },
  {
   "cell_type": "code",
   "execution_count": 185,
   "id": "661a70f7-77b1-42ee-afc5-3eae1279e609",
   "metadata": {},
   "outputs": [
    {
     "name": "stdout",
     "output_type": "stream",
     "text": [
      "{'a': 60, 'b': 30, 'c': 50}\n"
     ]
    }
   ],
   "source": [
    "def merge_dictionaries(d1, d2):\n",
    "    merged = d1.copy()\n",
    "    for key, value in d2.items():\n",
    "        if key in merged and isinstance(merged[key], (int, float)) and isinstance(value, (int, float)):\n",
    "            merged[key] += value\n",
    "        else:\n",
    "            merged[key] = value\n",
    "    return merged\n",
    "\n",
    "# Example usage:\n",
    "d1 = {'a': 20, 'b': 30}\n",
    "d2 = {'a': 40, 'c': 50}\n",
    "result = merge_dictionaries(d1, d2)\n",
    "print(result)  # Output: {'a': 20, 'b': 70, 'c': 50}\n",
    "\n"
   ]
  }
 ],
 "metadata": {
  "kernelspec": {
   "display_name": "Python 3 (ipykernel)",
   "language": "python",
   "name": "python3"
  },
  "language_info": {
   "codemirror_mode": {
    "name": "ipython",
    "version": 3
   },
   "file_extension": ".py",
   "mimetype": "text/x-python",
   "name": "python",
   "nbconvert_exporter": "python",
   "pygments_lexer": "ipython3",
   "version": "3.12.7"
  }
 },
 "nbformat": 4,
 "nbformat_minor": 5
}
