{
 "cells": [
  {
   "cell_type": "code",
   "execution_count": 34,
   "id": "faa2d09e-057c-4668-a4c5-fe21cc6e40b6",
   "metadata": {},
   "outputs": [
    {
     "name": "stdout",
     "output_type": "stream",
     "text": [
      "0.0009999275207519531\n"
     ]
    }
   ],
   "source": [
    "import time\n",
    "\n",
    "start = time.time()\n",
    "c=[x*x for x in range(1,1000)]\n",
    "# print(list(c))\n",
    "# # for i in range(1, 1001):\n",
    "# #   square = i * i\n",
    "\n",
    "end = time.time()\n",
    "time_taken = end - start\n",
    "print(time_taken)\n",
    "\n",
    "# print(\"Time taken:\", time_taken)"
   ]
  },
  {
   "cell_type": "code",
   "execution_count": 46,
   "id": "85237a54-ae82-4ab0-b92a-f85e7506d118",
   "metadata": {},
   "outputs": [],
   "source": [
    "#function helps in max od code reuse\n",
    "#fun is min redundacy (like duplicaTE AND UNWANTED CODE)\n",
    "# proceduraldecomposition is the dividing large project into smaller module and test and merge"
   ]
  },
  {
   "cell_type": "code",
   "execution_count": 50,
   "id": "ee4e0b2d-9465-4410-a5cf-f76bbdb55dfa",
   "metadata": {},
   "outputs": [],
   "source": [
    "#def is am execuatable code\n",
    "#return function made the fun exit\n",
    "#parameter that are place in the ()"
   ]
  },
  {
   "cell_type": "code",
   "execution_count": 82,
   "id": "88e3032d-bccb-4d38-8f11-1081f55d7e8e",
   "metadata": {},
   "outputs": [
    {
     "data": {
      "text/plain": [
       "[1, 2, 5]"
      ]
     },
     "execution_count": 82,
     "metadata": {},
     "output_type": "execute_result"
    }
   ],
   "source": [
    "def chechprime(num):\n",
    "    p=[x for x in range(1,num )if num%x==0 ]\n",
    "    return p\n",
    "chechprime(10)"
   ]
  },
  {
   "cell_type": "code",
   "execution_count": 86,
   "id": "5156b658-3731-4859-a277-5cddf8961094",
   "metadata": {},
   "outputs": [
    {
     "data": {
      "text/plain": [
       "-1"
      ]
     },
     "execution_count": 86,
     "metadata": {},
     "output_type": "execute_result"
    }
   ],
   "source": [
    "def getmaxprime(start,end):\n",
    "    for x in range(start,end-1,-1):\n",
    "        if chechprime(x):\n",
    "            return x\n",
    "    return -1\n",
    "getmaxprime(10,20)"
   ]
  },
  {
   "cell_type": "code",
   "execution_count": null,
   "id": "2aa41e5a-1eaa-4da1-b903-818b5c1ae469",
   "metadata": {},
   "outputs": [],
   "source": [
    "#scope refers to namespace \n",
    "#namespace is the space allocated to that piace of code"
   ]
  },
  {
   "cell_type": "code",
   "execution_count": 89,
   "id": "4ae91878-8403-4d81-b281-aec4d603f55d",
   "metadata": {},
   "outputs": [],
   "source": [
    "#scope of variables"
   ]
  },
  {
   "cell_type": "code",
   "execution_count": 103,
   "id": "1778e8b1-0de7-446b-bf06-1a551392c392",
   "metadata": {},
   "outputs": [
    {
     "name": "stdout",
     "output_type": "stream",
     "text": [
      "9\n"
     ]
    }
   ],
   "source": [
    "#global variable\n",
    "num=10 # gloabl have less periority camp to local\n",
    "def blc():\n",
    "    num=9 #local it have more periotity\n",
    "    print(num)\n",
    "blc()\n",
    "    "
   ]
  },
  {
   "cell_type": "code",
   "execution_count": 105,
   "id": "849adfd4-a433-46c8-baa6-6035539c3cad",
   "metadata": {},
   "outputs": [],
   "source": [
    "#understanding the non local value"
   ]
  },
  {
   "cell_type": "code",
   "execution_count": 119,
   "id": "1849a126-7b73-4dac-b0ea-b790c5be09f0",
   "metadata": {},
   "outputs": [
    {
     "data": {
      "text/plain": [
       "300"
      ]
     },
     "execution_count": 119,
     "metadata": {},
     "output_type": "execute_result"
    }
   ],
   "source": [
    "p=10\n",
    "def getObj(choice):\n",
    "    p=2 # its called non loacl variable\n",
    "    def funAdd(a,b):\n",
    "        global p # this is used to used the global var from the global scope\n",
    "        return (a+b)*p\n",
    "    def funsub(a,b):\n",
    "        return (a-b)*p\n",
    "    def fundiv(a,b):\n",
    "        return (a/b)*p\n",
    "    return funAdd if choice==1  else fundiv #ternary opertaion\n",
    "f=getObj(1)\n",
    "f(10,20)\n",
    "    \n",
    "    \n",
    "        \n",
    "    "
   ]
  },
  {
   "cell_type": "code",
   "execution_count": null,
   "id": "0b7cf5e3-8ba3-40a4-8335-d17dd6af1e80",
   "metadata": {},
   "outputs": [],
   "source": []
  }
 ],
 "metadata": {
  "kernelspec": {
   "display_name": "Python 3 (ipykernel)",
   "language": "python",
   "name": "python3"
  },
  "language_info": {
   "codemirror_mode": {
    "name": "ipython",
    "version": 3
   },
   "file_extension": ".py",
   "mimetype": "text/x-python",
   "name": "python",
   "nbconvert_exporter": "python",
   "pygments_lexer": "ipython3",
   "version": "3.12.7"
  }
 },
 "nbformat": 4,
 "nbformat_minor": 5
}
