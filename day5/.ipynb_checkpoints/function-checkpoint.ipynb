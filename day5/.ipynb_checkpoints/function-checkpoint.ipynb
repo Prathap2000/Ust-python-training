{
 "cells": [
  {
   "cell_type": "code",
   "execution_count": 34,
   "id": "faa2d09e-057c-4668-a4c5-fe21cc6e40b6",
   "metadata": {},
   "outputs": [
    {
     "name": "stdout",
     "output_type": "stream",
     "text": [
      "0.0009999275207519531\n"
     ]
    }
   ],
   "source": [
    "import time\n",
    "\n",
    "start = time.time()\n",
    "c=[x*x for x in range(1,1000)]\n",
    "# print(list(c))\n",
    "# # for i in range(1, 1001):\n",
    "# #   square = i * i\n",
    "\n",
    "end = time.time()\n",
    "time_taken = end - start\n",
    "print(time_taken)\n",
    "\n",
    "# print(\"Time taken:\", time_taken)"
   ]
  },
  {
   "cell_type": "code",
   "execution_count": 46,
   "id": "85237a54-ae82-4ab0-b92a-f85e7506d118",
   "metadata": {},
   "outputs": [],
   "source": [
    "#function helps in max od code reuse\n",
    "#fun is min redundacy (like duplicaTE AND UNWANTED CODE)\n",
    "# proceduraldecomposition is the dividing large project into smaller module and test and merge"
   ]
  },
  {
   "cell_type": "code",
   "execution_count": 50,
   "id": "ee4e0b2d-9465-4410-a5cf-f76bbdb55dfa",
   "metadata": {},
   "outputs": [],
   "source": [
    "#def is am execuatable code\n",
    "#return function made the fun exit\n",
    "#parameter that are place in the ()"
   ]
  },
  {
   "cell_type": "code",
   "execution_count": 82,
   "id": "88e3032d-bccb-4d38-8f11-1081f55d7e8e",
   "metadata": {},
   "outputs": [
    {
     "data": {
      "text/plain": [
       "[1, 2, 5]"
      ]
     },
     "execution_count": 82,
     "metadata": {},
     "output_type": "execute_result"
    }
   ],
   "source": [
    "def chechprime(num):\n",
    "    p=[x for x in range(1,num )if num%x==0 ]\n",
    "    return p\n",
    "chechprime(10)"
   ]
  },
  {
   "cell_type": "code",
   "execution_count": 86,
   "id": "5156b658-3731-4859-a277-5cddf8961094",
   "metadata": {},
   "outputs": [
    {
     "data": {
      "text/plain": [
       "-1"
      ]
     },
     "execution_count": 86,
     "metadata": {},
     "output_type": "execute_result"
    }
   ],
   "source": [
    "def getmaxprime(start,end):\n",
    "    for x in range(start,end-1,-1):\n",
    "        if chechprime(x):\n",
    "            return x\n",
    "    return -1\n",
    "getmaxprime(10,20)"
   ]
  },
  {
   "cell_type": "code",
   "execution_count": null,
   "id": "2aa41e5a-1eaa-4da1-b903-818b5c1ae469",
   "metadata": {},
   "outputs": [],
   "source": [
    "#scope refers to namespace \n",
    "#namespace is the space allocated to that piace of code"
   ]
  },
  {
   "cell_type": "code",
   "execution_count": 89,
   "id": "4ae91878-8403-4d81-b281-aec4d603f55d",
   "metadata": {},
   "outputs": [],
   "source": [
    "#scope of variables"
   ]
  },
  {
   "cell_type": "code",
   "execution_count": 103,
   "id": "1778e8b1-0de7-446b-bf06-1a551392c392",
   "metadata": {},
   "outputs": [
    {
     "name": "stdout",
     "output_type": "stream",
     "text": [
      "9\n"
     ]
    }
   ],
   "source": [
    "#global variable\n",
    "num=10 # gloabl have less periority camp to local\n",
    "def blc():\n",
    "    num=9 #local it have more periotity\n",
    "    print(num)\n",
    "blc()\n",
    "    "
   ]
  },
  {
   "cell_type": "code",
   "execution_count": 105,
   "id": "849adfd4-a433-46c8-baa6-6035539c3cad",
   "metadata": {},
   "outputs": [],
   "source": [
    "#understanding the non local value"
   ]
  },
  {
   "cell_type": "code",
   "execution_count": 119,
   "id": "1849a126-7b73-4dac-b0ea-b790c5be09f0",
   "metadata": {},
   "outputs": [
    {
     "data": {
      "text/plain": [
       "300"
      ]
     },
     "execution_count": 119,
     "metadata": {},
     "output_type": "execute_result"
    }
   ],
   "source": [
    "p=10\n",
    "def getObj(choice):\n",
    "    p=2 # its called non loacl variable\n",
    "    def funAdd(a,b):\n",
    "        global p # this is used to used the global var from the global scope\n",
    "        return (a+b)*p\n",
    "    def funsub(a,b):\n",
    "        return (a-b)*p\n",
    "    def fundiv(a,b):\n",
    "        return (a/b)*p\n",
    "    return funAdd if choice==1  else fundiv #ternary opertaion\n",
    "f=getObj(1)\n",
    "f(10,20)\n",
    "    \n",
    "    \n",
    "        \n",
    "    "
   ]
  },
  {
   "cell_type": "code",
   "execution_count": 121,
   "id": "0b7cf5e3-8ba3-40a4-8335-d17dd6af1e80",
   "metadata": {},
   "outputs": [],
   "source": [
    "#required arguements"
   ]
  },
  {
   "cell_type": "code",
   "execution_count": 123,
   "id": "added76f-8860-46cb-ab93-64c829f72522",
   "metadata": {},
   "outputs": [
    {
     "data": {
      "text/plain": [
       "3.0"
      ]
     },
     "execution_count": 123,
     "metadata": {},
     "output_type": "execute_result"
    }
   ],
   "source": [
    "def avg(n1,n2,n3):\n",
    "    return (n1+n2+n3)/3\n",
    "avg(2,3,4) # during function call match the number of arguments in the function definition"
   ]
  },
  {
   "cell_type": "code",
   "execution_count": 125,
   "id": "4110e708-fec8-4e30-bcf5-b2be760df7de",
   "metadata": {},
   "outputs": [],
   "source": [
    "#arbitary arguments"
   ]
  },
  {
   "cell_type": "code",
   "execution_count": 127,
   "id": "8d073a1a-47cd-4e91-8042-84ff3a2f853d",
   "metadata": {},
   "outputs": [],
   "source": [
    "#you can't write avg function for different number of arguments ,can a single avg() handel number of arguments"
   ]
  },
  {
   "cell_type": "code",
   "execution_count": 135,
   "id": "26a61d5b-3c69-4672-be59-3404cfae99f4",
   "metadata": {},
   "outputs": [
    {
     "data": {
      "text/plain": [
       "5.7"
      ]
     },
     "execution_count": 135,
     "metadata": {},
     "output_type": "execute_result"
    }
   ],
   "source": [
    "def avg(*n):\n",
    "    return sum(n)/len(n)\n",
    "avg(1,2,2,3,3,3,3,33,3,4) # all the arguments are passe as the tuple"
   ]
  },
  {
   "cell_type": "code",
   "execution_count": 139,
   "id": "7be52ae8-6bf0-4959-8a9e-1bd7f30b0b5f",
   "metadata": {},
   "outputs": [],
   "source": [
    "#references"
   ]
  },
  {
   "cell_type": "code",
   "execution_count": 157,
   "id": "1cb75bbd-4ab7-4071-84db-1defe718d7cb",
   "metadata": {},
   "outputs": [
    {
     "data": {
      "text/plain": [
       "['p', 'y', 't', 'h', 'o', 'n']"
      ]
     },
     "execution_count": 157,
     "metadata": {},
     "output_type": "execute_result"
    }
   ],
   "source": [
    "def change(L):\n",
    "    L.append(list(\"ptrathap\"))\n",
    "    return\n",
    "s=list(\"python\")\n",
    "s"
   ]
  },
  {
   "cell_type": "code",
   "execution_count": 159,
   "id": "8c1c2cfb-8b83-4184-a2fc-8a8033ecf1a5",
   "metadata": {},
   "outputs": [],
   "source": [
    "change(s)"
   ]
  },
  {
   "cell_type": "code",
   "execution_count": 161,
   "id": "803471be-bf74-4684-acd9-d493eee283e2",
   "metadata": {},
   "outputs": [
    {
     "data": {
      "text/plain": [
       "['p', 'y', 't', 'h', 'o', 'n', ['p', 't', 'r', 'a', 't', 'h', 'a', 'p']]"
      ]
     },
     "execution_count": 161,
     "metadata": {},
     "output_type": "execute_result"
    }
   ],
   "source": [
    "s"
   ]
  },
  {
   "cell_type": "code",
   "execution_count": 165,
   "id": "cf87e14f-0dcd-4338-8a79-7243857b0fa7",
   "metadata": {},
   "outputs": [],
   "source": [
    "#default argument"
   ]
  },
  {
   "cell_type": "code",
   "execution_count": 169,
   "id": "0ceb66e4-75b1-42d7-add1-33df0f9bfb40",
   "metadata": {},
   "outputs": [],
   "source": [
    "#variable length arguments"
   ]
  },
  {
   "cell_type": "code",
   "execution_count": 189,
   "id": "72718b47-e1b1-4cd8-9f3a-847266240568",
   "metadata": {},
   "outputs": [],
   "source": [
    "def func(a,b,c,*tagrs,**kagrs): #*tagrs is tuple arguments **kagrs fro the key value pair\n",
    "    print(a,b,c)\n",
    "    print(tagrs)\n",
    "    print(kagrs)"
   ]
  },
  {
   "cell_type": "code",
   "execution_count": 193,
   "id": "b161c386-32af-43eb-8f9a-9c6729c074c7",
   "metadata": {},
   "outputs": [
    {
     "name": "stdout",
     "output_type": "stream",
     "text": [
      "1 2 3\n",
      "(4, 5, 6)\n",
      "{'name': 'python', 'age': 56}\n"
     ]
    }
   ],
   "source": [
    "func(1,2,3,4,5,6,name=\"python\",age=56)"
   ]
  },
  {
   "cell_type": "code",
   "execution_count": 197,
   "id": "1f9df1ef-b311-46a4-b966-794198006376",
   "metadata": {},
   "outputs": [
    {
     "name": "stdout",
     "output_type": "stream",
     "text": [
      "1 2 3\n",
      "()\n",
      "{}\n"
     ]
    }
   ],
   "source": [
    "func(1,2,3)"
   ]
  },
  {
   "cell_type": "code",
   "execution_count": 201,
   "id": "d4f86178-257e-4db6-81f2-a1c1253fc80d",
   "metadata": {},
   "outputs": [],
   "source": [
    "#recursive function"
   ]
  },
  {
   "cell_type": "code",
   "execution_count": null,
   "id": "653e3057-bf18-45d3-8432-8eca4ff059bc",
   "metadata": {},
   "outputs": [],
   "source": []
  }
 ],
 "metadata": {
  "kernelspec": {
   "display_name": "Python 3 (ipykernel)",
   "language": "python",
   "name": "python3"
  },
  "language_info": {
   "codemirror_mode": {
    "name": "ipython",
    "version": 3
   },
   "file_extension": ".py",
   "mimetype": "text/x-python",
   "name": "python",
   "nbconvert_exporter": "python",
   "pygments_lexer": "ipython3",
   "version": "3.12.7"
  }
 },
 "nbformat": 4,
 "nbformat_minor": 5
}
