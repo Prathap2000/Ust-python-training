{
 "cells": [
  {
   "cell_type": "code",
   "execution_count": null,
   "id": "a4d59b1a-3b4a-44f5-8a3d-220b00a7edd7",
   "metadata": {},
   "outputs": [],
   "source": [
    "#task 1"
   ]
  },
  {
   "cell_type": "code",
   "execution_count": 105,
   "id": "1017c7af-b77d-4a9d-851f-702516bf2978",
   "metadata": {},
   "outputs": [
    {
     "name": "stdout",
     "output_type": "stream",
     "text": [
      "It will take  3.80 years to double an cash of 1000 at a 20.0% interest rate.\n"
     ]
    }
   ],
   "source": [
    "import math\n",
    "# fun to find the time \n",
    "def timee(rate):\n",
    "     return math.log(2) / math.log(1 + rate) # this is used for the time taken call, got formula from google\n",
    "cash=1000\n",
    "rate=0.02 # the rate shoud be given in the rate/100 format\n",
    "time= timee(rate)\n",
    "if time is not None:\n",
    "        print(f\"It will take  {time:.2f} years to double an cash of {cash} at a {rate *100 }% interest rate.\")"
   ]
  },
  {
   "cell_type": "code",
   "execution_count": 109,
   "id": "27e4cad4-0cf1-43ff-a94a-ae945a8d830e",
   "metadata": {},
   "outputs": [
    {
     "data": {
      "text/plain": [
       "50"
      ]
     },
     "execution_count": 109,
     "metadata": {},
     "output_type": "execute_result"
    }
   ],
   "source": [
    "#working good \n",
    "def doublee(cash,rate):\n",
    "    amount=cash\n",
    "    year=0\n",
    "    while amount <cash *2:\n",
    "        inst=cash*(rate/100)\n",
    "        amount=amount+inst\n",
    "        year+=1\n",
    "    return year\n",
    "doublee(1000,2)\n",
    "        "
   ]
  },
  {
   "cell_type": "code",
   "execution_count": 39,
   "id": "f31c83ce-89d4-4f35-8b34-277d12cdf9fe",
   "metadata": {},
   "outputs": [],
   "source": [
    "#task2"
   ]
  },
  {
   "cell_type": "code",
   "execution_count": 45,
   "id": "e02f2601-752a-45ab-9cbb-b6ab6569f205",
   "metadata": {},
   "outputs": [
    {
     "data": {
      "text/plain": [
       "56"
      ]
     },
     "execution_count": 45,
     "metadata": {},
     "output_type": "execute_result"
    }
   ],
   "source": [
    "def maxInList(n):\n",
    "    n.sort() #sort the list\n",
    "    return(n[-2]) # return tehe last second using -ve index\n",
    "m=[34, 56, 67, 43]\n",
    "maxInList(m)"
   ]
  },
  {
   "cell_type": "code",
   "execution_count": 49,
   "id": "b10672a3-06b0-4c37-b456-55fcc48eb885",
   "metadata": {},
   "outputs": [],
   "source": [
    "#task3"
   ]
  },
  {
   "cell_type": "code",
   "execution_count": 75,
   "id": "a64a7e20-238a-45be-9eab-e7711d6d14b7",
   "metadata": {},
   "outputs": [
    {
     "name": "stdout",
     "output_type": "stream",
     "text": [
      "    @\n",
      "   @@@\n",
      "  @@@@@\n",
      " @@@@@@@\n",
      "@@@@@@@@@\n"
     ]
    }
   ],
   "source": [
    "def genPyramic(n,symbol): \n",
    "    for i in range(n): #loop\n",
    "        print(\" \" * (n - i - 1) + symbol * (2 * i + 1)) #this will print the lie\n",
    "genPyramic(5,\"@\")"
   ]
  }
 ],
 "metadata": {
  "kernelspec": {
   "display_name": "Python 3 (ipykernel)",
   "language": "python",
   "name": "python3"
  },
  "language_info": {
   "codemirror_mode": {
    "name": "ipython",
    "version": 3
   },
   "file_extension": ".py",
   "mimetype": "text/x-python",
   "name": "python",
   "nbconvert_exporter": "python",
   "pygments_lexer": "ipython3",
   "version": "3.12.7"
  }
 },
 "nbformat": 4,
 "nbformat_minor": 5
}
