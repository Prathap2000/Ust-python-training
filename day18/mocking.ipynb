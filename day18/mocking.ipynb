{
 "cells": [
  {
   "cell_type": "code",
   "execution_count": null,
   "id": "c532a7d9-6dde-48fa-949d-ab1a6f143899",
   "metadata": {},
   "outputs": [],
   "source": [
    "from unittest\n",
    "from greet import greet\n",
    "\n"
   ]
  },
  {
   "cell_type": "code",
   "execution_count": 5,
   "id": "e7803d09-5bb7-4457-9ce2-0b29e2e24716",
   "metadata": {},
   "outputs": [],
   "source": [
    "#mocking nothing but change the inbuild function "
   ]
  },
  {
   "cell_type": "code",
   "execution_count": null,
   "id": "64ad6c37-0cc1-42e6-84ef-ee4939b343bc",
   "metadata": {},
   "outputs": [],
   "source": []
  }
 ],
 "metadata": {
  "kernelspec": {
   "display_name": "Python 3 (ipykernel)",
   "language": "python",
   "name": "python3"
  },
  "language_info": {
   "codemirror_mode": {
    "name": "ipython",
    "version": 3
   },
   "file_extension": ".py",
   "mimetype": "text/x-python",
   "name": "python",
   "nbconvert_exporter": "python",
   "pygments_lexer": "ipython3",
   "version": "3.12.7"
  }
 },
 "nbformat": 4,
 "nbformat_minor": 5
}
