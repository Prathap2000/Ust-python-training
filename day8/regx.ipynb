{
 "cells": [
  {
   "cell_type": "code",
   "execution_count": 2,
   "id": "5293a875-6d5f-46fa-adbd-dfcdc765036c",
   "metadata": {},
   "outputs": [],
   "source": [
    "#metachar refere the to build the re exps\n",
    "# . stands for any one charcter\n",
    "#[...] the square brackets used to build a charecter class"
   ]
  },
  {
   "cell_type": "code",
   "execution_count": 102,
   "id": "88ca03b1-b99b-4860-acfa-4ce60ddf8c2f",
   "metadata": {},
   "outputs": [],
   "source": [
    "import re\n",
    "data=['aaa','sss','ffff','123bg6','a555b','a55555n','a555555bavc','abc','a5c','3+2=5']\n"
   ]
  },
  {
   "cell_type": "code",
   "execution_count": 42,
   "id": "701554bc-0b9e-406d-9635-2ae6cd2e7fa0",
   "metadata": {},
   "outputs": [
    {
     "name": "stdout",
     "output_type": "stream",
     "text": [
      "abc matched in 'abc'\n",
      "a5c matched in 'a5c'\n"
     ]
    }
   ],
   "source": [
    "for i in data:\n",
    "    m=re.match(r'a.c',i)\n",
    "    if m:\n",
    "        print(m.group() +' matched in ' + '\\'' +i +'\\'')"
   ]
  },
  {
   "cell_type": "code",
   "execution_count": 58,
   "id": "5f218ddb-4a75-4f78-806d-8284b79dd117",
   "metadata": {},
   "outputs": [
    {
     "name": "stdout",
     "output_type": "stream",
     "text": [
      "aaa matched in 'aaa'\n",
      " matched in 'sss'\n",
      " matched in 'ffff'\n",
      " matched in '123bg6'\n",
      "a matched in 'a555b'\n",
      "a matched in 'a55555n'\n",
      "a matched in 'a555555bavc'\n",
      "a matched in 'abc'\n",
      "a matched in 'a5c'\n"
     ]
    }
   ],
   "source": [
    "for i in data:\n",
    "    m=re.match(r'a*',i) # match must be in the strtaing of the string \n",
    "    if m:\n",
    "        print(m.group() +' matched in ' + '\\'' +i +'\\'')"
   ]
  },
  {
   "cell_type": "code",
   "execution_count": 56,
   "id": "629ef9d8-527f-439b-b7d2-83c33dd5ece0",
   "metadata": {},
   "outputs": [
    {
     "name": "stdout",
     "output_type": "stream",
     "text": [
      "avc matched in 'a555555bavc'\n",
      "abc matched in 'abc'\n",
      "a5c matched in 'a5c'\n"
     ]
    }
   ],
   "source": [
    "for i in data:\n",
    "    m=re.search(r'a.c',i) # search will find anywhere in teh string \n",
    "    if m:\n",
    "        print(m.group() +' matched in ' + '\\'' +i +'\\'')"
   ]
  },
  {
   "cell_type": "code",
   "execution_count": 62,
   "id": "9ad622e9-b6b8-4680-9675-44118c56e280",
   "metadata": {},
   "outputs": [
    {
     "name": "stdout",
     "output_type": "stream",
     "text": [
      "aaa matched in 'aaa'\n",
      "a55 matched in 'a555b'\n",
      "a55 matched in 'a55555n'\n",
      "a55 matched in 'a555555bavc'\n",
      "abc matched in 'abc'\n",
      "a5c matched in 'a5c'\n"
     ]
    }
   ],
   "source": [
    " for i in data:\n",
    "    m=re.match(r'a..',i) # match must be in the strtaing of the string \n",
    "    if m:\n",
    "        print(m.group() +' matched in ' + '\\'' +i +'\\'')"
   ]
  },
  {
   "cell_type": "code",
   "execution_count": 72,
   "id": "6f46c04f-b554-4cce-8a3f-5136003db0f0",
   "metadata": {},
   "outputs": [
    {
     "name": "stdout",
     "output_type": "stream",
     "text": [
      "aaa matched in 'aaa'\n",
      "abc matched in 'abc'\n",
      "a5c matched in 'a5c'\n"
     ]
    }
   ],
   "source": [
    "#talk about []\n",
    "#nay three start with a followed ant one char and in one from the []\n",
    "for i in data:\n",
    "    m=re.match(r'a.[a-z]',i) # match must be in the strtaing of the string ( this find startig with a and any one char and ends with a-z small apha\n",
    "    if m:\n",
    "        print(m.group() +' matched in ' + '\\'' +i +'\\'')"
   ]
  },
  {
   "cell_type": "code",
   "execution_count": 86,
   "id": "8ae2b659-01ce-4897-9da1-3de3bc9d9c87",
   "metadata": {},
   "outputs": [
    {
     "name": "stdout",
     "output_type": "stream",
     "text": [
      "a5 matched in 'a555b'\n",
      "a5 matched in 'a55555n'\n",
      "a5 matched in 'a555555bavc'\n",
      "a5 matched in 'a5c'\n"
     ]
    }
   ],
   "source": [
    "#talk about []\n",
    "#nay three start with a followed ant one char and in one from the []\n",
    "for i in data:\n",
    "    m=re.match(r'a[0-9]',i) # match must be in the strtaing of the string ( this find startig with a and any one char and ends with 0-9 sdigit\n",
    "    if m:\n",
    "        print(m.group() +' matched in ' + '\\'' +i +'\\'')"
   ]
  },
  {
   "cell_type": "code",
   "execution_count": 90,
   "id": "22d7cf33-4248-4543-a589-5d53329c08b3",
   "metadata": {},
   "outputs": [
    {
     "name": "stdout",
     "output_type": "stream",
     "text": [
      "a5c matched in 'a5c'\n"
     ]
    }
   ],
   "source": [
    "#talk about []\n",
    "#nay three start with a followed ant one char and in one from the []\n",
    "for i in data:\n",
    "    m=re.match(r'a[0-9][a-z]',i) # match must be in the strtaing of the string ( this find startig with a and any one char and ends with 0-9 sdigit\n",
    "    if m:\n",
    "        print(m.group() +' matched in ' + '\\'' +i +'\\'')"
   ]
  },
  {
   "cell_type": "code",
   "execution_count": 100,
   "id": "28ead605-6c1f-4df9-b5a3-b88770ee2a5c",
   "metadata": {},
   "outputs": [
    {
     "name": "stdout",
     "output_type": "stream",
     "text": [
      "aaa matched in 'aaa'\n",
      "abc matched in 'abc'\n"
     ]
    }
   ],
   "source": [
    "#talk about []\n",
    "#nay three start with a followed ant one char and in one from the []\n",
    "for i in data:\n",
    "    m=re.match(r'a[^0-9][a-z]',i) # match must be in the strtaing of the string ( starts witha and not digit from 0-9 and ens with a-z alpha)\n",
    "    if m:\n",
    "        print(m.group() +' matched in ' + '\\'' +i +'\\'')"
   ]
  },
  {
   "cell_type": "code",
   "execution_count": 112,
   "id": "3d6ad123-87e1-4b85-bfe1-67b9cd0fc6d7",
   "metadata": {},
   "outputs": [
    {
     "name": "stdout",
     "output_type": "stream",
     "text": [
      "3+2 matched in '3+2=5'\n"
     ]
    }
   ],
   "source": [
    "#match the 3+2\n",
    "for i in data:\n",
    "    m=re.match(r'[0-9]\\+[0-9]',i) # match must be in the strtaing of the string ( starts witha and not digit from 0-9 and ens with a-z alpha)\n",
    "    if m:\n",
    "        print(m.group() +' matched in ' + '\\'' +i +'\\'')"
   ]
  },
  {
   "cell_type": "code",
   "execution_count": 116,
   "id": "d0513a13-a659-4aff-baa7-a4bc5eeea748",
   "metadata": {},
   "outputs": [
    {
     "name": "stdout",
     "output_type": "stream",
     "text": [
      "aaa matched in 'aaa'\n",
      "abc matched in 'abc'\n",
      "3+2 matched in '3+2=5'\n"
     ]
    }
   ],
   "source": [
    "#match the 3+2 or  'a' not digit and alpha char\n",
    "for i in data:\n",
    "    m=re.match(r'[0-9]\\+[0-9]|a[^0-9][a-z]',i) # match must be in the strtaing of the string ( starts witha and not digit from 0-9 and ens with a-z alpha)\n",
    "    if m:\n",
    "        print(m.group() +' matched in ' + '\\'' +i +'\\'')"
   ]
  },
  {
   "cell_type": "code",
   "execution_count": 118,
   "id": "22ae4ce5-be36-40a6-aafa-b5eb24d09c37",
   "metadata": {},
   "outputs": [],
   "source": [
    "#default character\n",
    "#\\d digit\n",
    "#\\w ( all digit all apha both small and big)"
   ]
  },
  {
   "cell_type": "code",
   "execution_count": 122,
   "id": "215d9870-c554-499c-a5b3-38efa347434f",
   "metadata": {},
   "outputs": [],
   "source": [
    "#metachar 2.o"
   ]
  },
  {
   "cell_type": "code",
   "execution_count": 138,
   "id": "48c494ec-697e-4a3c-8f49-e361632c488c",
   "metadata": {},
   "outputs": [
    {
     "name": "stdout",
     "output_type": "stream",
     "text": [
      "aaa matched in 'aaa'\n",
      "abc matched in 'abc'\n",
      "3+2 matched in '3+2=5'\n"
     ]
    }
   ],
   "source": [
    "#match the 3+2 or  'a' not digit and alpha char\n",
    "for i in data:\n",
    "    m=re.match(r'\\d\\+\\d|a[^\\d][a-z]',i) # match must be in the strtaing of the string ( starts witha and not digit from 0-9 and ens with a-z alpha)\n",
    "    if m:\n",
    "        print(m.group() +' matched in ' + '\\'' +i +'\\'')"
   ]
  },
  {
   "cell_type": "code",
   "execution_count": 142,
   "id": "046bc83b-8f80-48bd-b8df-f2c9f41dca95",
   "metadata": {},
   "outputs": [],
   "source": [
    "# ^ apply at the beginning\n",
    "# $ at the ens of the line\n",
    "#\\b "
   ]
  },
  {
   "cell_type": "code",
   "execution_count": 146,
   "id": "f93bbd16-a776-4d4b-9a68-c92b0b9b5de0",
   "metadata": {},
   "outputs": [
    {
     "name": "stdout",
     "output_type": "stream",
     "text": [
      "a matched in 'aaa'\n",
      "a matched in 'a555b'\n",
      "a matched in 'a55555n'\n",
      "a matched in 'a555555bavc'\n",
      "a matched in 'abc'\n",
      "a matched in 'a5c'\n"
     ]
    }
   ],
   "source": [
    "#match the 3+2 or  'a' not digit and alpha char\n",
    "for i in data:\n",
    "    m=re.match(r'^a',i) # match must be in the strtaing of the string ( starts witha and not digit from 0-9 and ens with a-z alpha)\n",
    "    if m:\n",
    "        print(m.group() +' matched in ' + '\\'' +i +'\\'')"
   ]
  },
  {
   "cell_type": "code",
   "execution_count": 190,
   "id": "7979d376-b50e-4d8f-9213-952c8db0e613",
   "metadata": {},
   "outputs": [
    {
     "name": "stdout",
     "output_type": "stream",
     "text": [
      "avc matched in 'a555555bavc'\n",
      "abc matched in 'abc'\n",
      "a5c matched in 'a5c'\n"
     ]
    }
   ],
   "source": [
    "#used search for the ending \n",
    "for i in data:\n",
    "    m=re.search(r'..c$',i) # search must be in the strtaing of the string ( starts witha and not digit from 0-9 and ens with a-z alpha)\n",
    "    if m:\n",
    "        print(m.group() +' matched in ' + '\\'' +i +'\\'')"
   ]
  },
  {
   "cell_type": "code",
   "execution_count": 192,
   "id": "cedb56f3-b725-42fb-808d-aa66595d0691",
   "metadata": {},
   "outputs": [],
   "source": [
    "#metadata 4.o quantifiers\n",
    "# * for zero or more char for previous char \n",
    "# + repaeacting previos char 1 or more\n",
    "# ? the previous char apper only one or zero\n",
    "# {n}  previous char apper exactly n times\n",
    "# {m,n} the previous apper exactly b/w m,n\n",
    "#{ m, } {, n} the previous apper exatly m or more then m , max of n time \n",
    "#{..} use for alteraion\n"
   ]
  },
  {
   "cell_type": "code",
   "execution_count": 196,
   "id": "e47c54fc-9c11-4deb-9eae-85c09136b626",
   "metadata": {},
   "outputs": [
    {
     "name": "stdout",
     "output_type": "stream",
     "text": [
      "aaa matched in 'aaa'\n",
      " matched in 'sss'\n",
      " matched in 'ffff'\n",
      " matched in '123bg6'\n",
      "a matched in 'a555b'\n",
      "a matched in 'a55555n'\n",
      "a matched in 'a555555bavc'\n",
      "a matched in 'abc'\n",
      "a matched in 'a5c'\n",
      " matched in '3+2=5'\n"
     ]
    }
   ],
   "source": [
    "# * implimented\n",
    "for i in data:\n",
    "    m=re.search(r'a*',i) # search must be in the strtaing of the string ( starts witha and not digit from 0-9 and ens with a-z alpha)\n",
    "    if m:\n",
    "        print(m.group() +' matched in ' + '\\'' +i +'\\'')"
   ]
  },
  {
   "cell_type": "code",
   "execution_count": 202,
   "id": "8242f068-59c2-4360-b485-86df3877251e",
   "metadata": {},
   "outputs": [
    {
     "name": "stdout",
     "output_type": "stream",
     "text": [
      "a555 matched in 'a555b'\n",
      "a55555 matched in 'a55555n'\n",
      "a555555 matched in 'a555555bavc'\n"
     ]
    }
   ],
   "source": [
    "# + implimented\n",
    "for i in data:\n",
    "    m=re.search(r'a55+',i) # search must be in the strtaing of the string ( starts witha and not digit from 0-9 and ens with a-z alpha)\n",
    "    if m:\n",
    "        print(m.group() +' matched in ' + '\\'' +i +'\\'')"
   ]
  },
  {
   "cell_type": "code",
   "execution_count": 216,
   "id": "7d5e9684-f3f5-42ff-b963-616745aed25d",
   "metadata": {},
   "outputs": [
    {
     "name": "stdout",
     "output_type": "stream",
     "text": [
      "a555b matched in 'a555b'\n"
     ]
    }
   ],
   "source": [
    "#?\n",
    "for i in data:\n",
    "    m=re.search(r'a5{2,4}b',i) # search must be in the strtaing of the string ( starts witha and not digit from 0-9 and ens with a-z alpha)\n",
    "    if m:\n",
    "        print(m.group() +' matched in ' + '\\'' +i +'\\'')"
   ]
  },
  {
   "cell_type": "code",
   "execution_count": 234,
   "id": "ae7b1742-d025-47de-ab3c-7cbb26ef9cf5",
   "metadata": {},
   "outputs": [],
   "source": [
    "for i in data:\n",
    "    m=re.search(r'a5{2, }[a-z]',i) # search must be in the strtaing of the string ( starts witha and not digit from 0-9 and ens with a-z alpha)\n",
    "    if m:\n",
    "        print(m.group() +' matched in ' + '\\'' +i +'\\'')"
   ]
  },
  {
   "cell_type": "code",
   "execution_count": 236,
   "id": "e9244147-abe8-41c0-a157-5e5e43163a0e",
   "metadata": {},
   "outputs": [],
   "source": [
    "#example\n"
   ]
  },
  {
   "cell_type": "code",
   "execution_count": 238,
   "id": "d775bf7c-d964-4c46-be43-96abea9490c3",
   "metadata": {},
   "outputs": [],
   "source": [
    "text=\" This statement 3.1245 contains 66.564 floating point number\""
   ]
  },
  {
   "cell_type": "code",
   "execution_count": 244,
   "id": "2b979044-fc48-4147-acde-6b37ac01a115",
   "metadata": {},
   "outputs": [],
   "source": [
    "p=r\"\\d+\\.\\d+\""
   ]
  },
  {
   "cell_type": "code",
   "execution_count": 248,
   "id": "0275002e-c559-48d1-b939-059847e698b8",
   "metadata": {},
   "outputs": [
    {
     "data": {
      "text/plain": [
       "['3.1245', '66.564']"
      ]
     },
     "execution_count": 248,
     "metadata": {},
     "output_type": "execute_result"
    }
   ],
   "source": [
    "re.findall(p,text)"
   ]
  },
  {
   "cell_type": "code",
   "execution_count": 252,
   "id": "9d98f706-0f65-4ab0-883b-1500ea11cf28",
   "metadata": {},
   "outputs": [],
   "source": [
    "text=\"+918987654567,another 9098765646, yet 09876543456\""
   ]
  },
  {
   "cell_type": "code",
   "execution_count": 256,
   "id": "17d5b862-b0de-4fb6-9d01-3546cdaeb933",
   "metadata": {},
   "outputs": [],
   "source": [
    "pp=r\"\\d{10}\""
   ]
  },
  {
   "cell_type": "code",
   "execution_count": 260,
   "id": "107acf90-1562-42fb-9138-151fb619ba13",
   "metadata": {},
   "outputs": [
    {
     "data": {
      "text/plain": [
       "['9189876545', '9098765646', '0987654345']"
      ]
     },
     "execution_count": 260,
     "metadata": {},
     "output_type": "execute_result"
    }
   ],
   "source": [
    "re.findall(pp,text)"
   ]
  },
  {
   "cell_type": "code",
   "execution_count": 282,
   "id": "535dc0b3-87ef-4a22-b4a5-051d32be7fd4",
   "metadata": {},
   "outputs": [],
   "source": [
    "pp1=r\"[(+91)(0)]?\\d{10}\""
   ]
  },
  {
   "cell_type": "code",
   "execution_count": 284,
   "id": "58be3f21-2f0d-49ed-bb2d-53a53e91d7d5",
   "metadata": {},
   "outputs": [
    {
     "data": {
      "text/plain": [
       "['+9189876545', '9098765646', '09876543456']"
      ]
     },
     "execution_count": 284,
     "metadata": {},
     "output_type": "execute_result"
    }
   ],
   "source": [
    "re.findall(pp1,text)"
   ]
  }
 ],
 "metadata": {
  "kernelspec": {
   "display_name": "Python 3 (ipykernel)",
   "language": "python",
   "name": "python3"
  },
  "language_info": {
   "codemirror_mode": {
    "name": "ipython",
    "version": 3
   },
   "file_extension": ".py",
   "mimetype": "text/x-python",
   "name": "python",
   "nbconvert_exporter": "python",
   "pygments_lexer": "ipython3",
   "version": "3.12.7"
  }
 },
 "nbformat": 4,
 "nbformat_minor": 5
}
