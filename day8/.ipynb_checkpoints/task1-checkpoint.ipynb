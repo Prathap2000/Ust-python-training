{
 "cells": [
  {
   "cell_type": "code",
   "execution_count": 1,
   "id": "b405ec2f-c338-4e21-b23d-dd4dd4fc9e22",
   "metadata": {},
   "outputs": [],
   "source": [
    "# task 1"
   ]
  },
  {
   "cell_type": "code",
   "execution_count": 5,
   "id": "607083c5-ec34-4469-801b-8d360d3ea18a",
   "metadata": {},
   "outputs": [],
   "source": [
    "text=\"This statement contains +1.234 floating -67.87 point 1.234 number\""
   ]
  },
  {
   "cell_type": "code",
   "execution_count": 45,
   "id": "8a178388-955d-4d01-bccd-69135a185dd3",
   "metadata": {},
   "outputs": [],
   "source": [
    "import re\n",
    "patt=r'[(\\+\\-)]?\\d+\\.\\d+'"
   ]
  },
  {
   "cell_type": "code",
   "execution_count": 47,
   "id": "bd190b7a-b5e8-42bc-80b5-8865dd7b7720",
   "metadata": {},
   "outputs": [
    {
     "data": {
      "text/plain": [
       "['+1.234', '-67.87', '1.234']"
      ]
     },
     "execution_count": 47,
     "metadata": {},
     "output_type": "execute_result"
    }
   ],
   "source": [
    "re.findall(patt,text)"
   ]
  },
  {
   "cell_type": "code",
   "execution_count": 51,
   "id": "b7b54f0f-fc94-4726-982a-2c7786e9bf15",
   "metadata": {},
   "outputs": [],
   "source": [
    "#task2"
   ]
  },
  {
   "cell_type": "code",
   "execution_count": 212,
   "id": "20412f50-6f33-46d3-b50d-2b5f490a4f8c",
   "metadata": {},
   "outputs": [],
   "source": [
    "mail=\"Contact us at support@example.com for more details,prathap@ust.com\"\n",
    "pt=r'([a-z]*@[a-z]*.com)'"
   ]
  },
  {
   "cell_type": "code",
   "execution_count": 214,
   "id": "0b0955d8-bb1a-49d1-a1a0-459d3e2d0a4d",
   "metadata": {},
   "outputs": [
    {
     "data": {
      "text/plain": [
       "<re.Match object; span=(14, 33), match='support@example.com'>"
      ]
     },
     "execution_count": 214,
     "metadata": {},
     "output_type": "execute_result"
    }
   ],
   "source": [
    "re.search(pt,mail)"
   ]
  },
  {
   "cell_type": "code",
   "execution_count": 216,
   "id": "db6c7661-81d7-413f-98cb-7859b9da3203",
   "metadata": {},
   "outputs": [
    {
     "data": {
      "text/plain": [
       "['support@example.com', 'prathap@ust.com']"
      ]
     },
     "execution_count": 216,
     "metadata": {},
     "output_type": "execute_result"
    }
   ],
   "source": [
    "re.findall(pt,mail)"
   ]
  },
  {
   "cell_type": "code",
   "execution_count": 218,
   "id": "77502cfc-94d8-47df-b27e-c3bf0e87e56e",
   "metadata": {},
   "outputs": [],
   "source": [
    "#task3"
   ]
  },
  {
   "cell_type": "code",
   "execution_count": 236,
   "id": "131b66fc-5619-4b3d-ac4c-dbe619758164",
   "metadata": {},
   "outputs": [],
   "source": [
    "date= \"Today's date is 2025-03-27\""
   ]
  },
  {
   "cell_type": "code",
   "execution_count": 246,
   "id": "5808e6b7-ded3-4c2f-9e76-be0fb1543be4",
   "metadata": {},
   "outputs": [],
   "source": [
    "pd=r'\\d{4}\\-\\d{2}\\-\\d{2}'"
   ]
  },
  {
   "cell_type": "code",
   "execution_count": 252,
   "id": "2e3e5a94-6e00-482e-afc0-95bb59734f6a",
   "metadata": {},
   "outputs": [
    {
     "data": {
      "text/plain": [
       "['2025-03-27']"
      ]
     },
     "execution_count": 252,
     "metadata": {},
     "output_type": "execute_result"
    }
   ],
   "source": [
    "re.findall(pd,date)"
   ]
  },
  {
   "cell_type": "code",
   "execution_count": 254,
   "id": "2689f881-ef6a-4e93-b47b-36b2082f22c1",
   "metadata": {},
   "outputs": [],
   "source": [
    "#task4"
   ]
  },
  {
   "cell_type": "code",
   "execution_count": 286,
   "id": "b5167e8b-d3fd-4531-affc-7f51ffa6436a",
   "metadata": {},
   "outputs": [],
   "source": [
    "wod=\"I saw a little kitten running across the street\""
   ]
  },
  {
   "cell_type": "code",
   "execution_count": 294,
   "id": "cab50f72-7188-44a1-b63d-a8248a43021b",
   "metadata": {},
   "outputs": [],
   "source": [
    "w=r'\\w*(\\w)\\1\\w*'"
   ]
  },
  {
   "cell_type": "code",
   "execution_count": 302,
   "id": "aa0164dd-1b17-4577-9d80-50f27c98a03c",
   "metadata": {},
   "outputs": [
    {
     "data": {
      "text/plain": [
       "<re.Match object; span=(8, 14), match='little'>"
      ]
     },
     "execution_count": 302,
     "metadata": {},
     "output_type": "execute_result"
    }
   ],
   "source": [
    "re.search(w,wod)"
   ]
  },
  {
   "cell_type": "code",
   "execution_count": 304,
   "id": "9d5903ec-656f-48c7-a997-f2191f57b062",
   "metadata": {},
   "outputs": [],
   "source": [
    "#task5"
   ]
  },
  {
   "cell_type": "code",
   "execution_count": 308,
   "id": "1086a4bf-aeba-425c-b6a3-72378fcb2d78",
   "metadata": {},
   "outputs": [],
   "source": [
    "phone=\"My phone numbers are (123) 456-7890 and 987-654-3210\""
   ]
  },
  {
   "cell_type": "code",
   "execution_count": 448,
   "id": "276de8cb-3e00-4861-834b-38c150ca8b3e",
   "metadata": {},
   "outputs": [],
   "source": [
    "ph=r'\\d{3}-?\\d{3}-\\d{4}'"
   ]
  },
  {
   "cell_type": "code",
   "execution_count": 456,
   "id": "f94841f7-7f69-44ff-9a31-b04055d108a6",
   "metadata": {},
   "outputs": [
    {
     "data": {
      "text/plain": [
       "['987-654-3210']"
      ]
     },
     "execution_count": 456,
     "metadata": {},
     "output_type": "execute_result"
    }
   ],
   "source": [
    "re.findall(ph,phone)"
   ]
  },
  {
   "cell_type": "code",
   "execution_count": 460,
   "id": "ccce6a19-f65f-48a1-bade-68e71d37f83c",
   "metadata": {},
   "outputs": [],
   "source": [
    "#task6"
   ]
  },
  {
   "cell_type": "code",
   "execution_count": 464,
   "id": "754e2bbb-0fce-4221-a58e-78dfeb19d05f",
   "metadata": {},
   "outputs": [],
   "source": [
    "l= \"Loving the #Python and #AI vibes today!\""
   ]
  },
  {
   "cell_type": "code",
   "execution_count": 468,
   "id": "407cd5a9-117f-4c78-8cda-c2690a2c61e4",
   "metadata": {},
   "outputs": [],
   "source": [
    "o=r'#\\w*'"
   ]
  },
  {
   "cell_type": "code",
   "execution_count": 472,
   "id": "f0d492aa-ec5a-4887-b050-b5a6fbf3720c",
   "metadata": {},
   "outputs": [
    {
     "data": {
      "text/plain": [
       "['#Python', '#AI']"
      ]
     },
     "execution_count": 472,
     "metadata": {},
     "output_type": "execute_result"
    }
   ],
   "source": [
    "re.findall(o,l)"
   ]
  },
  {
   "cell_type": "code",
   "execution_count": 474,
   "id": "8d29154b-b9ad-479f-aa3b-febafa9d6a78",
   "metadata": {},
   "outputs": [],
   "source": [
    "#task7"
   ]
  },
  {
   "cell_type": "code",
   "execution_count": 480,
   "id": "6aa937a3-7972-45f8-ae13-af24a30c9859",
   "metadata": {},
   "outputs": [],
   "source": [
    "num=\"Order number: 98765, Confirmation code: 54321\""
   ]
  },
  {
   "cell_type": "raw",
   "id": "ad866b8e-0026-4da6-85f2-c1149f1902ab",
   "metadata": {},
   "source": []
  },
  {
   "cell_type": "code",
   "execution_count": 488,
   "id": "a6ceb457-8803-402d-87e0-5c82734d93d9",
   "metadata": {},
   "outputs": [],
   "source": [
    "t=r'\\d{5}'"
   ]
  },
  {
   "cell_type": "code",
   "execution_count": 492,
   "id": "e84dbeb9-743e-4931-a849-7d7eea7c95b6",
   "metadata": {},
   "outputs": [
    {
     "data": {
      "text/plain": [
       "['98765', '54321']"
      ]
     },
     "execution_count": 492,
     "metadata": {},
     "output_type": "execute_result"
    }
   ],
   "source": [
    "re.findall(t,num)"
   ]
  },
  {
   "cell_type": "code",
   "execution_count": 494,
   "id": "3e6f027f-96f0-4a1d-852c-68ddb3f8e784",
   "metadata": {},
   "outputs": [],
   "source": [
    "#task8"
   ]
  },
  {
   "cell_type": "code",
   "execution_count": 498,
   "id": "5a523ab4-0f21-471a-8d97-7f7a8a565d32",
   "metadata": {},
   "outputs": [],
   "source": [
    "cap=\"Alice and Bob went to New York for a Conference\"\n"
   ]
  },
  {
   "cell_type": "code",
   "execution_count": 572,
   "id": "2108a299-a378-422a-9b3a-4bd4dbfabbc2",
   "metadata": {},
   "outputs": [],
   "source": [
    "l=r'[A-Z]\\w*'"
   ]
  },
  {
   "cell_type": "code",
   "execution_count": 576,
   "id": "acbe084c-c637-4e1c-b8a3-6fcced5da136",
   "metadata": {},
   "outputs": [
    {
     "data": {
      "text/plain": [
       "['Alice', 'Bob', 'New', 'York', 'Conference']"
      ]
     },
     "execution_count": 576,
     "metadata": {},
     "output_type": "execute_result"
    }
   ],
   "source": [
    "re.findall(l,cap)"
   ]
  },
  {
   "cell_type": "code",
   "execution_count": 578,
   "id": "c7a2625f-e5c8-4910-8268-045dadf7fadf",
   "metadata": {},
   "outputs": [],
   "source": [
    "#task9"
   ]
  },
  {
   "cell_type": "code",
   "execution_count": 682,
   "id": "5bc5e4ee-52b9-47ec-983c-136c15ec529f",
   "metadata": {},
   "outputs": [],
   "source": [
    "t9=\"Visit https://www.example.com or http://test.org for info\""
   ]
  },
  {
   "cell_type": "code",
   "execution_count": 688,
   "id": "e8f9c838-d36a-4ab4-a1bd-7ed5c78a9f5b",
   "metadata": {},
   "outputs": [],
   "source": [
    "t=r'http[s?]://w{3}?.\\w*.com|.org'"
   ]
  },
  {
   "cell_type": "code",
   "execution_count": 690,
   "id": "3c2752be-9bbd-4654-b549-c9b822c35307",
   "metadata": {},
   "outputs": [
    {
     "data": {
      "text/plain": [
       "['https://www.example.com', '.org']"
      ]
     },
     "execution_count": 690,
     "metadata": {},
     "output_type": "execute_result"
    }
   ],
   "source": [
    "re.findall(t,t9)"
   ]
  },
  {
   "cell_type": "code",
   "execution_count": null,
   "id": "3a6b80a0-0c7a-464f-aaff-37335d244bcd",
   "metadata": {},
   "outputs": [],
   "source": []
  }
 ],
 "metadata": {
  "kernelspec": {
   "display_name": "Python 3 (ipykernel)",
   "language": "python",
   "name": "python3"
  },
  "language_info": {
   "codemirror_mode": {
    "name": "ipython",
    "version": 3
   },
   "file_extension": ".py",
   "mimetype": "text/x-python",
   "name": "python",
   "nbconvert_exporter": "python",
   "pygments_lexer": "ipython3",
   "version": "3.12.7"
  }
 },
 "nbformat": 4,
 "nbformat_minor": 5
}
