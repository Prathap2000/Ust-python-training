{
 "cells": [
  {
   "cell_type": "code",
   "execution_count": 1,
   "id": "b405ec2f-c338-4e21-b23d-dd4dd4fc9e22",
   "metadata": {},
   "outputs": [],
   "source": [
    "# task 1"
   ]
  },
  {
   "cell_type": "code",
   "execution_count": 5,
   "id": "607083c5-ec34-4469-801b-8d360d3ea18a",
   "metadata": {},
   "outputs": [],
   "source": [
    "text=\"This statement contains +1.234 floating -67.87 point 1.234 number\""
   ]
  },
  {
   "cell_type": "code",
   "execution_count": 45,
   "id": "8a178388-955d-4d01-bccd-69135a185dd3",
   "metadata": {},
   "outputs": [],
   "source": [
    "import re\n",
    "patt=r'[(\\+\\-)]?\\d+\\.\\d+'"
   ]
  },
  {
   "cell_type": "code",
   "execution_count": 47,
   "id": "bd190b7a-b5e8-42bc-80b5-8865dd7b7720",
   "metadata": {},
   "outputs": [
    {
     "data": {
      "text/plain": [
       "['+1.234', '-67.87', '1.234']"
      ]
     },
     "execution_count": 47,
     "metadata": {},
     "output_type": "execute_result"
    }
   ],
   "source": [
    "re.findall(patt,text)"
   ]
  },
  {
   "cell_type": "code",
   "execution_count": 51,
   "id": "b7b54f0f-fc94-4726-982a-2c7786e9bf15",
   "metadata": {},
   "outputs": [],
   "source": [
    "#task2"
   ]
  },
  {
   "cell_type": "code",
   "execution_count": 212,
   "id": "20412f50-6f33-46d3-b50d-2b5f490a4f8c",
   "metadata": {},
   "outputs": [],
   "source": [
    "mail=\"Contact us at support@example.com for more details,prathap@ust.com\"\n",
    "pt=r'([a-z]*@[a-z]*.com)'"
   ]
  },
  {
   "cell_type": "code",
   "execution_count": 214,
   "id": "0b0955d8-bb1a-49d1-a1a0-459d3e2d0a4d",
   "metadata": {},
   "outputs": [
    {
     "data": {
      "text/plain": [
       "<re.Match object; span=(14, 33), match='support@example.com'>"
      ]
     },
     "execution_count": 214,
     "metadata": {},
     "output_type": "execute_result"
    }
   ],
   "source": [
    "re.search(pt,mail)"
   ]
  },
  {
   "cell_type": "code",
   "execution_count": 216,
   "id": "db6c7661-81d7-413f-98cb-7859b9da3203",
   "metadata": {},
   "outputs": [
    {
     "data": {
      "text/plain": [
       "['support@example.com', 'prathap@ust.com']"
      ]
     },
     "execution_count": 216,
     "metadata": {},
     "output_type": "execute_result"
    }
   ],
   "source": [
    "re.findall(pt,mail)"
   ]
  },
  {
   "cell_type": "code",
   "execution_count": 218,
   "id": "77502cfc-94d8-47df-b27e-c3bf0e87e56e",
   "metadata": {},
   "outputs": [],
   "source": [
    "#task3"
   ]
  },
  {
   "cell_type": "code",
   "execution_count": 236,
   "id": "131b66fc-5619-4b3d-ac4c-dbe619758164",
   "metadata": {},
   "outputs": [],
   "source": [
    "date= \"Today's date is 2025-03-27\""
   ]
  },
  {
   "cell_type": "code",
   "execution_count": 246,
   "id": "5808e6b7-ded3-4c2f-9e76-be0fb1543be4",
   "metadata": {},
   "outputs": [],
   "source": [
    "pd=r'\\d{4}\\-\\d{2}\\-\\d{2}'"
   ]
  },
  {
   "cell_type": "code",
   "execution_count": 252,
   "id": "2e3e5a94-6e00-482e-afc0-95bb59734f6a",
   "metadata": {},
   "outputs": [
    {
     "data": {
      "text/plain": [
       "['2025-03-27']"
      ]
     },
     "execution_count": 252,
     "metadata": {},
     "output_type": "execute_result"
    }
   ],
   "source": [
    "re.findall(pd,date)"
   ]
  },
  {
   "cell_type": "code",
   "execution_count": 254,
   "id": "2689f881-ef6a-4e93-b47b-36b2082f22c1",
   "metadata": {},
   "outputs": [],
   "source": [
    "#task4"
   ]
  },
  {
   "cell_type": "code",
   "execution_count": 286,
   "id": "b5167e8b-d3fd-4531-affc-7f51ffa6436a",
   "metadata": {},
   "outputs": [],
   "source": [
    "wod=\"I saw a little kitten running across the street\""
   ]
  },
  {
   "cell_type": "code",
   "execution_count": 294,
   "id": "cab50f72-7188-44a1-b63d-a8248a43021b",
   "metadata": {},
   "outputs": [],
   "source": [
    "w=r'\\w*(\\w)\\1\\w*'"
   ]
  },
  {
   "cell_type": "code",
   "execution_count": 302,
   "id": "aa0164dd-1b17-4577-9d80-50f27c98a03c",
   "metadata": {},
   "outputs": [
    {
     "data": {
      "text/plain": [
       "<re.Match object; span=(8, 14), match='little'>"
      ]
     },
     "execution_count": 302,
     "metadata": {},
     "output_type": "execute_result"
    }
   ],
   "source": [
    "re.search(w,wod)"
   ]
  },
  {
   "cell_type": "code",
   "execution_count": 304,
   "id": "9d5903ec-656f-48c7-a997-f2191f57b062",
   "metadata": {},
   "outputs": [],
   "source": [
    "#task5"
   ]
  },
  {
   "cell_type": "code",
   "execution_count": 308,
   "id": "1086a4bf-aeba-425c-b6a3-72378fcb2d78",
   "metadata": {},
   "outputs": [],
   "source": [
    "phone=\"My phone numbers are (123) 456-7890 and 987-654-3210\""
   ]
  },
  {
   "cell_type": "code",
   "execution_count": 448,
   "id": "276de8cb-3e00-4861-834b-38c150ca8b3e",
   "metadata": {},
   "outputs": [],
   "source": [
    "ph=r'\\d{3}-?\\d{3}-\\d{4}'"
   ]
  },
  {
   "cell_type": "code",
   "execution_count": 456,
   "id": "f94841f7-7f69-44ff-9a31-b04055d108a6",
   "metadata": {},
   "outputs": [
    {
     "data": {
      "text/plain": [
       "['987-654-3210']"
      ]
     },
     "execution_count": 456,
     "metadata": {},
     "output_type": "execute_result"
    }
   ],
   "source": [
    "re.findall(ph,phone)"
   ]
  },
  {
   "cell_type": "code",
   "execution_count": 460,
   "id": "ccce6a19-f65f-48a1-bade-68e71d37f83c",
   "metadata": {},
   "outputs": [],
   "source": [
    "#task6"
   ]
  },
  {
   "cell_type": "code",
   "execution_count": 464,
   "id": "754e2bbb-0fce-4221-a58e-78dfeb19d05f",
   "metadata": {},
   "outputs": [],
   "source": [
    "l= \"Loving the #Python and #AI vibes today!\""
   ]
  },
  {
   "cell_type": "code",
   "execution_count": 468,
   "id": "407cd5a9-117f-4c78-8cda-c2690a2c61e4",
   "metadata": {},
   "outputs": [],
   "source": [
    "o=r'#\\w*'"
   ]
  },
  {
   "cell_type": "code",
   "execution_count": 472,
   "id": "f0d492aa-ec5a-4887-b050-b5a6fbf3720c",
   "metadata": {},
   "outputs": [
    {
     "data": {
      "text/plain": [
       "['#Python', '#AI']"
      ]
     },
     "execution_count": 472,
     "metadata": {},
     "output_type": "execute_result"
    }
   ],
   "source": [
    "re.findall(o,l)"
   ]
  },
  {
   "cell_type": "code",
   "execution_count": 474,
   "id": "8d29154b-b9ad-479f-aa3b-febafa9d6a78",
   "metadata": {},
   "outputs": [],
   "source": [
    "#task7"
   ]
  },
  {
   "cell_type": "code",
   "execution_count": 480,
   "id": "6aa937a3-7972-45f8-ae13-af24a30c9859",
   "metadata": {},
   "outputs": [],
   "source": [
    "num=\"Order number: 98765, Confirmation code: 54321\""
   ]
  },
  {
   "cell_type": "raw",
   "id": "ad866b8e-0026-4da6-85f2-c1149f1902ab",
   "metadata": {},
   "source": []
  },
  {
   "cell_type": "code",
   "execution_count": 488,
   "id": "a6ceb457-8803-402d-87e0-5c82734d93d9",
   "metadata": {},
   "outputs": [],
   "source": [
    "t=r'\\d{5}'"
   ]
  },
  {
   "cell_type": "code",
   "execution_count": 492,
   "id": "e84dbeb9-743e-4931-a849-7d7eea7c95b6",
   "metadata": {},
   "outputs": [
    {
     "data": {
      "text/plain": [
       "['98765', '54321']"
      ]
     },
     "execution_count": 492,
     "metadata": {},
     "output_type": "execute_result"
    }
   ],
   "source": [
    "re.findall(t,num)"
   ]
  },
  {
   "cell_type": "code",
   "execution_count": 494,
   "id": "3e6f027f-96f0-4a1d-852c-68ddb3f8e784",
   "metadata": {},
   "outputs": [],
   "source": [
    "#task8"
   ]
  },
  {
   "cell_type": "code",
   "execution_count": 498,
   "id": "5a523ab4-0f21-471a-8d97-7f7a8a565d32",
   "metadata": {},
   "outputs": [],
   "source": [
    "cap=\"Alice and Bob went to New York for a Conference\"\n"
   ]
  },
  {
   "cell_type": "code",
   "execution_count": 572,
   "id": "2108a299-a378-422a-9b3a-4bd4dbfabbc2",
   "metadata": {},
   "outputs": [],
   "source": [
    "l=r'[A-Z]\\w*'"
   ]
  },
  {
   "cell_type": "code",
   "execution_count": 576,
   "id": "acbe084c-c637-4e1c-b8a3-6fcced5da136",
   "metadata": {},
   "outputs": [
    {
     "data": {
      "text/plain": [
       "['Alice', 'Bob', 'New', 'York', 'Conference']"
      ]
     },
     "execution_count": 576,
     "metadata": {},
     "output_type": "execute_result"
    }
   ],
   "source": [
    "re.findall(l,cap)"
   ]
  },
  {
   "cell_type": "code",
   "execution_count": 578,
   "id": "c7a2625f-e5c8-4910-8268-045dadf7fadf",
   "metadata": {},
   "outputs": [],
   "source": [
    "#task9"
   ]
  },
  {
   "cell_type": "code",
   "execution_count": 682,
   "id": "5bc5e4ee-52b9-47ec-983c-136c15ec529f",
   "metadata": {},
   "outputs": [],
   "source": [
    "t9=\"Visit https://www.example.com or http://test.org for info\""
   ]
  },
  {
   "cell_type": "code",
   "execution_count": 688,
   "id": "e8f9c838-d36a-4ab4-a1bd-7ed5c78a9f5b",
   "metadata": {},
   "outputs": [],
   "source": [
    "t=r'http[s?]://w{3}?.\\w*.com|.org'"
   ]
  },
  {
   "cell_type": "code",
   "execution_count": 690,
   "id": "3c2752be-9bbd-4654-b549-c9b822c35307",
   "metadata": {},
   "outputs": [
    {
     "data": {
      "text/plain": [
       "['https://www.example.com', '.org']"
      ]
     },
     "execution_count": 690,
     "metadata": {},
     "output_type": "execute_result"
    }
   ],
   "source": [
    "re.findall(t,t9)"
   ]
  },
  {
   "cell_type": "code",
   "execution_count": 13,
   "id": "3a6b80a0-0c7a-464f-aaff-37335d244bcd",
   "metadata": {},
   "outputs": [],
   "source": [
    "import re\n",
    "ree=\"This is is a test test to find repeated repeated words\""
   ]
  },
  {
   "cell_type": "code",
   "execution_count": 57,
   "id": "d55be1b1-1deb-49f2-945f-d3b5371e406d",
   "metadata": {},
   "outputs": [],
   "source": [
    "rr=r'\\w*'"
   ]
  },
  {
   "cell_type": "code",
   "execution_count": 61,
   "id": "f350d05d-5f8d-4df0-a38a-09530665b0f7",
   "metadata": {},
   "outputs": [
    {
     "data": {
      "text/plain": [
       "['This',\n",
       " '',\n",
       " 'is',\n",
       " '',\n",
       " 'is',\n",
       " '',\n",
       " 'a',\n",
       " '',\n",
       " 'test',\n",
       " '',\n",
       " 'test',\n",
       " '',\n",
       " 'to',\n",
       " '',\n",
       " 'find',\n",
       " '',\n",
       " 'repeated',\n",
       " '',\n",
       " 'repeated',\n",
       " '',\n",
       " 'words',\n",
       " '']"
      ]
     },
     "execution_count": 61,
     "metadata": {},
     "output_type": "execute_result"
    }
   ],
   "source": [
    "re.findall(rr,ree)"
   ]
  },
  {
   "cell_type": "code",
   "execution_count": null,
   "id": "a14a0e8a-ab1b-4d67-ab24-e0213613342b",
   "metadata": {},
   "outputs": [],
   "source": [
    "#task10"
   ]
  },
  {
   "cell_type": "code",
   "execution_count": 65,
   "id": "845c7c1a-bf33-4741-bd67-4766043eac29",
   "metadata": {},
   "outputs": [],
   "source": [
    "cu=\"The product costs $59.99 and the discount is €10.50\""
   ]
  },
  {
   "cell_type": "code",
   "execution_count": 83,
   "id": "847e44c6-a66f-488f-83e9-40bf9477bcd6",
   "metadata": {},
   "outputs": [],
   "source": [
    "c=r'[$€][\\d]*.[\\d]*'"
   ]
  },
  {
   "cell_type": "code",
   "execution_count": 89,
   "id": "af2617d6-ca35-407e-b953-5bc780418d4a",
   "metadata": {},
   "outputs": [
    {
     "data": {
      "text/plain": [
       "['$59.99', '€10.50']"
      ]
     },
     "execution_count": 89,
     "metadata": {},
     "output_type": "execute_result"
    }
   ],
   "source": [
    "re.findall(c,cu)"
   ]
  },
  {
   "cell_type": "code",
   "execution_count": 91,
   "id": "9083cbb7-1dfb-4698-b491-5839a41159b1",
   "metadata": {},
   "outputs": [],
   "source": [
    "#task11"
   ]
  },
  {
   "cell_type": "code",
   "execution_count": 95,
   "id": "795a6263-9e3b-404c-8ff0-50c6dc40d471",
   "metadata": {},
   "outputs": [],
   "source": [
    "html=\"<div>Welcome</div> <p>This is a paragraph.</p>\""
   ]
  },
  {
   "cell_type": "code",
   "execution_count": 107,
   "id": "bd78b36f-7293-4f5d-949f-cc2e36e59a55",
   "metadata": {},
   "outputs": [],
   "source": [
    "h=r'<[/]?[\\w]*>'"
   ]
  },
  {
   "cell_type": "code",
   "execution_count": 113,
   "id": "a14b0a7e-1c2e-4f10-b83c-ea4271099731",
   "metadata": {},
   "outputs": [
    {
     "data": {
      "text/plain": [
       "['<div>', '</div>', '<p>', '</p>']"
      ]
     },
     "execution_count": 113,
     "metadata": {},
     "output_type": "execute_result"
    }
   ],
   "source": [
    "re.findall(h,html)"
   ]
  },
  {
   "cell_type": "code",
   "execution_count": 117,
   "id": "9d8c3c9c-f82c-47a0-b879-cd5fa2c1e73e",
   "metadata": {},
   "outputs": [],
   "source": [
    "#task12"
   ]
  },
  {
   "cell_type": "code",
   "execution_count": 121,
   "id": "b3795e9a-51ba-49b9-806b-96573d523863",
   "metadata": {},
   "outputs": [],
   "source": [
    "ing=\"Running, swimming, and playing are fun activities\""
   ]
  },
  {
   "cell_type": "code",
   "execution_count": 145,
   "id": "c0252742-4134-420e-832f-4ce548a788df",
   "metadata": {},
   "outputs": [],
   "source": [
    "n=r'\\w*ing'"
   ]
  },
  {
   "cell_type": "code",
   "execution_count": 149,
   "id": "3bfbb929-8a21-4c7b-b3cf-6000e9afec8a",
   "metadata": {},
   "outputs": [
    {
     "data": {
      "text/plain": [
       "['Running', 'swimming', 'playing']"
      ]
     },
     "execution_count": 149,
     "metadata": {},
     "output_type": "execute_result"
    }
   ],
   "source": [
    "re.findall(n,ing)"
   ]
  },
  {
   "cell_type": "code",
   "execution_count": 151,
   "id": "de7d06e9-4223-4927-a33a-612b48805ba3",
   "metadata": {},
   "outputs": [],
   "source": [
    "#task13"
   ]
  },
  {
   "cell_type": "code",
   "execution_count": 155,
   "id": "e3243a36-a20a-4707-904d-d97dccd6e739",
   "metadata": {},
   "outputs": [],
   "source": [
    "que= \"Do you know the answer? Let's find out. Are you sure?\""
   ]
  },
  {
   "cell_type": "code",
   "execution_count": 287,
   "id": "a3747492-ec3d-4acf-90e7-9d9b24c4c7b2",
   "metadata": {},
   "outputs": [],
   "source": [
    "q=r'.*[\\w]*\\?'"
   ]
  },
  {
   "cell_type": "code",
   "execution_count": 293,
   "id": "b5ca425c-4041-4794-997d-0f0cd3130fc9",
   "metadata": {},
   "outputs": [
    {
     "data": {
      "text/plain": [
       "[\"Do you know the answer? Let's find out. Are you sure?\"]"
      ]
     },
     "execution_count": 293,
     "metadata": {},
     "output_type": "execute_result"
    }
   ],
   "source": [
    "re.findall(q,que)"
   ]
  },
  {
   "cell_type": "code",
   "execution_count": 297,
   "id": "8cd82fde-35e3-4aae-b495-5659ef8e1f7e",
   "metadata": {},
   "outputs": [],
   "source": [
    "#task14"
   ]
  },
  {
   "cell_type": "code",
   "execution_count": 301,
   "id": "76bf3d9f-8c42-46bd-a75a-f1615b8f535f",
   "metadata": {},
   "outputs": [],
   "source": [
    "hex=\"Background color is #FF5733 and text color is #00FF00\""
   ]
  },
  {
   "cell_type": "code",
   "execution_count": 305,
   "id": "db7a2518-ac71-4f44-8397-7efaf609e6e3",
   "metadata": {},
   "outputs": [],
   "source": [
    "hexx=r'#\\w*'"
   ]
  },
  {
   "cell_type": "code",
   "execution_count": 309,
   "id": "f9f033cb-8ad0-478a-84c7-2a0b9d4297ee",
   "metadata": {},
   "outputs": [
    {
     "data": {
      "text/plain": [
       "['#FF5733', '#00FF00']"
      ]
     },
     "execution_count": 309,
     "metadata": {},
     "output_type": "execute_result"
    }
   ],
   "source": [
    "re.findall(hexx,hex)"
   ]
  },
  {
   "cell_type": "code",
   "execution_count": 311,
   "id": "e84ba763-1179-42e4-9723-1cd214d148f6",
   "metadata": {},
   "outputs": [],
   "source": [
    "#task15"
   ]
  },
  {
   "cell_type": "code",
   "execution_count": 313,
   "id": "b057c9b5-aeba-47fd-af2b-af241a43a05e",
   "metadata": {},
   "outputs": [],
   "source": [
    "nn=\"Follow us @ChatGPT and @OpenAI\""
   ]
  },
  {
   "cell_type": "code",
   "execution_count": 322,
   "id": "d2c05312-3071-4933-91b7-747bde63e129",
   "metadata": {},
   "outputs": [],
   "source": [
    "nen=r'@\\w*'"
   ]
  },
  {
   "cell_type": "code",
   "execution_count": 324,
   "id": "690ade3e-9997-433b-8318-7901f53722f8",
   "metadata": {},
   "outputs": [
    {
     "data": {
      "text/plain": [
       "['@ChatGPT', '@OpenAI']"
      ]
     },
     "execution_count": 324,
     "metadata": {},
     "output_type": "execute_result"
    }
   ],
   "source": [
    "re.findall(nen,nn)"
   ]
  },
  {
   "cell_type": "markdown",
   "id": "854b6018-9493-48d4-b1e3-7f6175d567f8",
   "metadata": {},
   "source": [
    "\n",
    "###### task"
   ]
  },
  {
   "cell_type": "code",
   "execution_count": 330,
   "id": "29c06437-4c2c-4573-8ac9-3bdfb38e98f1",
   "metadata": {},
   "outputs": [],
   "source": [
    "#task16"
   ]
  },
  {
   "cell_type": "code",
   "execution_count": 350,
   "id": "3e45a417-991e-4d8a-a7dc-8b5ce2793074",
   "metadata": {},
   "outputs": [],
   "source": [
    "pw=\"My password is Strong@123!\""
   ]
  },
  {
   "cell_type": "code",
   "execution_count": 356,
   "id": "1fe1b8cc-094b-46b8-8b47-73e83459f250",
   "metadata": {},
   "outputs": [],
   "source": [
    "p=r'^[A-Za-z0-9-!@#$%^&*?]{8, }'"
   ]
  },
  {
   "cell_type": "code",
   "execution_count": 358,
   "id": "fa4d12a5-4e03-490b-a14e-d16b9c85d9ed",
   "metadata": {},
   "outputs": [
    {
     "data": {
      "text/plain": [
       "[]"
      ]
     },
     "execution_count": 358,
     "metadata": {},
     "output_type": "execute_result"
    }
   ],
   "source": [
    "re.findall(p,pw)"
   ]
  },
  {
   "cell_type": "code",
   "execution_count": null,
   "id": "ee46a0ec-0f8c-420c-ba63-aae4e99d2238",
   "metadata": {},
   "outputs": [],
   "source": []
  }
 ],
 "metadata": {
  "kernelspec": {
   "display_name": "Python 3 (ipykernel)",
   "language": "python",
   "name": "python3"
  },
  "language_info": {
   "codemirror_mode": {
    "name": "ipython",
    "version": 3
   },
   "file_extension": ".py",
   "mimetype": "text/x-python",
   "name": "python",
   "nbconvert_exporter": "python",
   "pygments_lexer": "ipython3",
   "version": "3.12.7"
  }
 },
 "nbformat": 4,
 "nbformat_minor": 5
}
