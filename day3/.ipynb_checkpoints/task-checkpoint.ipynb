{
 "cells": [
  {
   "cell_type": "code",
   "execution_count": null,
   "id": "06d844c4-5370-4b36-927d-ad9e9f906b93",
   "metadata": {},
   "outputs": [],
   "source": [
    "#task1"
   ]
  },
  {
   "cell_type": "code",
   "execution_count": 41,
   "id": "67a9e528-c38e-426e-8cc8-0b951f6953c8",
   "metadata": {},
   "outputs": [],
   "source": [
    "basket = [\"Apple\", \"Banana\", \"Cherry\", \"Mango\"]"
   ]
  },
  {
   "cell_type": "code",
   "execution_count": 45,
   "id": "d729402b-8035-4687-81ec-b619b694dd06",
   "metadata": {},
   "outputs": [],
   "source": [
    "basket.insert(2,\"Grapes\")"
   ]
  },
  {
   "cell_type": "code",
   "execution_count": 47,
   "id": "a4501a7e-54bf-4aaf-af23-c0bf1ffa2a3c",
   "metadata": {},
   "outputs": [
    {
     "data": {
      "text/plain": [
       "['Apple', 'Banana', 'Grapes', 'Cherry', 'Mango']"
      ]
     },
     "execution_count": 47,
     "metadata": {},
     "output_type": "execute_result"
    }
   ],
   "source": [
    "basket"
   ]
  },
  {
   "cell_type": "code",
   "execution_count": null,
   "id": "1281ab3a-2966-4046-9ffc-5c6f123f67e2",
   "metadata": {},
   "outputs": [],
   "source": [
    "#task2"
   ]
  },
  {
   "cell_type": "code",
   "execution_count": 49,
   "id": "d793908d-1821-4cf2-ba48-afa190a1a9a8",
   "metadata": {},
   "outputs": [],
   "source": [
    "data = [10, 20, [30, 40, 50], 60, 70] "
   ]
  },
  {
   "cell_type": "code",
   "execution_count": 71,
   "id": "ea51a3fb-586c-479c-bfcc-55e76f3fb714",
   "metadata": {},
   "outputs": [],
   "source": [
    "data[2][1] = 45"
   ]
  },
  {
   "cell_type": "code",
   "execution_count": 73,
   "id": "efc1014c-1c22-48d0-8a5b-09ed4533442c",
   "metadata": {},
   "outputs": [
    {
     "data": {
      "text/plain": [
       "[10, 20, [30, 45, 50], 60, 70]"
      ]
     },
     "execution_count": 73,
     "metadata": {},
     "output_type": "execute_result"
    }
   ],
   "source": [
    "data"
   ]
  },
  {
   "cell_type": "code",
   "execution_count": null,
   "id": "736c13d9-70b2-4d1c-bce7-5041a05206ee",
   "metadata": {},
   "outputs": [],
   "source": [
    "#task3"
   ]
  },
  {
   "cell_type": "code",
   "execution_count": 75,
   "id": "6920f237-9e2b-407a-84ac-d9b6470a4026",
   "metadata": {},
   "outputs": [],
   "source": [
    "nums = [3, 6, 9, 12, 15, 18, 21] "
   ]
  },
  {
   "cell_type": "code",
   "execution_count": 81,
   "id": "ea1bdb11-2eb7-45f1-a062-554bd6075d8d",
   "metadata": {},
   "outputs": [],
   "source": [
    "num2=nums[2:5]"
   ]
  },
  {
   "cell_type": "code",
   "execution_count": 83,
   "id": "0abde03e-6eea-421e-bed0-f1a092a2349d",
   "metadata": {},
   "outputs": [
    {
     "data": {
      "text/plain": [
       "[9, 12, 15]"
      ]
     },
     "execution_count": 83,
     "metadata": {},
     "output_type": "execute_result"
    }
   ],
   "source": [
    "num2"
   ]
  },
  {
   "cell_type": "code",
   "execution_count": 85,
   "id": "9e28a7d2-c6ed-4f77-9ade-8281432a0258",
   "metadata": {},
   "outputs": [],
   "source": [
    "num2.reverse()"
   ]
  },
  {
   "cell_type": "code",
   "execution_count": 87,
   "id": "472dad92-5462-4a28-8b0b-52051370a104",
   "metadata": {},
   "outputs": [
    {
     "data": {
      "text/plain": [
       "[15, 12, 9]"
      ]
     },
     "execution_count": 87,
     "metadata": {},
     "output_type": "execute_result"
    }
   ],
   "source": [
    "num2"
   ]
  },
  {
   "cell_type": "code",
   "execution_count": 91,
   "id": "99daa2b2-e312-4837-85ec-1cf2c9a72215",
   "metadata": {},
   "outputs": [],
   "source": [
    "#task4"
   ]
  },
  {
   "cell_type": "code",
   "execution_count": 93,
   "id": "be47c75c-c951-47bf-bdc3-d1e715fc7b5b",
   "metadata": {},
   "outputs": [],
   "source": [
    "numbers = [5, 3, 8, 5, 10, 5, 12, 5] "
   ]
  },
  {
   "cell_type": "code",
   "execution_count": 99,
   "id": "d4792691-52fc-48c6-b18b-9004eb17c194",
   "metadata": {},
   "outputs": [],
   "source": [
    "numbers1=set(numbers)"
   ]
  },
  {
   "cell_type": "code",
   "execution_count": 103,
   "id": "475dad57-806c-4e19-ac85-089df735bf73",
   "metadata": {},
   "outputs": [],
   "source": [
    "numbers12=list(numbers1)"
   ]
  },
  {
   "cell_type": "code",
   "execution_count": 106,
   "id": "48adb6fa-492a-4917-adad-10d0a688e345",
   "metadata": {},
   "outputs": [
    {
     "data": {
      "text/plain": [
       "[3, 5, 8, 10, 12]"
      ]
     },
     "execution_count": 106,
     "metadata": {},
     "output_type": "execute_result"
    }
   ],
   "source": [
    "numbers12"
   ]
  },
  {
   "cell_type": "code",
   "execution_count": 108,
   "id": "b8ef0464-308c-49c5-b0f9-10642df52e37",
   "metadata": {},
   "outputs": [],
   "source": [
    "#task5\n"
   ]
  },
  {
   "cell_type": "code",
   "execution_count": 110,
   "id": "905e12be-bb04-4243-bdc4-952cf008f120",
   "metadata": {},
   "outputs": [],
   "source": [
    "list1 = [8, 3, 1, 7]  \n",
    "list2 = [4, 9, 2, 6]"
   ]
  },
  {
   "cell_type": "code",
   "execution_count": 114,
   "id": "7fe81e99-dd3f-45db-afde-7848bc2f1913",
   "metadata": {},
   "outputs": [],
   "source": [
    "list1.extend(list2)"
   ]
  },
  {
   "cell_type": "code",
   "execution_count": 132,
   "id": "8e73f1d5-ca15-43a6-8bb7-ec13b8062a9d",
   "metadata": {},
   "outputs": [],
   "source": [
    "list1.sort()"
   ]
  },
  {
   "cell_type": "code",
   "execution_count": 134,
   "id": "7c80c452-8b60-4849-9d90-c6b47a9c467d",
   "metadata": {},
   "outputs": [
    {
     "data": {
      "text/plain": [
       "[1, 2, 3, 4, 6, 7, 8, 9]"
      ]
     },
     "execution_count": 134,
     "metadata": {},
     "output_type": "execute_result"
    }
   ],
   "source": [
    "list1\n"
   ]
  },
  {
   "cell_type": "code",
   "execution_count": 118,
   "id": "13093b35-f681-4216-8b9f-760078be52d9",
   "metadata": {},
   "outputs": [],
   "source": [
    "#task6"
   ]
  },
  {
   "cell_type": "code",
   "execution_count": 144,
   "id": "3040e0bc-54b8-45d7-a1a9-2df7aba72b12",
   "metadata": {},
   "outputs": [],
   "source": [
    "colors = (\"Red\", \"Green\", \"Blue\", \"Yellow\")"
   ]
  },
  {
   "cell_type": "code",
   "execution_count": 146,
   "id": "fcc71d59-da2c-4bf0-bdfe-3dad3e3b6c7d",
   "metadata": {},
   "outputs": [],
   "source": [
    "temp=list(colors)"
   ]
  },
  {
   "cell_type": "code",
   "execution_count": 148,
   "id": "ff36c619-ed06-45a3-b7a8-19afc51241a7",
   "metadata": {},
   "outputs": [],
   "source": [
    "temp[temp.index(\"Green\")]=\"Cyan\""
   ]
  },
  {
   "cell_type": "code",
   "execution_count": 150,
   "id": "e21b997a-c037-4565-b469-2557a5690df5",
   "metadata": {},
   "outputs": [
    {
     "data": {
      "text/plain": [
       "['Red', 'Cyan', 'Blue', 'Yellow']"
      ]
     },
     "execution_count": 150,
     "metadata": {},
     "output_type": "execute_result"
    }
   ],
   "source": [
    "temp"
   ]
  },
  {
   "cell_type": "code",
   "execution_count": 152,
   "id": "3cb66b48-a2af-4eb0-9938-d0f2af260a47",
   "metadata": {},
   "outputs": [],
   "source": [
    "#tsak7"
   ]
  },
  {
   "cell_type": "code",
   "execution_count": 154,
   "id": "874fd403-f125-4c67-86be-36d3e97ce1f7",
   "metadata": {},
   "outputs": [],
   "source": [
    "names = [\"Alice\", \"Bob\", \"Charlie\", \"David\", \"Eve\"] \n"
   ]
  },
  {
   "cell_type": "code",
   "execution_count": 158,
   "id": "5ef2d632-bc36-4f21-8de6-513bf1b9b499",
   "metadata": {},
   "outputs": [
    {
     "name": "stdout",
     "output_type": "stream",
     "text": [
      "2\n"
     ]
    }
   ],
   "source": [
    "print(names.index(\"Charlie\"))"
   ]
  },
  {
   "cell_type": "code",
   "execution_count": 160,
   "id": "3bd09c96-c7ed-4267-844f-8a3573971848",
   "metadata": {},
   "outputs": [],
   "source": [
    "#task8"
   ]
  },
  {
   "cell_type": "code",
   "execution_count": 162,
   "id": "c045493d-ed31-400d-9e1b-ed07141e32f9",
   "metadata": {},
   "outputs": [],
   "source": [
    "nums_tuple = (4, 2, 4, 6, 4, 8, 4, 10)"
   ]
  },
  {
   "cell_type": "code",
   "execution_count": 164,
   "id": "0ef8f707-d072-4f84-8d90-61b2f13f4659",
   "metadata": {},
   "outputs": [
    {
     "data": {
      "text/plain": [
       "4"
      ]
     },
     "execution_count": 164,
     "metadata": {},
     "output_type": "execute_result"
    }
   ],
   "source": [
    "nums_tuple.count(4)\n",
    "        "
   ]
  },
  {
   "cell_type": "code",
   "execution_count": 176,
   "id": "48297e46-06e3-4381-b995-d615dcaf6e64",
   "metadata": {},
   "outputs": [],
   "source": [
    "values = [10, 20, 30, 40, 50]  "
   ]
  },
  {
   "cell_type": "code",
   "execution_count": 186,
   "id": "b126059e-7cf9-4015-94df-56103274ddd2",
   "metadata": {},
   "outputs": [],
   "source": [
    "values[0],values[4]=values[4],values[0]"
   ]
  },
  {
   "cell_type": "code",
   "execution_count": 188,
   "id": "a0d2a370-5976-47c1-bc78-d345df160ea5",
   "metadata": {},
   "outputs": [
    {
     "data": {
      "text/plain": [
       "[50, 20, 30, 40, 10]"
      ]
     },
     "execution_count": 188,
     "metadata": {},
     "output_type": "execute_result"
    }
   ],
   "source": [
    "values"
   ]
  },
  {
   "cell_type": "code",
   "execution_count": 190,
   "id": "20fe861a-feab-40c3-b754-4e5fc86140bc",
   "metadata": {},
   "outputs": [],
   "source": [
    "#task9"
   ]
  },
  {
   "cell_type": "code",
   "execution_count": 204,
   "id": "0e155803-0a59-4861-a95f-003c968557e0",
   "metadata": {},
   "outputs": [],
   "source": [
    "\n",
    "values=[]"
   ]
  },
  {
   "cell_type": "code",
   "execution_count": 220,
   "id": "1c825493-3e00-43b2-8dc9-203b282e0248",
   "metadata": {},
   "outputs": [],
   "source": [
    "for i in range(1,10):\n",
    "    values.append(i**2)\n",
    "    "
   ]
  },
  {
   "cell_type": "code",
   "execution_count": 222,
   "id": "2b3d07b7-c3c9-49b3-b57e-b77a054218ed",
   "metadata": {},
   "outputs": [
    {
     "data": {
      "text/plain": [
       "[1, 4, 9, 16, 25, 36, 49, 64, 81]"
      ]
     },
     "execution_count": 222,
     "metadata": {},
     "output_type": "execute_result"
    }
   ],
   "source": [
    "values"
   ]
  },
  {
   "cell_type": "code",
   "execution_count": 224,
   "id": "58a8fd66-c69f-4973-af6d-77b4f31e8ac1",
   "metadata": {},
   "outputs": [],
   "source": [
    "#task10"
   ]
  },
  {
   "cell_type": "code",
   "execution_count": 226,
   "id": "47fb4c91-a331-4a16-b4ff-b9c960c33ecd",
   "metadata": {},
   "outputs": [],
   "source": [
    "my_tuple = (1, 2, 3, 4, 5)"
   ]
  },
  {
   "cell_type": "code",
   "execution_count": 249,
   "id": "a6171971-5827-4f15-8400-bf89ac3a03f8",
   "metadata": {},
   "outputs": [
    {
     "data": {
      "text/plain": [
       "(5, 4, 3, 2, 1)"
      ]
     },
     "execution_count": 249,
     "metadata": {},
     "output_type": "execute_result"
    }
   ],
   "source": [
    "tuple(reversed(my_tuple))"
   ]
  },
  {
   "cell_type": "code",
   "execution_count": 251,
   "id": "d5a79d91-a5f8-4254-96d7-30e082b5372d",
   "metadata": {},
   "outputs": [],
   "source": [
    "#task11"
   ]
  },
  {
   "cell_type": "code",
   "execution_count": 253,
   "id": "a7e789ed-bdda-4ef0-a3a2-1d5d2cd4f53c",
   "metadata": {},
   "outputs": [],
   "source": [
    "data = [23, 45, 67, 12, 89, 34] "
   ]
  },
  {
   "cell_type": "code",
   "execution_count": 263,
   "id": "a2cfc9c8-dbe1-443c-9564-8dc15533db47",
   "metadata": {},
   "outputs": [
    {
     "data": {
      "text/plain": [
       "89"
      ]
     },
     "execution_count": 263,
     "metadata": {},
     "output_type": "execute_result"
    }
   ],
   "source": [
    "max(data)"
   ]
  },
  {
   "cell_type": "code",
   "execution_count": 265,
   "id": "9c93dce9-7729-4063-8f04-6086c4c59e1d",
   "metadata": {},
   "outputs": [
    {
     "data": {
      "text/plain": [
       "12"
      ]
     },
     "execution_count": 265,
     "metadata": {},
     "output_type": "execute_result"
    }
   ],
   "source": [
    "min(data)"
   ]
  },
  {
   "cell_type": "code",
   "execution_count": 259,
   "id": "9b95dcb6-7268-464c-9716-fd743ea7d484",
   "metadata": {},
   "outputs": [],
   "source": [
    "#task12\n"
   ]
  },
  {
   "cell_type": "code",
   "execution_count": 261,
   "id": "d7daa81e-af9d-4015-b032-b672746b3b75",
   "metadata": {},
   "outputs": [],
   "source": [
    "nums = [10, 20, 30, 40, 50, 60, 70]"
   ]
  },
  {
   "cell_type": "code",
   "execution_count": 271,
   "id": "7e9082ae-678a-4930-9ed8-2bd54139ff4a",
   "metadata": {},
   "outputs": [
    {
     "name": "stdout",
     "output_type": "stream",
     "text": [
      "[10, 30, 50, 70]\n"
     ]
    }
   ],
   "source": [
    "print(nums[::2])"
   ]
  },
  {
   "cell_type": "code",
   "execution_count": 273,
   "id": "0f45ea82-c4ad-4132-9783-474a38cc7583",
   "metadata": {},
   "outputs": [],
   "source": [
    "#task13"
   ]
  },
  {
   "cell_type": "code",
   "execution_count": 275,
   "id": "0fde9036-33da-4905-9ca1-e1758df21abb",
   "metadata": {},
   "outputs": [],
   "source": [
    "nested_list = [[1, 2, 3], [4, 5, 6], [7, 8, 9]]"
   ]
  },
  {
   "cell_type": "code",
   "execution_count": 333,
   "id": "f10353da-9e43-4b56-9f16-e81e30e8d434",
   "metadata": {},
   "outputs": [
    {
     "data": {
      "text/plain": [
       "[1, 2, 3, 4, 5, 6, 7, 8, 9]"
      ]
     },
     "execution_count": 333,
     "metadata": {},
     "output_type": "execute_result"
    }
   ],
   "source": [
    "nested=[]\n",
    "for i in nested_list:\n",
    "    for j in i:\n",
    "        nested.append(j)\n",
    "nested"
   ]
  },
  {
   "cell_type": "code",
   "execution_count": 277,
   "id": "7ca74dcd-e399-4e83-89ab-6cc860ed662f",
   "metadata": {},
   "outputs": [],
   "source": [
    "#task14"
   ]
  },
  {
   "cell_type": "code",
   "execution_count": 279,
   "id": "e8676cfc-2877-4c4a-827f-79eaadebc343",
   "metadata": {},
   "outputs": [],
   "source": [
    "list_a = [1, 2, 3, 4, 5, 6]  \n",
    "list_b = [4, 5, 6, 7, 8, 9] "
   ]
  },
  {
   "cell_type": "code",
   "execution_count": 341,
   "id": "fcf1e47f-8d01-41da-b56e-6e8ba1cddfa1",
   "metadata": {},
   "outputs": [
    {
     "name": "stdout",
     "output_type": "stream",
     "text": [
      "[4, 5, 6]\n"
     ]
    }
   ],
   "source": [
    "master=list_a+list_b\n",
    "com=[]\n",
    "for e in master:\n",
    "    if e in list_a and e in list_b:\n",
    "        if e not in com:\n",
    "            com.append(e)\n",
    "print(com)\n",
    "    "
   ]
  },
  {
   "cell_type": "code",
   "execution_count": null,
   "id": "1bd27685-e337-4dc5-bf2c-f2d63495dfb1",
   "metadata": {},
   "outputs": [],
   "source": []
  },
  {
   "cell_type": "code",
   "execution_count": 281,
   "id": "f5fef1a3-e3c4-43c6-a6bd-341b4c2319e8",
   "metadata": {},
   "outputs": [],
   "source": [
    "seta=set(list_a)\n",
    "setb=set(list_b)"
   ]
  },
  {
   "cell_type": "code",
   "execution_count": 285,
   "id": "65e29d9e-f3bd-46f1-9e53-cd62bf4a40a4",
   "metadata": {},
   "outputs": [],
   "source": [
    "setab=seta&setb"
   ]
  },
  {
   "cell_type": "code",
   "execution_count": 287,
   "id": "18ba4f6f-8f7e-4dcc-9b59-fb8c534a3630",
   "metadata": {},
   "outputs": [
    {
     "data": {
      "text/plain": [
       "{4, 5, 6}"
      ]
     },
     "execution_count": 287,
     "metadata": {},
     "output_type": "execute_result"
    }
   ],
   "source": [
    "setab"
   ]
  },
  {
   "cell_type": "code",
   "execution_count": 289,
   "id": "32df56cc-18b5-488c-934e-5868f33e87ca",
   "metadata": {},
   "outputs": [],
   "source": [
    "commonlist=list(setab)"
   ]
  },
  {
   "cell_type": "code",
   "execution_count": 291,
   "id": "3322e409-b5a5-4d0b-8a01-2e656b9982de",
   "metadata": {},
   "outputs": [
    {
     "data": {
      "text/plain": [
       "[4, 5, 6]"
      ]
     },
     "execution_count": 291,
     "metadata": {},
     "output_type": "execute_result"
    }
   ],
   "source": [
    "commonlist"
   ]
  },
  {
   "cell_type": "code",
   "execution_count": 293,
   "id": "a99e9aca-c513-4b21-8973-293201132950",
   "metadata": {},
   "outputs": [],
   "source": [
    "#task15"
   ]
  },
  {
   "cell_type": "code",
   "execution_count": 295,
   "id": "caeaa46a-e914-426f-9cea-45ade8b5821f",
   "metadata": {},
   "outputs": [],
   "source": [
    "scores = [78, 55, 92, 30, 88, 62]  "
   ]
  },
  {
   "cell_type": "code",
   "execution_count": 297,
   "id": "8cb72010-3ab7-4b97-83c2-f4dabc69fd52",
   "metadata": {},
   "outputs": [],
   "source": [
    "scores.sort(reverse=True)"
   ]
  },
  {
   "cell_type": "code",
   "execution_count": 299,
   "id": "fa001e00-e748-433c-8804-5cadcd1e325a",
   "metadata": {},
   "outputs": [
    {
     "data": {
      "text/plain": [
       "[92, 88, 78, 62, 55, 30]"
      ]
     },
     "execution_count": 299,
     "metadata": {},
     "output_type": "execute_result"
    }
   ],
   "source": [
    "scores"
   ]
  },
  {
   "cell_type": "code",
   "execution_count": null,
   "id": "70691f83-8343-4b4b-918c-9393856dd5f7",
   "metadata": {},
   "outputs": [],
   "source": [
    "#task16"
   ]
  },
  {
   "cell_type": "code",
   "execution_count": 301,
   "id": "0989497b-823c-4855-a3ee-9fccaa78a197",
   "metadata": {},
   "outputs": [],
   "source": [
    "my_tuple = (1, 2, 3)  "
   ]
  },
  {
   "cell_type": "code",
   "execution_count": 303,
   "id": "eecd5d26-fe31-459c-902e-56d69c9ef4c7",
   "metadata": {},
   "outputs": [],
   "source": [
    "my_tuple1=my_tuple*3"
   ]
  },
  {
   "cell_type": "code",
   "execution_count": 307,
   "id": "f4732658-4948-4c85-911d-622919e0e34e",
   "metadata": {},
   "outputs": [
    {
     "data": {
      "text/plain": [
       "(3, 2, 1, 3, 2, 1, 3, 2, 1)"
      ]
     },
     "execution_count": 307,
     "metadata": {},
     "output_type": "execute_result"
    }
   ],
   "source": [
    "tuple(reversed(my_tuple1))"
   ]
  },
  {
   "cell_type": "code",
   "execution_count": 309,
   "id": "cee19ec3-1b08-43f9-b57d-2b19baa0dbf2",
   "metadata": {},
   "outputs": [],
   "source": [
    "numbers = [1, 2, 2, 3, 4, 4, 5, 6, 6]"
   ]
  },
  {
   "cell_type": "code",
   "execution_count": 311,
   "id": "019c424c-1c1b-4ad1-b7aa-5d60594746fc",
   "metadata": {},
   "outputs": [],
   "source": [
    "num22=set(numbers)"
   ]
  },
  {
   "cell_type": "code",
   "execution_count": 313,
   "id": "ffb7cfdd-fc0b-47d1-8a99-9561781aa67d",
   "metadata": {},
   "outputs": [
    {
     "data": {
      "text/plain": [
       "{1, 2, 3, 4, 5, 6}"
      ]
     },
     "execution_count": 313,
     "metadata": {},
     "output_type": "execute_result"
    }
   ],
   "source": [
    "num22"
   ]
  },
  {
   "cell_type": "code",
   "execution_count": 315,
   "id": "35b9abbb-fc45-4237-81ed-3abe210d219c",
   "metadata": {},
   "outputs": [],
   "source": [
    "numbers1=list(num22)"
   ]
  },
  {
   "cell_type": "code",
   "execution_count": 317,
   "id": "11994048-f785-432c-8e53-49fe6b4516c5",
   "metadata": {},
   "outputs": [
    {
     "data": {
      "text/plain": [
       "[1, 2, 3, 4, 5, 6]"
      ]
     },
     "execution_count": 317,
     "metadata": {},
     "output_type": "execute_result"
    }
   ],
   "source": [
    "numbers1"
   ]
  },
  {
   "cell_type": "code",
   "execution_count": 319,
   "id": "4b027301-fc7a-47de-b874-48ee7c12fe59",
   "metadata": {},
   "outputs": [],
   "source": [
    "#task17"
   ]
  },
  {
   "cell_type": "code",
   "execution_count": 323,
   "id": "0ffc19e9-a4d6-489d-923f-d7abc2d2a680",
   "metadata": {},
   "outputs": [],
   "source": [
    "words = [\"Hello\", \"World\", \"Python\", \"Programming\"]"
   ]
  },
  {
   "cell_type": "code",
   "execution_count": 327,
   "id": "cfc60635-2d25-4002-83ee-252ee3e27190",
   "metadata": {},
   "outputs": [],
   "source": [
    "words.insert(2,\"Amazing\")"
   ]
  },
  {
   "cell_type": "code",
   "execution_count": 329,
   "id": "cff92853-bcbd-4722-8fbe-a0c9484a29ce",
   "metadata": {},
   "outputs": [
    {
     "data": {
      "text/plain": [
       "['Hello', 'World', 'Amazing', 'Python', 'Programming']"
      ]
     },
     "execution_count": 329,
     "metadata": {},
     "output_type": "execute_result"
    }
   ],
   "source": [
    "words"
   ]
  },
  {
   "cell_type": "code",
   "execution_count": 335,
   "id": "33d209b8-4516-4ae3-bb91-24e238db26e4",
   "metadata": {},
   "outputs": [],
   "source": [
    "pairs = [(\"a\", 1), (\"b\", 2), (\"c\", 3)] "
   ]
  },
  {
   "cell_type": "code",
   "execution_count": 337,
   "id": "197f882f-14ef-4842-b02c-c1f3e2b044b4",
   "metadata": {},
   "outputs": [],
   "source": [
    "pp=dict(pairs)"
   ]
  },
  {
   "cell_type": "code",
   "execution_count": 339,
   "id": "afe53c8c-9b88-47cb-a93f-79c435d3e4c9",
   "metadata": {},
   "outputs": [
    {
     "data": {
      "text/plain": [
       "{'a': 1, 'b': 2, 'c': 3}"
      ]
     },
     "execution_count": 339,
     "metadata": {},
     "output_type": "execute_result"
    }
   ],
   "source": [
    "pp"
   ]
  },
  {
   "cell_type": "code",
   "execution_count": null,
   "id": "7cc9d0a1-a2ca-482f-b68c-6310884ca063",
   "metadata": {},
   "outputs": [],
   "source": []
  }
 ],
 "metadata": {
  "kernelspec": {
   "display_name": "Python 3 (ipykernel)",
   "language": "python",
   "name": "python3"
  },
  "language_info": {
   "codemirror_mode": {
    "name": "ipython",
    "version": 3
   },
   "file_extension": ".py",
   "mimetype": "text/x-python",
   "name": "python",
   "nbconvert_exporter": "python",
   "pygments_lexer": "ipython3",
   "version": "3.12.7"
  }
 },
 "nbformat": 4,
 "nbformat_minor": 5
}
