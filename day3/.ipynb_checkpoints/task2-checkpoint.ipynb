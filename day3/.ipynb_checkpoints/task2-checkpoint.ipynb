{
 "cells": [
  {
   "cell_type": "code",
   "execution_count": null,
   "id": "58fb5909-c12e-4b0e-9405-78d694469605",
   "metadata": {},
   "outputs": [],
   "source": [
    "#tsak1"
   ]
  },
  {
   "cell_type": "code",
   "execution_count": 3,
   "id": "e0ee1d1f-ad2a-4879-b74a-9a51b4755642",
   "metadata": {},
   "outputs": [],
   "source": [
    "nums = [1, 2, 3, 4, 5]\n"
   ]
  },
  {
   "cell_type": "code",
   "execution_count": 7,
   "id": "d67434f8-0225-4258-9998-cc6149a94b84",
   "metadata": {},
   "outputs": [
    {
     "name": "stdout",
     "output_type": "stream",
     "text": [
      "15\n"
     ]
    }
   ],
   "source": [
    "sum=0\n",
    "for i in nums:\n",
    "    sum+=i\n",
    "print(sum)"
   ]
  },
  {
   "cell_type": "code",
   "execution_count": 9,
   "id": "00d4494c-d629-40e0-8131-220a10756b7b",
   "metadata": {},
   "outputs": [],
   "source": [
    "#task2"
   ]
  },
  {
   "cell_type": "code",
   "execution_count": 3,
   "id": "3d2f236b-c00a-49b5-9bc3-9124b255e303",
   "metadata": {},
   "outputs": [
    {
     "name": "stdout",
     "output_type": "stream",
     "text": [
      "0\n",
      "1\n",
      "2\n",
      "3\n",
      "4\n",
      "5\n"
     ]
    }
   ],
   "source": [
    "count = 0\n",
    "while count<=5:\n",
    "    print(count)\n",
    "    count+=1"
   ]
  },
  {
   "cell_type": "code",
   "execution_count": 17,
   "id": "6d5fbe2b-d0c0-45e9-b32b-950ddcd93cc9",
   "metadata": {},
   "outputs": [],
   "source": [
    "#task3\n"
   ]
  },
  {
   "cell_type": "code",
   "execution_count": 29,
   "id": "9a1a249e-322c-49fb-90f1-43c346e07b8f",
   "metadata": {},
   "outputs": [],
   "source": [
    "fruits = [\"Apple\", \"Banana\", \"Cherry\", \"Mango\"]"
   ]
  },
  {
   "cell_type": "code",
   "execution_count": 31,
   "id": "4732ad87-0608-4a10-a75e-301383acc8c3",
   "metadata": {},
   "outputs": [
    {
     "name": "stdout",
     "output_type": "stream",
     "text": [
      "APPLE\n",
      "BANANA\n",
      "CHERRY\n",
      "MANGO\n"
     ]
    }
   ],
   "source": [
    "for i in fruits:\n",
    "    print(i.upper())"
   ]
  },
  {
   "cell_type": "code",
   "execution_count": 29,
   "id": "82149f72-03ea-403d-ab87-a2aeced2e89e",
   "metadata": {},
   "outputs": [],
   "source": [
    "#task4"
   ]
  },
  {
   "cell_type": "code",
   "execution_count": 41,
   "id": "0b6c712f-7e18-4e80-b24b-0b88568413df",
   "metadata": {},
   "outputs": [
    {
     "name": "stdout",
     "output_type": "stream",
     "text": [
      "1 4 9 16 25 36 49 64 81 100 "
     ]
    }
   ],
   "source": [
    "num = 1\n",
    "while num<=10:\n",
    "    print(num**2,end=\" \")\n",
    "    num+=1"
   ]
  },
  {
   "cell_type": "code",
   "execution_count": 43,
   "id": "5c86e7f7-f4ea-428e-ad94-d15e8a895ecd",
   "metadata": {},
   "outputs": [],
   "source": [
    "#task5"
   ]
  },
  {
   "cell_type": "code",
   "execution_count": 49,
   "id": "be7a6d6e-b6f9-4a1d-890a-61cda3fd3868",
   "metadata": {},
   "outputs": [
    {
     "data": {
      "text/plain": [
       "[8, 64, 216, 512, 1000]"
      ]
     },
     "execution_count": 49,
     "metadata": {},
     "output_type": "execute_result"
    }
   ],
   "source": [
    "values1=[]\n",
    "values = [2, 4, 6, 8, 10] \n",
    "for i in values:\n",
    "    values1.append(i**3)\n",
    "values1\n",
    "    "
   ]
  },
  {
   "cell_type": "code",
   "execution_count": 51,
   "id": "d5ca4d9c-963f-446b-82eb-b3e447768c8b",
   "metadata": {},
   "outputs": [],
   "source": [
    "#task6"
   ]
  },
  {
   "cell_type": "code",
   "execution_count": 53,
   "id": "401b8436-695c-486d-ad5d-be663c3956a8",
   "metadata": {},
   "outputs": [],
   "source": [
    "sentence = \"Python is fun\" "
   ]
  },
  {
   "cell_type": "code",
   "execution_count": 71,
   "id": "0b163089-7374-4627-aee2-edd321200e26",
   "metadata": {},
   "outputs": [
    {
     "name": "stdout",
     "output_type": "stream",
     "text": [
      "13\n"
     ]
    }
   ],
   "source": [
    "\n",
    "count =0\n",
    "if \"o\" in sentence:\n",
    "    count+=1\n",
    "print(count)"
   ]
  },
  {
   "cell_type": "code",
   "execution_count": 73,
   "id": "5877d6b8-fee2-4bd8-be2f-fe2676cc1d39",
   "metadata": {},
   "outputs": [],
   "source": [
    "#task7"
   ]
  },
  {
   "cell_type": "code",
   "execution_count": 11,
   "id": "64888807-dc07-4c53-85dd-a04d4ed081af",
   "metadata": {},
   "outputs": [
    {
     "name": "stdout",
     "output_type": "stream",
     "text": [
      "10\n",
      "8\n",
      "6\n",
      "4\n",
      "2\n"
     ]
    }
   ],
   "source": [
    "num = 10\n",
    "while num >= 2:\n",
    "    print(num)\n",
    "    num -= 2"
   ]
  },
  {
   "cell_type": "code",
   "execution_count": 13,
   "id": "cd8f6427-0a3a-43d2-8e1d-45820d5fb98c",
   "metadata": {},
   "outputs": [],
   "source": [
    "#task8\n"
   ]
  },
  {
   "cell_type": "code",
   "execution_count": 87,
   "id": "1380751e-af6b-4a64-aa04-564f7eabc977",
   "metadata": {},
   "outputs": [],
   "source": [
    "matrix = [[1, 2], [3, 4], [5, 6]]\n"
   ]
  },
  {
   "cell_type": "code",
   "execution_count": 111,
   "id": "32535079-adc2-4395-8430-9de013041d0e",
   "metadata": {},
   "outputs": [
    {
     "name": "stdout",
     "output_type": "stream",
     "text": [
      "1 2 3 4 5 6 "
     ]
    }
   ],
   "source": [
    "for i in range(len(matrix)):\n",
    "    for j in range(len(matrix[i])):\n",
    "        print(matrix[i][j],end=\" \")\n",
    "        "
   ]
  },
  {
   "cell_type": "code",
   "execution_count": 33,
   "id": "d9e77bec-59a7-4e40-8877-a4f2c919873e",
   "metadata": {},
   "outputs": [],
   "source": [
    "#task9"
   ]
  },
  {
   "cell_type": "code",
   "execution_count": 51,
   "id": "3e6c286c-3741-4ece-9e6a-7031a1e1d4fd",
   "metadata": {},
   "outputs": [
    {
     "name": "stdout",
     "output_type": "stream",
     "text": [
      "5040\n"
     ]
    }
   ],
   "source": [
    "num = 7  \n",
    "res=1\n",
    "while num>0:\n",
    "    res=res*num\n",
    "    num-=1\n",
    "print(res)\n",
    "    "
   ]
  },
  {
   "cell_type": "code",
   "execution_count": 53,
   "id": "884d0581-dd34-4d89-9eaa-6146f431e300",
   "metadata": {},
   "outputs": [],
   "source": [
    "#TASK10"
   ]
  },
  {
   "cell_type": "code",
   "execution_count": 55,
   "id": "3128101b-d563-40f5-b12c-6bbf75fac142",
   "metadata": {},
   "outputs": [],
   "source": [
    "numbers = [3, 9, 12, 18, 21, 25] "
   ]
  },
  {
   "cell_type": "code",
   "execution_count": 113,
   "id": "439b00ae-9a82-4b1a-a826-910dba9d9c24",
   "metadata": {},
   "outputs": [
    {
     "name": "stdout",
     "output_type": "stream",
     "text": [
      "3 9 12 18 21 "
     ]
    }
   ],
   "source": [
    "for i in numbers:\n",
    "    if i%3==0:\n",
    "        print(i,end =\" \")"
   ]
  },
  {
   "cell_type": "code",
   "execution_count": null,
   "id": "26e5572a-19a0-4c39-a777-a3d360b58540",
   "metadata": {},
   "outputs": [],
   "source": []
  }
 ],
 "metadata": {
  "kernelspec": {
   "display_name": "Python 3 (ipykernel)",
   "language": "python",
   "name": "python3"
  },
  "language_info": {
   "codemirror_mode": {
    "name": "ipython",
    "version": 3
   },
   "file_extension": ".py",
   "mimetype": "text/x-python",
   "name": "python",
   "nbconvert_exporter": "python",
   "pygments_lexer": "ipython3",
   "version": "3.12.7"
  }
 },
 "nbformat": 4,
 "nbformat_minor": 5
}
