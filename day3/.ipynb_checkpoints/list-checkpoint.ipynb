{
 "cells": [
  {
   "cell_type": "code",
   "execution_count": 3,
   "id": "e17ac8c3-e80d-4912-96fd-6935a523e4aa",
   "metadata": {},
   "outputs": [],
   "source": [
    "l=[1,2,3,4,5,['hi','hello'],'okay']"
   ]
  },
  {
   "cell_type": "code",
   "execution_count": 5,
   "id": "21db12ed-3661-4232-977a-62e95de4b172",
   "metadata": {},
   "outputs": [
    {
     "data": {
      "text/plain": [
       "[1, 2, 3, 4, 5, ['hi', 'hello'], 'okay']"
      ]
     },
     "execution_count": 5,
     "metadata": {},
     "output_type": "execute_result"
    }
   ],
   "source": [
    "l\n"
   ]
  },
  {
   "cell_type": "code",
   "execution_count": 7,
   "id": "e1163f20-bbfc-45b6-9e87-5408153e47c1",
   "metadata": {},
   "outputs": [
    {
     "data": {
      "text/plain": [
       "list"
      ]
     },
     "execution_count": 7,
     "metadata": {},
     "output_type": "execute_result"
    }
   ],
   "source": [
    "type(l)"
   ]
  },
  {
   "cell_type": "code",
   "execution_count": 13,
   "id": "ccdc6852-a291-432b-a91b-52043790f7e5",
   "metadata": {},
   "outputs": [],
   "source": [
    "l[1]=90"
   ]
  },
  {
   "cell_type": "code",
   "execution_count": 15,
   "id": "862a676c-af53-4fc1-b60d-2bc829ea7ca6",
   "metadata": {},
   "outputs": [
    {
     "data": {
      "text/plain": [
       "[1, 90, 3, 4, 5, ['hi', 'hello'], 'okay']"
      ]
     },
     "execution_count": 15,
     "metadata": {},
     "output_type": "execute_result"
    }
   ],
   "source": [
    "l\n"
   ]
  },
  {
   "cell_type": "code",
   "execution_count": 17,
   "id": "7bb9d87f-4fca-458c-b6fe-7fd2fa2130a6",
   "metadata": {},
   "outputs": [],
   "source": [
    "m=l*3\n"
   ]
  },
  {
   "cell_type": "code",
   "execution_count": 19,
   "id": "e7777653-e63e-450b-8e42-5ae2355a4046",
   "metadata": {},
   "outputs": [
    {
     "data": {
      "text/plain": [
       "[1,\n",
       " 90,\n",
       " 3,\n",
       " 4,\n",
       " 5,\n",
       " ['hi', 'hello'],\n",
       " 'okay',\n",
       " 1,\n",
       " 90,\n",
       " 3,\n",
       " 4,\n",
       " 5,\n",
       " ['hi', 'hello'],\n",
       " 'okay',\n",
       " 1,\n",
       " 90,\n",
       " 3,\n",
       " 4,\n",
       " 5,\n",
       " ['hi', 'hello'],\n",
       " 'okay']"
      ]
     },
     "execution_count": 19,
     "metadata": {},
     "output_type": "execute_result"
    }
   ],
   "source": [
    "m"
   ]
  },
  {
   "cell_type": "code",
   "execution_count": 23,
   "id": "2fff82de-0790-4aa9-8332-7f38abe73e33",
   "metadata": {},
   "outputs": [
    {
     "data": {
      "text/plain": [
       "True"
      ]
     },
     "execution_count": 23,
     "metadata": {},
     "output_type": "execute_result"
    }
   ],
   "source": [
    "1 in m"
   ]
  },
  {
   "cell_type": "code",
   "execution_count": 29,
   "id": "946e0b3a-d401-4ae8-a0bd-1531af703e5e",
   "metadata": {},
   "outputs": [
    {
     "ename": "NameError",
     "evalue": "name 'm' is not defined",
     "output_type": "error",
     "traceback": [
      "\u001b[1;31m---------------------------------------------------------------------------\u001b[0m",
      "\u001b[1;31mNameError\u001b[0m                                 Traceback (most recent call last)",
      "Cell \u001b[1;32mIn[29], line 1\u001b[0m\n\u001b[1;32m----> 1\u001b[0m \u001b[38;5;28;01mdel\u001b[39;00m m\n",
      "\u001b[1;31mNameError\u001b[0m: name 'm' is not defined"
     ]
    }
   ],
   "source": [
    "del m"
   ]
  },
  {
   "cell_type": "markdown",
   "id": "5c2c60fc-f688-427d-bf30-37269663e572",
   "metadata": {},
   "source": [
    "m"
   ]
  },
  {
   "cell_type": "code",
   "execution_count": 31,
   "id": "4685bdc9-263d-4419-864c-205af38392ab",
   "metadata": {},
   "outputs": [],
   "source": [
    "m=[1,2,3,4]\n"
   ]
  },
  {
   "cell_type": "code",
   "execution_count": 35,
   "id": "9fbe6726-f818-4071-ab98-9db028089ecc",
   "metadata": {},
   "outputs": [],
   "source": [
    "m.append(5) #it will add the lemenet to the end of the list "
   ]
  },
  {
   "cell_type": "code",
   "execution_count": 37,
   "id": "30020016-c27a-4212-b08c-0a44fee3b333",
   "metadata": {},
   "outputs": [
    {
     "data": {
      "text/plain": [
       "[1, 2, 3, 4, 5, 5]"
      ]
     },
     "execution_count": 37,
     "metadata": {},
     "output_type": "execute_result"
    }
   ],
   "source": [
    "m"
   ]
  },
  {
   "cell_type": "code",
   "execution_count": 41,
   "id": "511876e7-6228-4fc6-98dd-7b63f188f0d1",
   "metadata": {},
   "outputs": [],
   "source": [
    "m.insert(1,0)\n"
   ]
  },
  {
   "cell_type": "code",
   "execution_count": 43,
   "id": "c1e0bd26-d5b2-4d18-b185-00b115d2a534",
   "metadata": {},
   "outputs": [
    {
     "data": {
      "text/plain": [
       "[1, 0, 0, 2, 3, 4, 5, 5]"
      ]
     },
     "execution_count": 43,
     "metadata": {},
     "output_type": "execute_result"
    }
   ],
   "source": [
    "m"
   ]
  },
  {
   "cell_type": "code",
   "execution_count": 47,
   "id": "08b0046e-41a5-4106-899e-911ed08af650",
   "metadata": {},
   "outputs": [],
   "source": [
    "l=['hi','hello']"
   ]
  },
  {
   "cell_type": "code",
   "execution_count": 51,
   "id": "acf4db08-fe0c-4032-a879-371504bda807",
   "metadata": {},
   "outputs": [],
   "source": [
    "m.extend(l) #it will combine two list"
   ]
  },
  {
   "cell_type": "markdown",
   "id": "54c2a45c-2e94-41c0-b303-629140bd35d4",
   "metadata": {},
   "source": [
    "m"
   ]
  },
  {
   "cell_type": "code",
   "execution_count": 56,
   "id": "01c9c4fd-de9e-4081-8cb3-c5e6c35d91f2",
   "metadata": {},
   "outputs": [
    {
     "data": {
      "text/plain": [
       "[1, 0, 0, 2, 3, 4, 5, 5, 'hi', 'hello']"
      ]
     },
     "execution_count": 56,
     "metadata": {},
     "output_type": "execute_result"
    }
   ],
   "source": [
    "m\n"
   ]
  },
  {
   "cell_type": "code",
   "execution_count": 58,
   "id": "31cc4b0b-f6ea-424b-ad04-9d8d3f1e78d8",
   "metadata": {},
   "outputs": [],
   "source": [
    "l2=['r','t','y']"
   ]
  },
  {
   "cell_type": "code",
   "execution_count": 62,
   "id": "2a866d5d-5147-46a0-a85a-c6fe21b1dc7f",
   "metadata": {},
   "outputs": [],
   "source": [
    "l3=['o','p']"
   ]
  },
  {
   "cell_type": "code",
   "execution_count": 64,
   "id": "6641ec5d-ed12-46bd-bbc0-cacb12c73138",
   "metadata": {},
   "outputs": [],
   "source": [
    "l2[0:1] =l3"
   ]
  },
  {
   "cell_type": "code",
   "execution_count": 66,
   "id": "b9316948-ccb5-46c4-83ac-74e8e5c4bf67",
   "metadata": {},
   "outputs": [
    {
     "data": {
      "text/plain": [
       "['o', 'p', 't', 'y']"
      ]
     },
     "execution_count": 66,
     "metadata": {},
     "output_type": "execute_result"
    }
   ],
   "source": [
    "l2"
   ]
  },
  {
   "cell_type": "code",
   "execution_count": 76,
   "id": "c90172a3-76cc-4ff7-bf77-cc7228f1c504",
   "metadata": {},
   "outputs": [],
   "source": [
    "l2[0:1]='prathap'"
   ]
  },
  {
   "cell_type": "code",
   "execution_count": 78,
   "id": "773fe17f-4fd8-4c20-9501-c17c00847319",
   "metadata": {},
   "outputs": [
    {
     "data": {
      "text/plain": [
       "['p',\n",
       " 'r',\n",
       " 'a',\n",
       " 't',\n",
       " 'h',\n",
       " 'a',\n",
       " 'p',\n",
       " 'r',\n",
       " 'a',\n",
       " 't',\n",
       " 'h',\n",
       " 'a',\n",
       " 'p',\n",
       " 'r',\n",
       " 'a',\n",
       " 't',\n",
       " 'h',\n",
       " 'a',\n",
       " 'p',\n",
       " 'y']"
      ]
     },
     "execution_count": 78,
     "metadata": {},
     "output_type": "execute_result"
    }
   ],
   "source": [
    "l2"
   ]
  },
  {
   "cell_type": "code",
   "execution_count": 88,
   "id": "d452b995-93b5-49dc-977c-fed84310b446",
   "metadata": {},
   "outputs": [
    {
     "data": {
      "text/plain": [
       "'a'"
      ]
     },
     "execution_count": 88,
     "metadata": {},
     "output_type": "execute_result"
    }
   ],
   "source": [
    "l2.pop(2)"
   ]
  },
  {
   "cell_type": "code",
   "execution_count": 90,
   "id": "350e6ab3-4366-4377-b50b-e8f6f602b823",
   "metadata": {},
   "outputs": [],
   "source": [
    "l2.remove('y')"
   ]
  },
  {
   "cell_type": "code",
   "execution_count": 95,
   "id": "bbfc945d-b6e1-4c10-ba74-855a23f1476a",
   "metadata": {},
   "outputs": [],
   "source": [
    "l2.clear()\n"
   ]
  },
  {
   "cell_type": "code",
   "execution_count": 97,
   "id": "7c9c54b6-3323-4a54-b53d-0d871189cab9",
   "metadata": {},
   "outputs": [
    {
     "data": {
      "text/plain": [
       "[]"
      ]
     },
     "execution_count": 97,
     "metadata": {},
     "output_type": "execute_result"
    }
   ],
   "source": [
    "l2"
   ]
  },
  {
   "cell_type": "code",
   "execution_count": 99,
   "id": "862914cf-3603-4550-8e76-9e0e9efc867a",
   "metadata": {},
   "outputs": [],
   "source": [
    "l2=[\"hi\",\"hello\",\"okay\"]"
   ]
  },
  {
   "cell_type": "code",
   "execution_count": 119,
   "id": "24455523-cdac-4ba6-b899-766325307d4f",
   "metadata": {},
   "outputs": [
    {
     "data": {
      "text/plain": [
       "['hi', 'hello', 'okay']"
      ]
     },
     "execution_count": 119,
     "metadata": {},
     "output_type": "execute_result"
    }
   ],
   "source": [
    "l2"
   ]
  },
  {
   "cell_type": "code",
   "execution_count": 123,
   "id": "ebdbda1c-7789-4c3c-9a6e-01f2b7cb5328",
   "metadata": {},
   "outputs": [
    {
     "data": {
      "text/plain": [
       "<list_reverseiterator at 0x2504a474310>"
      ]
     },
     "execution_count": 123,
     "metadata": {},
     "output_type": "execute_result"
    }
   ],
   "source": [
    "reversed(l2)"
   ]
  },
  {
   "cell_type": "code",
   "execution_count": 125,
   "id": "87c8cbec-bafc-4e9c-b90c-55b688557c90",
   "metadata": {},
   "outputs": [
    {
     "data": {
      "text/plain": [
       "['okay', 'hello', 'hi']"
      ]
     },
     "execution_count": 125,
     "metadata": {},
     "output_type": "execute_result"
    }
   ],
   "source": [
    "list(reversed(l2))"
   ]
  },
  {
   "cell_type": "code",
   "execution_count": 127,
   "id": "3e17eff8-abfd-47e5-993a-e2f8e77f04f7",
   "metadata": {},
   "outputs": [
    {
     "data": {
      "text/plain": [
       "['hello', 'hi', 'okay']"
      ]
     },
     "execution_count": 127,
     "metadata": {},
     "output_type": "execute_result"
    }
   ],
   "source": [
    "sorted(l2)\n"
   ]
  },
  {
   "cell_type": "code",
   "execution_count": 129,
   "id": "fae00374-795a-4473-afa0-b20e8f3a8b35",
   "metadata": {},
   "outputs": [],
   "source": [
    "l2.reverse()"
   ]
  },
  {
   "cell_type": "code",
   "execution_count": 131,
   "id": "fcf666db-ff1e-46d7-8add-7bafdba29d1c",
   "metadata": {},
   "outputs": [
    {
     "data": {
      "text/plain": [
       "['okay', 'hello', 'hi']"
      ]
     },
     "execution_count": 131,
     "metadata": {},
     "output_type": "execute_result"
    }
   ],
   "source": [
    "l2"
   ]
  },
  {
   "cell_type": "code",
   "execution_count": 137,
   "id": "3b925b08-cd6d-4db8-9f7c-cec73b7deab1",
   "metadata": {},
   "outputs": [
    {
     "name": "stdout",
     "output_type": "stream",
     "text": [
      "OKAY\n",
      "HELLO\n",
      "HI\n"
     ]
    }
   ],
   "source": [
    "for i in l2:\n",
    "    print( i.swapcase())"
   ]
  },
  {
   "cell_type": "code",
   "execution_count": 135,
   "id": "bff9b639-fdd8-41b7-9b6d-33f8e4f4c7c3",
   "metadata": {},
   "outputs": [
    {
     "name": "stdout",
     "output_type": "stream",
     "text": [
      "okay hello hi "
     ]
    }
   ],
   "source": [
    "for i in l2:\n",
    "    print(i,end=\" \")"
   ]
  },
  {
   "cell_type": "code",
   "execution_count": 139,
   "id": "3128abeb-e927-4fae-bc69-992cbc605ac8",
   "metadata": {},
   "outputs": [
    {
     "name": "stdout",
     "output_type": "stream",
     "text": [
      "OKAY HELLO HI "
     ]
    }
   ],
   "source": [
    "for i in l2:\n",
    "    print(i.swapcase(),end=\" \")"
   ]
  },
  {
   "cell_type": "code",
   "execution_count": null,
   "id": "3258e642-31f4-495a-b640-eb4135e02c71",
   "metadata": {},
   "outputs": [],
   "source": []
  }
 ],
 "metadata": {
  "kernelspec": {
   "display_name": "Python 3 (ipykernel)",
   "language": "python",
   "name": "python3"
  },
  "language_info": {
   "codemirror_mode": {
    "name": "ipython",
    "version": 3
   },
   "file_extension": ".py",
   "mimetype": "text/x-python",
   "name": "python",
   "nbconvert_exporter": "python",
   "pygments_lexer": "ipython3",
   "version": "3.12.7"
  }
 },
 "nbformat": 4,
 "nbformat_minor": 5
}
