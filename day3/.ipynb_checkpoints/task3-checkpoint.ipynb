{
 "cells": [
  {
   "cell_type": "code",
   "execution_count": null,
   "id": "c1366b69-41ae-41fd-bb1e-872e16d8cdad",
   "metadata": {},
   "outputs": [],
   "source": [
    "#task1"
   ]
  },
  {
   "cell_type": "code",
   "execution_count": 1,
   "id": "a19e1e32-4e93-4dc2-aa72-820d2a4232b3",
   "metadata": {},
   "outputs": [],
   "source": [
    "sentence = \"apple banana apple orange banana apple\""
   ]
  },
  {
   "cell_type": "code",
   "execution_count": 9,
   "id": "e9838bad-27fb-4dd0-8373-1a86284e86c1",
   "metadata": {},
   "outputs": [
    {
     "data": {
      "text/plain": [
       "{'apple': 3, 'banana': 2, 'orange': 1}"
      ]
     },
     "execution_count": 9,
     "metadata": {},
     "output_type": "execute_result"
    }
   ],
   "source": [
    "ch ={}\n",
    "for i in sentence.split():\n",
    "    if i in ch.keys():\n",
    "        ch[i]=ch[i]+1\n",
    "    else:\n",
    "        ch[i]=1\n",
    "ch"
   ]
  },
  {
   "cell_type": "code",
   "execution_count": 11,
   "id": "305486c7-baec-408e-a1e8-3b581491da24",
   "metadata": {},
   "outputs": [],
   "source": [
    "#task2"
   ]
  },
  {
   "cell_type": "code",
   "execution_count": 13,
   "id": "b522f487-b7d5-4f14-b481-249fb221c4f6",
   "metadata": {},
   "outputs": [],
   "source": [
    "list1 = {1, 2, 3, 4}  \n",
    "list2 = {3, 4, 5, 6}"
   ]
  },
  {
   "cell_type": "code",
   "execution_count": 19,
   "id": "0fb36a69-2758-4307-ae3c-d9608ba25e91",
   "metadata": {},
   "outputs": [
    {
     "data": {
      "text/plain": [
       "{1, 2, 5, 6}"
      ]
     },
     "execution_count": 19,
     "metadata": {},
     "output_type": "execute_result"
    }
   ],
   "source": [
    "list1 ^ list2"
   ]
  },
  {
   "cell_type": "code",
   "execution_count": 21,
   "id": "a7686daf-7748-4ab3-9bd4-343f633fc11f",
   "metadata": {},
   "outputs": [],
   "source": [
    "#task3"
   ]
  },
  {
   "cell_type": "code",
   "execution_count": 23,
   "id": "06e96714-296b-41db-bd2c-b5599d6f19be",
   "metadata": {},
   "outputs": [],
   "source": [
    "dict1 = {'a': 10, 'b': 20}  \n",
    "dict2 = {'b': 30, 'c': 40}"
   ]
  },
  {
   "cell_type": "code",
   "execution_count": 165,
   "id": "69b35cde-f45f-4bae-8c48-da6f442d2456",
   "metadata": {},
   "outputs": [],
   "source": [
    "d=dict1.copy()"
   ]
  },
  {
   "cell_type": "code",
   "execution_count": 195,
   "id": "b3c33b21-ef54-401e-998e-8ed1e704da57",
   "metadata": {},
   "outputs": [
    {
     "data": {
      "text/plain": [
       "{'a': 10, 'b': (0, {'b': 30, 'c': 40}), 'c': (0, {'b': 30, 'c': 40})}"
      ]
     },
     "execution_count": 195,
     "metadata": {},
     "output_type": "execute_result"
    }
   ],
   "source": [
    "for k,v,in dict2.items():\n",
    "    d[k]=d.get(v,0),dict2\n",
    "d\n",
    "    "
   ]
  },
  {
   "cell_type": "code",
   "execution_count": 29,
   "id": "c821fe55-93dc-400b-956e-8e9bbdf5f071",
   "metadata": {},
   "outputs": [],
   "source": [
    "dict1.update(dict2)"
   ]
  },
  {
   "cell_type": "code",
   "execution_count": 31,
   "id": "2c1727be-1667-45c4-a04f-f7689f18515b",
   "metadata": {},
   "outputs": [
    {
     "data": {
      "text/plain": [
       "{'a': 10, 'b': 30, 'c': 40}"
      ]
     },
     "execution_count": 31,
     "metadata": {},
     "output_type": "execute_result"
    }
   ],
   "source": [
    "dict1"
   ]
  },
  {
   "cell_type": "code",
   "execution_count": 33,
   "id": "a0fed969-e8b5-461e-b6f7-6ecf70ce2abb",
   "metadata": {},
   "outputs": [],
   "source": [
    "#task4"
   ]
  },
  {
   "cell_type": "code",
   "execution_count": 35,
   "id": "417db605-4f9f-4d35-81fd-8fe060cdcb19",
   "metadata": {},
   "outputs": [],
   "source": [
    "set1 = {1, 2, 3, 4}  \n",
    "set2 = {3, 4, 5, 6}"
   ]
  },
  {
   "cell_type": "code",
   "execution_count": 37,
   "id": "68a5dbbf-7092-4a42-8253-efecc043cbb1",
   "metadata": {},
   "outputs": [
    {
     "data": {
      "text/plain": [
       "{3, 4}"
      ]
     },
     "execution_count": 37,
     "metadata": {},
     "output_type": "execute_result"
    }
   ],
   "source": [
    "set1& set2"
   ]
  },
  {
   "cell_type": "code",
   "execution_count": 41,
   "id": "97a3ee95-4ee7-4e0b-b20e-60548fc406be",
   "metadata": {},
   "outputs": [],
   "source": [
    "#task5"
   ]
  },
  {
   "cell_type": "code",
   "execution_count": 43,
   "id": "59cc573e-06c1-40bb-b6dc-4370436e5a4b",
   "metadata": {},
   "outputs": [],
   "source": [
    "numbers = [1, 3, 2, 3, 4, 3, 5, 2, 1, 3]"
   ]
  },
  {
   "cell_type": "code",
   "execution_count": 95,
   "id": "72090985-e52d-4c20-94b2-7b504f8c779f",
   "metadata": {},
   "outputs": [
    {
     "name": "stdout",
     "output_type": "stream",
     "text": [
      "Most frequent: [3]\n"
     ]
    }
   ],
   "source": [
    "ch ={}\n",
    "for i in numbers:\n",
    "    if i in ch.keys():\n",
    "        ch[i]=ch[i]+1\n",
    "    else:\n",
    "        ch[i]=1\n",
    "maxx=max(ch.values())\n",
    "keys=[key for key,val in ch.items() if val==maxx]\n",
    "print(\"Most frequent:\" ,keys)"
   ]
  },
  {
   "cell_type": "code",
   "execution_count": 97,
   "id": "d4b18147-e877-4f8b-bf8c-0fcc289f5cab",
   "metadata": {},
   "outputs": [],
   "source": [
    "#task6"
   ]
  },
  {
   "cell_type": "code",
   "execution_count": 99,
   "id": "df14b22f-f22a-4058-843e-d88c54354c01",
   "metadata": {},
   "outputs": [],
   "source": [
    "lst = [1, 2, 2, 3, 4, 4, 5, 6, 6, 6]"
   ]
  },
  {
   "cell_type": "code",
   "execution_count": 101,
   "id": "5cb74660-c1fe-443e-b76f-80153924a247",
   "metadata": {},
   "outputs": [],
   "source": [
    "lst1=set(lst)"
   ]
  },
  {
   "cell_type": "code",
   "execution_count": 105,
   "id": "5a1be0de-5847-4dc7-8389-ff9b5288efee",
   "metadata": {},
   "outputs": [
    {
     "name": "stdout",
     "output_type": "stream",
     "text": [
      "[1, 2, 3, 4, 5, 6]\n"
     ]
    }
   ],
   "source": [
    "print(list(lst1))\n"
   ]
  },
  {
   "cell_type": "code",
   "execution_count": 107,
   "id": "14cd2bf0-4197-435f-b336-5e371d47a460",
   "metadata": {},
   "outputs": [],
   "source": [
    "#task7\n"
   ]
  },
  {
   "cell_type": "code",
   "execution_count": 109,
   "id": "047e0970-226e-4749-b8ee-2b958aae2ad1",
   "metadata": {},
   "outputs": [],
   "source": [
    "course_A = {\"Alice\", \"Bob\", \"Charlie\"}  \n",
    "course_B = {\"Bob\", \"David\", \"Charlie\"}"
   ]
  },
  {
   "cell_type": "code",
   "execution_count": 113,
   "id": "a401d9db-9f36-430f-9b41-716e7f532689",
   "metadata": {},
   "outputs": [
    {
     "data": {
      "text/plain": [
       "{'Bob', 'Charlie'}"
      ]
     },
     "execution_count": 113,
     "metadata": {},
     "output_type": "execute_result"
    }
   ],
   "source": [
    "course_A & course_B"
   ]
  },
  {
   "cell_type": "code",
   "execution_count": 115,
   "id": "393040ad-632a-4e5f-bcdc-ce46059461f3",
   "metadata": {},
   "outputs": [],
   "source": [
    "#task8"
   ]
  },
  {
   "cell_type": "code",
   "execution_count": 117,
   "id": "1ada4380-66bb-4e65-bfc6-b71985876de3",
   "metadata": {},
   "outputs": [],
   "source": [
    "set1 = {1, 2, 3}  \n",
    "set2 = {3, 4, 5}  \n",
    "set3 = {5, 6, 7}"
   ]
  },
  {
   "cell_type": "code",
   "execution_count": 121,
   "id": "661e3042-18c1-4bb0-bc08-2c8ffd6064ea",
   "metadata": {},
   "outputs": [
    {
     "data": {
      "text/plain": [
       "{1, 2, 3, 4, 5, 6, 7}"
      ]
     },
     "execution_count": 121,
     "metadata": {},
     "output_type": "execute_result"
    }
   ],
   "source": [
    "set1 | set2 | set3"
   ]
  },
  {
   "cell_type": "code",
   "execution_count": 123,
   "id": "b841a9ac-2d0d-4cdf-bbb7-3442655d1a27",
   "metadata": {},
   "outputs": [],
   "source": [
    "#task9"
   ]
  },
  {
   "cell_type": "code",
   "execution_count": 125,
   "id": "38c0d2d1-57ed-4a68-a347-34c920747d32",
   "metadata": {},
   "outputs": [],
   "source": [
    "original_dict = {'a': 1, 'b': 2, 'c': 3}"
   ]
  },
  {
   "cell_type": "code",
   "execution_count": 129,
   "id": "51e5c846-5908-4b63-a0a8-79158e2573e3",
   "metadata": {},
   "outputs": [
    {
     "data": {
      "text/plain": [
       "{1: 'a', 2: 'b', 3: 'c'}"
      ]
     },
     "execution_count": 129,
     "metadata": {},
     "output_type": "execute_result"
    }
   ],
   "source": [
    "dup={}\n",
    "for key,value in original_dict.items():\n",
    "    dup[value]=key\n",
    "dup\n",
    "    "
   ]
  },
  {
   "cell_type": "code",
   "execution_count": 131,
   "id": "124e78f3-b8db-41d0-97d6-8dc8e0ef3051",
   "metadata": {},
   "outputs": [],
   "source": [
    "#task10"
   ]
  },
  {
   "cell_type": "code",
   "execution_count": 149,
   "id": "76ef88fc-8d03-44d7-bb84-6e7dbd5171e2",
   "metadata": {},
   "outputs": [],
   "source": [
    "word1 = \"listen\"  \n",
    "word2 = \"silent\""
   ]
  },
  {
   "cell_type": "code",
   "execution_count": 159,
   "id": "2eb62d4f-203c-4f0d-af1b-33e1f49f1a54",
   "metadata": {},
   "outputs": [
    {
     "name": "stdout",
     "output_type": "stream",
     "text": [
      "True\n"
     ]
    }
   ],
   "source": [
    "if len(word1) == len(word2):\n",
    "    ch ={}\n",
    "    ch1={}\n",
    "    for i in word1:\n",
    "        if i in ch.keys():\n",
    "            ch[i]=ch[i]+1\n",
    "        else:\n",
    "            ch[i]=1\n",
    "    for i in word2:\n",
    "        if i in ch1.keys():\n",
    "            ch1[i]=ch1[i]+1\n",
    "        else:\n",
    "            ch1[i]=1\n",
    "    if ch==ch1:\n",
    "        print( \"True\")\n",
    "    \n",
    "else:\n",
    "    print(\" not a anagrams\")\n",
    "    "
   ]
  },
  {
   "cell_type": "code",
   "execution_count": null,
   "id": "164aeb50-cd89-435b-a26a-302afcb062ba",
   "metadata": {},
   "outputs": [],
   "source": []
  }
 ],
 "metadata": {
  "kernelspec": {
   "display_name": "Python 3 (ipykernel)",
   "language": "python",
   "name": "python3"
  },
  "language_info": {
   "codemirror_mode": {
    "name": "ipython",
    "version": 3
   },
   "file_extension": ".py",
   "mimetype": "text/x-python",
   "name": "python",
   "nbconvert_exporter": "python",
   "pygments_lexer": "ipython3",
   "version": "3.12.7"
  }
 },
 "nbformat": 4,
 "nbformat_minor": 5
}
