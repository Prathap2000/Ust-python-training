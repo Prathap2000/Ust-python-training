{
 "cells": [
  {
   "cell_type": "code",
   "execution_count": 3,
   "id": "f3552066-78d9-46a7-92fa-c947a640a6ab",
   "metadata": {},
   "outputs": [],
   "source": [
    "s=\"mississippi\"\n"
   ]
  },
  {
   "cell_type": "code",
   "execution_count": 5,
   "id": "07a6c5cb-ef5f-40f1-8db1-788b847a2591",
   "metadata": {},
   "outputs": [
    {
     "data": {
      "text/plain": [
       "['m', 'i', 's', 's', 'i', 's', 's', 'i', 'p', 'p', 'i']"
      ]
     },
     "execution_count": 5,
     "metadata": {},
     "output_type": "execute_result"
    }
   ],
   "source": [
    "list(s)\n"
   ]
  },
  {
   "cell_type": "code",
   "execution_count": 9,
   "id": "a080cc98-70b9-473d-82a7-edc981c27f3d",
   "metadata": {},
   "outputs": [
    {
     "data": {
      "text/plain": [
       "('m', 'i', 's', 's', 'i', 's', 's', 'i', 'p', 'p', 'i')"
      ]
     },
     "execution_count": 9,
     "metadata": {},
     "output_type": "execute_result"
    }
   ],
   "source": [
    "tuple(s)"
   ]
  },
  {
   "cell_type": "code",
   "execution_count": 11,
   "id": "5560eb04-9706-43b6-a6a5-12fbddfe1543",
   "metadata": {},
   "outputs": [
    {
     "data": {
      "text/plain": [
       "{'i', 'm', 'p', 's'}"
      ]
     },
     "execution_count": 11,
     "metadata": {},
     "output_type": "execute_result"
    }
   ],
   "source": [
    "set(s)"
   ]
  },
  {
   "cell_type": "code",
   "execution_count": 13,
   "id": "12f8a252-5dcd-48a5-87fe-83641d929ac8",
   "metadata": {},
   "outputs": [],
   "source": [
    "#operation & give the common element \n",
    "# pipe line | it willgive both elemenet\n",
    "#^ it is used to give the intessection\n",
    "#"
   ]
  },
  {
   "cell_type": "code",
   "execution_count": 29,
   "id": "614273d8-242b-4563-875e-84dba1676dd3",
   "metadata": {},
   "outputs": [],
   "source": [
    "s1=\"abcdf\"\n",
    "s3=set(s1)"
   ]
  },
  {
   "cell_type": "code",
   "execution_count": 31,
   "id": "1003a33f-1935-4461-b75f-70f0dede0eec",
   "metadata": {},
   "outputs": [],
   "source": [
    "s2={'a','f','k','b'}\n"
   ]
  },
  {
   "cell_type": "code",
   "execution_count": 33,
   "id": "67df450f-66a2-4be5-bdc7-9a946a16ce1d",
   "metadata": {},
   "outputs": [
    {
     "data": {
      "text/plain": [
       "'abcdf'"
      ]
     },
     "execution_count": 33,
     "metadata": {},
     "output_type": "execute_result"
    }
   ],
   "source": [
    "s1\n"
   ]
  },
  {
   "cell_type": "code",
   "execution_count": 35,
   "id": "cbf65fd1-caf9-45a3-bdc4-ceef938e6c2f",
   "metadata": {},
   "outputs": [
    {
     "data": {
      "text/plain": [
       "{'a', 'b', 'c', 'd', 'f'}"
      ]
     },
     "execution_count": 35,
     "metadata": {},
     "output_type": "execute_result"
    }
   ],
   "source": [
    "s3"
   ]
  },
  {
   "cell_type": "code",
   "execution_count": 41,
   "id": "c2251c92-6eee-495f-ac54-512c32917ff9",
   "metadata": {},
   "outputs": [
    {
     "data": {
      "text/plain": [
       "{'a', 'b', 'f'}"
      ]
     },
     "execution_count": 41,
     "metadata": {},
     "output_type": "execute_result"
    }
   ],
   "source": [
    "s2&s3"
   ]
  },
  {
   "cell_type": "code",
   "execution_count": 43,
   "id": "48ceb70d-38d5-4a7e-a0c5-76767ab10219",
   "metadata": {},
   "outputs": [
    {
     "data": {
      "text/plain": [
       "{'c', 'd', 'k'}"
      ]
     },
     "execution_count": 43,
     "metadata": {},
     "output_type": "execute_result"
    }
   ],
   "source": [
    "s2^s3"
   ]
  },
  {
   "cell_type": "code",
   "execution_count": 45,
   "id": "990dd1d9-8917-49c8-82c9-f2d7bdcca6cc",
   "metadata": {},
   "outputs": [
    {
     "data": {
      "text/plain": [
       "{'a', 'b', 'c', 'd', 'f', 'k'}"
      ]
     },
     "execution_count": 45,
     "metadata": {},
     "output_type": "execute_result"
    }
   ],
   "source": [
    "s2|s3"
   ]
  },
  {
   "cell_type": "code",
   "execution_count": null,
   "id": "2d486667-1e24-4f71-ac0d-335174d5f196",
   "metadata": {},
   "outputs": [],
   "source": []
  }
 ],
 "metadata": {
  "kernelspec": {
   "display_name": "Python 3 (ipykernel)",
   "language": "python",
   "name": "python3"
  },
  "language_info": {
   "codemirror_mode": {
    "name": "ipython",
    "version": 3
   },
   "file_extension": ".py",
   "mimetype": "text/x-python",
   "name": "python",
   "nbconvert_exporter": "python",
   "pygments_lexer": "ipython3",
   "version": "3.12.7"
  }
 },
 "nbformat": 4,
 "nbformat_minor": 5
}
