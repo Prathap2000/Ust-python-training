{
 "cells": [
  {
   "cell_type": "code",
   "execution_count": 1,
   "id": "23442758-7628-4699-b59c-0c4e061bef51",
   "metadata": {},
   "outputs": [],
   "source": [
    "# its unorder and it has key value pair in it "
   ]
  },
  {
   "cell_type": "code",
   "execution_count": 3,
   "id": "b2acd43b-9d98-4fb0-a7ff-7ea012a4f765",
   "metadata": {},
   "outputs": [],
   "source": [
    "rec=[\"anil\",34,\"UST\",\"Bglr\",'1000000']\n"
   ]
  },
  {
   "cell_type": "code",
   "execution_count": 5,
   "id": "b279f076-9106-4061-8200-a42f86939e7b",
   "metadata": {},
   "outputs": [],
   "source": [
    "d={\"name\":\"prathap\",\"age\":25,\"location\":\"bnglr\"}\n"
   ]
  },
  {
   "cell_type": "code",
   "execution_count": 31,
   "id": "663b8992-96b0-452e-bb2d-9916b45928f3",
   "metadata": {},
   "outputs": [
    {
     "data": {
      "text/plain": [
       "{'name': 'prathap', 'age': 25, 'location': 'bnglr'}"
      ]
     },
     "execution_count": 31,
     "metadata": {},
     "output_type": "execute_result"
    }
   ],
   "source": [
    "d"
   ]
  },
  {
   "cell_type": "code",
   "execution_count": 21,
   "id": "3eb87dbc-17a1-4684-9a87-aa45954fd809",
   "metadata": {},
   "outputs": [
    {
     "data": {
      "text/plain": [
       "{'name': 'prathap', 'age': 25, 'location': 'bnglr'}"
      ]
     },
     "execution_count": 21,
     "metadata": {},
     "output_type": "execute_result"
    }
   ],
   "source": [
    "d"
   ]
  },
  {
   "cell_type": "code",
   "execution_count": 23,
   "id": "73aa563d-7854-4fcb-874f-d8802cbb4642",
   "metadata": {},
   "outputs": [
    {
     "data": {
      "text/plain": [
       "dict_values(['prathap', 25, 'bnglr'])"
      ]
     },
     "execution_count": 23,
     "metadata": {},
     "output_type": "execute_result"
    }
   ],
   "source": [
    "d.values()"
   ]
  },
  {
   "cell_type": "code",
   "execution_count": 25,
   "id": "ae6be139-bcc7-4fd2-86a0-4d53a5c03265",
   "metadata": {},
   "outputs": [
    {
     "data": {
      "text/plain": [
       "dict_keys(['name', 'age', 'location'])"
      ]
     },
     "execution_count": 25,
     "metadata": {},
     "output_type": "execute_result"
    }
   ],
   "source": [
    "d.keys()"
   ]
  },
  {
   "cell_type": "code",
   "execution_count": 27,
   "id": "d633df76-f682-414f-bd74-58a19ba29c9f",
   "metadata": {},
   "outputs": [
    {
     "data": {
      "text/plain": [
       "dict_items([('name', 'prathap'), ('age', 25), ('location', 'bnglr')])"
      ]
     },
     "execution_count": 27,
     "metadata": {},
     "output_type": "execute_result"
    }
   ],
   "source": [
    "d.items()"
   ]
  },
  {
   "cell_type": "code",
   "execution_count": 33,
   "id": "e90cebfb-bc98-4a82-b1b4-34ca8e3372d7",
   "metadata": {},
   "outputs": [],
   "source": [
    "#char histogram"
   ]
  },
  {
   "cell_type": "code",
   "execution_count": 35,
   "id": "45b991f2-80c4-4a79-ba6a-34350faf4f3a",
   "metadata": {},
   "outputs": [],
   "source": [
    "s=\"mississippi\""
   ]
  },
  {
   "cell_type": "code",
   "execution_count": 41,
   "id": "be6c0105-72ab-4298-a19f-1b6554f75656",
   "metadata": {},
   "outputs": [
    {
     "data": {
      "text/plain": [
       "{'m': 1, 'i': 4, 's': 4, 'p': 2}"
      ]
     },
     "execution_count": 41,
     "metadata": {},
     "output_type": "execute_result"
    }
   ],
   "source": [
    "ch ={}\n",
    "for i in s.lower():\n",
    "    if i in ch.keys():\n",
    "        ch[i]=ch[i]+1\n",
    "    else:\n",
    "        ch[i]=1\n",
    "ch"
   ]
  },
  {
   "cell_type": "code",
   "execution_count": null,
   "id": "e98ac057-a193-457b-bb19-6ccbbed93768",
   "metadata": {},
   "outputs": [],
   "source": []
  }
 ],
 "metadata": {
  "kernelspec": {
   "display_name": "Python 3 (ipykernel)",
   "language": "python",
   "name": "python3"
  },
  "language_info": {
   "codemirror_mode": {
    "name": "ipython",
    "version": 3
   },
   "file_extension": ".py",
   "mimetype": "text/x-python",
   "name": "python",
   "nbconvert_exporter": "python",
   "pygments_lexer": "ipython3",
   "version": "3.12.7"
  }
 },
 "nbformat": 4,
 "nbformat_minor": 5
}
