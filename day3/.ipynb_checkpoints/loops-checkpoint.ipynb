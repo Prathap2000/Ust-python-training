{
 "cells": [
  {
   "cell_type": "code",
   "execution_count": 1,
   "id": "2a8a1c34-33b0-4b6a-8bd4-ad0627a1f5f7",
   "metadata": {},
   "outputs": [],
   "source": [
    "a='prathap'"
   ]
  },
  {
   "cell_type": "code",
   "execution_count": 5,
   "id": "d06d03f7-a564-4d01-b480-1912ba8ae2b0",
   "metadata": {},
   "outputs": [
    {
     "name": "stdout",
     "output_type": "stream",
     "text": [
      "p 112\n",
      "r 114\n",
      "a 97\n",
      "t 116\n",
      "h 104\n",
      "a 97\n",
      "p 112\n"
     ]
    }
   ],
   "source": [
    "for i in a:\n",
    "    print( i,ord(i))"
   ]
  },
  {
   "cell_type": "code",
   "execution_count": 5,
   "id": "0d7be04c-de4c-4214-a2af-4ba677ddafbd",
   "metadata": {},
   "outputs": [
    {
     "name": "stdout",
     "output_type": "stream",
     "text": [
      "5 X 0 = 0\n",
      "5 X 1 = 5\n",
      "5 X 2 = 10\n",
      "5 X 3 = 15\n",
      "5 X 4 = 20\n",
      "5 X 5 = 25\n",
      "5 X 6 = 30\n",
      "5 X 7 = 35\n",
      "5 X 8 = 40\n",
      "5 X 9 = 45\n",
      "5 X 10 = 50\n"
     ]
    }
   ],
   "source": [
    "for i in range(10+1):\n",
    "    print('5','X',i,'=',(5*i))"
   ]
  },
  {
   "cell_type": "code",
   "execution_count": 15,
   "id": "d7f7d670-0ba1-43ef-a337-35d911b23a0d",
   "metadata": {},
   "outputs": [],
   "source": [
    "# range(start,end,step)"
   ]
  },
  {
   "cell_type": "code",
   "execution_count": 3,
   "id": "e65a8619-f40c-4291-82c0-c1899dba7908",
   "metadata": {},
   "outputs": [
    {
     "name": "stdout",
     "output_type": "stream",
     "text": [
      "5 X 1 = 5\n",
      "5 X 2 = 10\n",
      "5 X 3 = 15\n",
      "5 X 4 = 20\n",
      "5 X 5 = 25\n",
      "5 X 6 = 30\n",
      "5 X 7 = 35\n",
      "5 X 8 = 40\n",
      "5 X 9 = 45\n",
      "5 X 10 = 50\n"
     ]
    }
   ],
   "source": [
    "i=1\n",
    "while i <=10:\n",
    "    print('5','X',i,'=',(5*i))\n",
    "    i += 1"
   ]
  },
  {
   "cell_type": "code",
   "execution_count": null,
   "id": "a55cc4aa-be68-4ec3-9484-e5c3dc009395",
   "metadata": {},
   "outputs": [],
   "source": [
    "#control statmets"
   ]
  },
  {
   "cell_type": "code",
   "execution_count": 7,
   "id": "fd782bb2-3dbb-4351-a7ce-5a0f5607ec22",
   "metadata": {},
   "outputs": [
    {
     "name": "stdout",
     "output_type": "stream",
     "text": [
      "5 X 0 = 0\n",
      "5 X 1 = 5\n",
      "5 X 2 = 10\n",
      "5 X 3 = 15\n",
      "5 X 4 = 20\n",
      "5 X 5 = 25\n"
     ]
    }
   ],
   "source": [
    "for i in range(10+1):\n",
    "    print('5','X',i,'=',(5*i))\n",
    "    if i==5:\n",
    "        break"
   ]
  },
  {
   "cell_type": "code",
   "execution_count": 11,
   "id": "0a711c09-ce6e-433f-9f30-f75dddce9034",
   "metadata": {},
   "outputs": [],
   "source": [
    "#program to determine if number is prime or not "
   ]
  },
  {
   "cell_type": "code",
   "execution_count": 17,
   "id": "d42e189f-20b1-4bab-b40e-a1b63aa0443e",
   "metadata": {},
   "outputs": [
    {
     "name": "stdin",
     "output_type": "stream",
     "text": [
      "enter the num 14\n"
     ]
    },
    {
     "name": "stdout",
     "output_type": "stream",
     "text": [
      "not prime\n"
     ]
    }
   ],
   "source": [
    "num1= int(input(\"enter the num\"))\n",
    "prime=True\n",
    "for i in range(2,num1):\n",
    "    if num1%i==0:\n",
    "        prime=False\n",
    "        break\n",
    "if(prime):\n",
    "    print(\"its prime\")\n",
    "else:\n",
    "    print(\"not prime\")"
   ]
  },
  {
   "cell_type": "code",
   "execution_count": 19,
   "id": "07ca88fb-2536-42ac-90ba-00aefd839ada",
   "metadata": {},
   "outputs": [],
   "source": [
    "#below using the loop else "
   ]
  },
  {
   "cell_type": "code",
   "execution_count": null,
   "id": "c5f57865-7dcd-458a-9016-cfdd09be942d",
   "metadata": {},
   "outputs": [],
   "source": [
    "num1= int(input(\"enter the num\"))\n",
    "prime=True\n",
    "for i in range(2,num1):\n",
    "    if num1%i==0:\n",
    "        print(\"its prime\")\n",
    "        break\n",
    "else:\n",
    "    print(\"not prime\")"
   ]
  }
 ],
 "metadata": {
  "kernelspec": {
   "display_name": "Python 3 (ipykernel)",
   "language": "python",
   "name": "python3"
  },
  "language_info": {
   "codemirror_mode": {
    "name": "ipython",
    "version": 3
   },
   "file_extension": ".py",
   "mimetype": "text/x-python",
   "name": "python",
   "nbconvert_exporter": "python",
   "pygments_lexer": "ipython3",
   "version": "3.12.7"
  }
 },
 "nbformat": 4,
 "nbformat_minor": 5
}
