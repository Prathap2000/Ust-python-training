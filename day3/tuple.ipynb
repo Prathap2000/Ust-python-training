{
 "cells": [
  {
   "cell_type": "code",
   "execution_count": 3,
   "id": "f7222302-3f85-47d6-a412-396af62d4aec",
   "metadata": {},
   "outputs": [],
   "source": [
    "n=('hi','hello','okay')"
   ]
  },
  {
   "cell_type": "code",
   "execution_count": 5,
   "id": "84bd315a-bc9e-4faa-b878-daa200a54215",
   "metadata": {},
   "outputs": [
    {
     "data": {
      "text/plain": [
       "('hi', 'hello', 'okay', 'hi', 'hello', 'okay', 'hi', 'hello', 'okay')"
      ]
     },
     "execution_count": 5,
     "metadata": {},
     "output_type": "execute_result"
    }
   ],
   "source": [
    "n*3"
   ]
  },
  {
   "cell_type": "code",
   "execution_count": 7,
   "id": "a7511b55-c394-4f7d-8b5a-373fcc6c2e06",
   "metadata": {},
   "outputs": [
    {
     "data": {
      "text/plain": [
       "('hi', 'hello', 'okay')"
      ]
     },
     "execution_count": 7,
     "metadata": {},
     "output_type": "execute_result"
    }
   ],
   "source": [
    "n\n"
   ]
  },
  {
   "cell_type": "code",
   "execution_count": 9,
   "id": "d5d2c1a9-446c-44d9-8439-551da0b389bc",
   "metadata": {},
   "outputs": [
    {
     "ename": "AttributeError",
     "evalue": "'tuple' object has no attribute 'append'",
     "output_type": "error",
     "traceback": [
      "\u001b[1;31m---------------------------------------------------------------------------\u001b[0m",
      "\u001b[1;31mAttributeError\u001b[0m                            Traceback (most recent call last)",
      "Cell \u001b[1;32mIn[9], line 1\u001b[0m\n\u001b[1;32m----> 1\u001b[0m n\u001b[38;5;241m.\u001b[39mappend(\u001b[38;5;124m\"\u001b[39m\u001b[38;5;124mokay\u001b[39m\u001b[38;5;124m\"\u001b[39m)\n",
      "\u001b[1;31mAttributeError\u001b[0m: 'tuple' object has no attribute 'append'"
     ]
    }
   ],
   "source": [
    "n.append(\"okay\")"
   ]
  },
  {
   "cell_type": "code",
   "execution_count": 11,
   "id": "3b89bdd3-898a-4fa6-a89b-3fa2a9ae3b5c",
   "metadata": {},
   "outputs": [
    {
     "data": {
      "text/plain": [
       "'hello'"
      ]
     },
     "execution_count": 11,
     "metadata": {},
     "output_type": "execute_result"
    }
   ],
   "source": [
    "n[1]"
   ]
  },
  {
   "cell_type": "code",
   "execution_count": 13,
   "id": "ee822be6-93f5-49cd-805e-63f46c2c0ca9",
   "metadata": {},
   "outputs": [],
   "source": [
    "#the n.sort() and n.reverse not works , the reversed(n) and sorted(n) is works "
   ]
  },
  {
   "cell_type": "code",
   "execution_count": 15,
   "id": "8528ebc5-dc26-4380-9768-90089159a859",
   "metadata": {},
   "outputs": [],
   "source": [
    "#if we wnat to us ethe append we need to convert the tuple in to the list and then back to tuple"
   ]
  },
  {
   "cell_type": "code",
   "execution_count": 25,
   "id": "853484a3-2013-4acd-a59b-95600647d587",
   "metadata": {},
   "outputs": [],
   "source": [
    "temp=list(n)"
   ]
  },
  {
   "cell_type": "code",
   "execution_count": 27,
   "id": "2e5376f2-45d7-4755-b823-bbdb685e8721",
   "metadata": {},
   "outputs": [
    {
     "data": {
      "text/plain": [
       "['hi', 'hello', 'okay']"
      ]
     },
     "execution_count": 27,
     "metadata": {},
     "output_type": "execute_result"
    }
   ],
   "source": [
    "temp"
   ]
  },
  {
   "cell_type": "code",
   "execution_count": 29,
   "id": "dda2dcb8-ceae-4a8e-9267-052347049e26",
   "metadata": {},
   "outputs": [],
   "source": [
    "temp.append(\"bye\")\n"
   ]
  },
  {
   "cell_type": "code",
   "execution_count": 31,
   "id": "ac6c912e-4908-49be-a507-7dc9df07ee62",
   "metadata": {},
   "outputs": [],
   "source": [
    "n=tuple(temp)"
   ]
  },
  {
   "cell_type": "code",
   "execution_count": 35,
   "id": "dbca92fd-09c6-4fb7-a813-04129111306c",
   "metadata": {},
   "outputs": [
    {
     "data": {
      "text/plain": [
       "('hi', 'hello', 'okay', 'bye')"
      ]
     },
     "execution_count": 35,
     "metadata": {},
     "output_type": "execute_result"
    }
   ],
   "source": [
    "n"
   ]
  },
  {
   "cell_type": "code",
   "execution_count": 37,
   "id": "314b286e-91a9-49dd-a83c-5c7f3b12366d",
   "metadata": {},
   "outputs": [],
   "source": [
    "#unpacking"
   ]
  },
  {
   "cell_type": "code",
   "execution_count": 39,
   "id": "adf7bbd7-26bd-4595-bc0a-63631f57237e",
   "metadata": {},
   "outputs": [
    {
     "data": {
      "text/plain": [
       "('hi', 'hello', 'okay', 'bye')"
      ]
     },
     "execution_count": 39,
     "metadata": {},
     "output_type": "execute_result"
    }
   ],
   "source": [
    "n"
   ]
  },
  {
   "cell_type": "code",
   "execution_count": 41,
   "id": "e2b9b92c-0dfa-4bbb-b14b-583e80775641",
   "metadata": {},
   "outputs": [],
   "source": [
    "a,b,c,d=n"
   ]
  },
  {
   "cell_type": "code",
   "execution_count": 43,
   "id": "709c7da1-9f4f-44c8-a414-42a413aa847d",
   "metadata": {},
   "outputs": [
    {
     "name": "stdout",
     "output_type": "stream",
     "text": [
      "hi hello okay bye\n"
     ]
    }
   ],
   "source": [
    "print(a,b,c,d)"
   ]
  },
  {
   "cell_type": "code",
   "execution_count": 45,
   "id": "63db436b-b27a-4eb5-9bcb-78e51b5581c7",
   "metadata": {},
   "outputs": [
    {
     "ename": "ValueError",
     "evalue": "too many values to unpack (expected 3)",
     "output_type": "error",
     "traceback": [
      "\u001b[1;31m---------------------------------------------------------------------------\u001b[0m",
      "\u001b[1;31mValueError\u001b[0m                                Traceback (most recent call last)",
      "Cell \u001b[1;32mIn[45], line 1\u001b[0m\n\u001b[1;32m----> 1\u001b[0m a,b,c\u001b[38;5;241m=\u001b[39mn\n",
      "\u001b[1;31mValueError\u001b[0m: too many values to unpack (expected 3)"
     ]
    }
   ],
   "source": [
    "a,b,c=n"
   ]
  },
  {
   "cell_type": "code",
   "execution_count": 47,
   "id": "35785c91-443c-4e8d-89a4-cbeaeed98588",
   "metadata": {},
   "outputs": [],
   "source": [
    "a,b,*c=n"
   ]
  },
  {
   "cell_type": "code",
   "execution_count": 49,
   "id": "e99e357d-357c-47d8-bb37-90c6fad54ce0",
   "metadata": {},
   "outputs": [
    {
     "name": "stdout",
     "output_type": "stream",
     "text": [
      "hi hello ['okay', 'bye']\n"
     ]
    }
   ],
   "source": [
    "print(a,b,c)"
   ]
  },
  {
   "cell_type": "code",
   "execution_count": null,
   "id": "72727557-cb6b-4bde-868a-d0d66216ade1",
   "metadata": {},
   "outputs": [],
   "source": []
  }
 ],
 "metadata": {
  "kernelspec": {
   "display_name": "Python 3 (ipykernel)",
   "language": "python",
   "name": "python3"
  },
  "language_info": {
   "codemirror_mode": {
    "name": "ipython",
    "version": 3
   },
   "file_extension": ".py",
   "mimetype": "text/x-python",
   "name": "python",
   "nbconvert_exporter": "python",
   "pygments_lexer": "ipython3",
   "version": "3.12.7"
  }
 },
 "nbformat": 4,
 "nbformat_minor": 5
}
