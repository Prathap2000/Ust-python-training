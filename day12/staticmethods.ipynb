{
 "cells": [
  {
   "cell_type": "code",
   "execution_count": 5,
   "id": "323bd614-4d74-4fcd-8ad1-3ad3e5c82155",
   "metadata": {},
   "outputs": [
    {
     "data": {
      "text/plain": [
       "prathap 25"
      ]
     },
     "execution_count": 5,
     "metadata": {},
     "output_type": "execute_result"
    }
   ],
   "source": [
    "class person:\n",
    "    def __init__(self,name,age):\n",
    "        self.name=name\n",
    "        self.age=age\n",
    "    def __repr__(self):\n",
    "        return str(self.name)+ \" \" + str(self.age)\n",
    "c=person(\"prathap\",25)\n",
    "c"
   ]
  },
  {
   "cell_type": "code",
   "execution_count": 7,
   "id": "3a47b00c-dc02-442a-8dc4-734234048049",
   "metadata": {},
   "outputs": [],
   "source": [
    "#csv file processing \n",
    "# C:\\Users\\Administrator\\Desktop\\master copy of training\\ust-python-2025\\case-studies\\student-report\\students.csv"
   ]
  },
  {
   "cell_type": "code",
   "execution_count": null,
   "id": "22531095-5c06-4353-94e4-0ea699ce42ab",
   "metadata": {},
   "outputs": [],
   "source": []
  }
 ],
 "metadata": {
  "kernelspec": {
   "display_name": "Python 3 (ipykernel)",
   "language": "python",
   "name": "python3"
  },
  "language_info": {
   "codemirror_mode": {
    "name": "ipython",
    "version": 3
   },
   "file_extension": ".py",
   "mimetype": "text/x-python",
   "name": "python",
   "nbconvert_exporter": "python",
   "pygments_lexer": "ipython3",
   "version": "3.12.7"
  }
 },
 "nbformat": 4,
 "nbformat_minor": 5
}
