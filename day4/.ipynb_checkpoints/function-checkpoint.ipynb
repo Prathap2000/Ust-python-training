{
 "cells": [
  {
   "cell_type": "code",
   "execution_count": 4,
   "id": "e4439f89-51fe-4c11-a387-69da08a47a25",
   "metadata": {},
   "outputs": [],
   "source": [
    "#function is set of code rapped into single unit"
   ]
  },
  {
   "cell_type": "code",
   "execution_count": 10,
   "id": "960d0767-a89c-41e5-aa9e-a173a95a1c07",
   "metadata": {},
   "outputs": [
    {
     "data": {
      "text/plain": [
       "' not even'"
      ]
     },
     "execution_count": 10,
     "metadata": {},
     "output_type": "execute_result"
    }
   ],
   "source": [
    "def even(num):\n",
    "    if num%2==0:\n",
    "        return \"its even number\"\n",
    "    else:\n",
    "        return \" not even\"\n",
    "even(1)"
   ]
  },
  {
   "cell_type": "code",
   "execution_count": 12,
   "id": "13bb3c9c-a4ca-4156-8a37-06059206df62",
   "metadata": {},
   "outputs": [],
   "source": [
    "def primecheker(num):\n",
    "    prime=True\n",
    "    for i in range(2,num):\n",
    "        if num%i==0:\n",
    "            prime=False\n",
    "            break\n",
    "    return prime\n",
    "            \n",
    "    \n",
    "        "
   ]
  },
  {
   "cell_type": "code",
   "execution_count": 16,
   "id": "5f0f7447-1255-40a2-a317-f8fe9e63bd26",
   "metadata": {},
   "outputs": [
    {
     "data": {
      "text/plain": [
       "True"
      ]
     },
     "execution_count": 16,
     "metadata": {},
     "output_type": "execute_result"
    }
   ],
   "source": [
    "primecheker(2)\n"
   ]
  },
  {
   "cell_type": "code",
   "execution_count": 18,
   "id": "ee8b89f6-8d8a-42d1-8e72-706d57d7238c",
   "metadata": {},
   "outputs": [
    {
     "data": {
      "text/plain": [
       "[2, 3, 5, 7, 11, 13, 17, 19, 23, 29, 31, 37, 41, 43, 47]"
      ]
     },
     "execution_count": 18,
     "metadata": {},
     "output_type": "execute_result"
    }
   ],
   "source": [
    "n=list(range(2,50))\n",
    "prime=[]\n",
    "for num in n:\n",
    "    if primecheker(num):\n",
    "        prime.append(num)\n",
    "prime\n",
    "    "
   ]
  },
  {
   "cell_type": "code",
   "execution_count": 20,
   "id": "abb9ab51-c8d9-4e1c-8a15-f9735e4a5840",
   "metadata": {},
   "outputs": [],
   "source": [
    "#lambda function"
   ]
  },
  {
   "cell_type": "code",
   "execution_count": null,
   "id": "f8a9ce47-5e66-4560-8ccf-7537a6046d4e",
   "metadata": {},
   "outputs": [],
   "source": [
    "# f= lambda <input>:<output>"
   ]
  },
  {
   "cell_type": "code",
   "execution_count": 22,
   "id": "9587349d-8444-481b-98ec-d8ad1e223674",
   "metadata": {},
   "outputs": [
    {
     "data": {
      "text/plain": [
       "<function __main__.<lambda>(a, b)>"
      ]
     },
     "execution_count": 22,
     "metadata": {},
     "output_type": "execute_result"
    }
   ],
   "source": [
    "num=lambda a,b:a+b\n",
    "num"
   ]
  },
  {
   "cell_type": "code",
   "execution_count": 38,
   "id": "2e1759b4-abb5-4ecb-aa68-5ff982559e28",
   "metadata": {},
   "outputs": [
    {
     "data": {
      "text/plain": [
       "3"
      ]
     },
     "execution_count": 38,
     "metadata": {},
     "output_type": "execute_result"
    }
   ],
   "source": [
    "num(1,2)"
   ]
  },
  {
   "cell_type": "code",
   "execution_count": null,
   "id": "77c850c1-24ee-458a-bfa6-633b57d4f545",
   "metadata": {},
   "outputs": [],
   "source": []
  },
  {
   "cell_type": "code",
   "execution_count": null,
   "id": "61c12bbc-82cf-49a1-84fc-cc8bb0ab8d45",
   "metadata": {},
   "outputs": [],
   "source": []
  },
  {
   "cell_type": "code",
   "execution_count": 26,
   "id": "818d4c22-a5de-4822-80ad-aa05c3caa762",
   "metadata": {},
   "outputs": [],
   "source": [
    "# map function ,map(<function>,<iterator>) --> <collection>"
   ]
  },
  {
   "cell_type": "code",
   "execution_count": 28,
   "id": "f40ec01f-9e1e-4f46-a7de-a7b73b3bb6be",
   "metadata": {},
   "outputs": [],
   "source": [
    "t=[12,34,56,78,100]"
   ]
  },
  {
   "cell_type": "code",
   "execution_count": 36,
   "id": "d75a6650-af60-484b-93c9-645fb7491e0e",
   "metadata": {},
   "outputs": [
    {
     "data": {
      "text/plain": [
       "[53.6, 93.2, 132.8, 172.4, 212.0]"
      ]
     },
     "execution_count": 36,
     "metadata": {},
     "output_type": "execute_result"
    }
   ],
   "source": [
    "f1=map(lambda t:t*1.8+32,t) # use of map function\n",
    "list(f1)"
   ]
  },
  {
   "cell_type": "code",
   "execution_count": 40,
   "id": "9a7d0811-4995-4f13-8a32-d59275b3c050",
   "metadata": {},
   "outputs": [],
   "source": [
    "# filter function ,filter(<function>,<iterator>) --> <filtered-collection>"
   ]
  },
  {
   "cell_type": "code",
   "execution_count": 44,
   "id": "332d32e8-6b5a-482c-b7ae-0eb253e625cd",
   "metadata": {},
   "outputs": [
    {
     "data": {
      "text/plain": [
       "<filter at 0x25ed2203e20>"
      ]
     },
     "execution_count": 44,
     "metadata": {},
     "output_type": "execute_result"
    }
   ],
   "source": [
    "p2=filter(primecheker,range(2,50))\n",
    "p2"
   ]
  },
  {
   "cell_type": "code",
   "execution_count": 46,
   "id": "f6822c68-cb5d-4c09-9a5c-a4c28376d2ea",
   "metadata": {},
   "outputs": [
    {
     "data": {
      "text/plain": [
       "[2, 3, 5, 7, 11, 13, 17, 19, 23, 29, 31, 37, 41, 43, 47]"
      ]
     },
     "execution_count": 46,
     "metadata": {},
     "output_type": "execute_result"
    }
   ],
   "source": [
    "list(p2)"
   ]
  },
  {
   "cell_type": "code",
   "execution_count": 60,
   "id": "482ab34e-4a06-43d9-bf2e-3818ac22ede2",
   "metadata": {},
   "outputs": [],
   "source": [
    "#zip fuction ,zip is the type of genertaor,once is accessed it will esare it automatically "
   ]
  },
  {
   "cell_type": "code",
   "execution_count": 62,
   "id": "b144cadb-85b3-49e7-9d91-1df86b73a791",
   "metadata": {},
   "outputs": [],
   "source": [
    "l1=['app','kkk','lll']\n",
    "l2=[1,2,3]\n"
   ]
  },
  {
   "cell_type": "code",
   "execution_count": 58,
   "id": "f91b3d60-62d0-4013-a295-6465bb5ed2e9",
   "metadata": {},
   "outputs": [
    {
     "data": {
      "text/plain": [
       "[('app', 1), ('kkk', 2), ('lll', 3)]"
      ]
     },
     "execution_count": 58,
     "metadata": {},
     "output_type": "execute_result"
    }
   ],
   "source": [
    "l=zip(l1,l2)\n",
    "list(l) # accessed here so it showing the data "
   ]
  },
  {
   "cell_type": "code",
   "execution_count": 66,
   "id": "126aab05-eead-43bf-93d0-0f19eb0f4693",
   "metadata": {},
   "outputs": [
    {
     "data": {
      "text/plain": [
       "[]"
      ]
     },
     "execution_count": 66,
     "metadata": {},
     "output_type": "execute_result"
    }
   ],
   "source": [
    "list(l) # once once it can be access so now it esared automaticcaly "
   ]
  },
  {
   "cell_type": "code",
   "execution_count": 68,
   "id": "2d3f66bf-1235-406a-a69e-b8fede40af6c",
   "metadata": {},
   "outputs": [],
   "source": [
    "# use of sort function in key "
   ]
  },
  {
   "cell_type": "code",
   "execution_count": 82,
   "id": "8c5303a0-f054-4237-9972-159b58f7586e",
   "metadata": {},
   "outputs": [],
   "source": [
    "l=[('apple',23),(\"mango\",54),('banana',34)]"
   ]
  },
  {
   "cell_type": "code",
   "execution_count": 76,
   "id": "918cf0bb-b3f0-48d9-b1d5-5a8a0a42138b",
   "metadata": {},
   "outputs": [
    {
     "data": {
      "text/plain": [
       "[('apple', 23), ('banana', 34), ('mango', 54)]"
      ]
     },
     "execution_count": 76,
     "metadata": {},
     "output_type": "execute_result"
    }
   ],
   "source": [
    "l.sort()\n",
    "l"
   ]
  },
  {
   "cell_type": "code",
   "execution_count": 86,
   "id": "5caac446-9052-42a8-a0ea-df9cee2681ba",
   "metadata": {},
   "outputs": [
    {
     "data": {
      "text/plain": [
       "[('apple', 23), ('banana', 34), ('mango', 54)]"
      ]
     },
     "execution_count": 86,
     "metadata": {},
     "output_type": "execute_result"
    }
   ],
   "source": [
    "l.sort(key=lambda item:item[1])\n",
    "l"
   ]
  },
  {
   "cell_type": "code",
   "execution_count": null,
   "id": "d9517bc7-2b9c-4183-a29c-d89d03e44918",
   "metadata": {},
   "outputs": [],
   "source": []
  }
 ],
 "metadata": {
  "kernelspec": {
   "display_name": "Python 3 (ipykernel)",
   "language": "python",
   "name": "python3"
  },
  "language_info": {
   "codemirror_mode": {
    "name": "ipython",
    "version": 3
   },
   "file_extension": ".py",
   "mimetype": "text/x-python",
   "name": "python",
   "nbconvert_exporter": "python",
   "pygments_lexer": "ipython3",
   "version": "3.12.7"
  }
 },
 "nbformat": 4,
 "nbformat_minor": 5
}
