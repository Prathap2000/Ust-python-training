{
 "cells": [
  {
   "cell_type": "code",
   "execution_count": 1,
   "id": "7c5086f8-2dfd-43a1-88bc-0d08c5435826",
   "metadata": {},
   "outputs": [],
   "source": [
    "#task1\n"
   ]
  },
  {
   "cell_type": "code",
   "execution_count": 9,
   "id": "7d7801ed-deb6-4ef5-b5e2-957df6dc5935",
   "metadata": {},
   "outputs": [
    {
     "data": {
      "text/plain": [
       "[4, 16, 36, 64]"
      ]
     },
     "execution_count": 9,
     "metadata": {},
     "output_type": "execute_result"
    }
   ],
   "source": [
    "[n**2 for n in range(1,10) if n%2==0]"
   ]
  },
  {
   "cell_type": "code",
   "execution_count": 7,
   "id": "756ba7e1-ebd7-45d2-891d-bf3a0bf967a2",
   "metadata": {},
   "outputs": [],
   "source": [
    "#task2"
   ]
  },
  {
   "cell_type": "code",
   "execution_count": 11,
   "id": "b8e189ac-0bc9-42ea-a48f-842cf57c081d",
   "metadata": {},
   "outputs": [],
   "source": [
    "words = [\"apple\", \"banana\", \"cherry\", \"date\", \"elderberry\"]"
   ]
  },
  {
   "cell_type": "code",
   "execution_count": 17,
   "id": "1c0ce604-a1c7-44a8-a46a-174d0ecbe97d",
   "metadata": {},
   "outputs": [
    {
     "data": {
      "text/plain": [
       "{'apple': 5, 'banana': 6, 'cherry': 6, 'date': 4, 'elderberry': 10}"
      ]
     },
     "execution_count": 17,
     "metadata": {},
     "output_type": "execute_result"
    }
   ],
   "source": [
    "{value:len(value) for value in words}"
   ]
  },
  {
   "cell_type": "code",
   "execution_count": 19,
   "id": "6ca106e2-9d9b-4954-8544-932192e2e48c",
   "metadata": {},
   "outputs": [],
   "source": [
    "#task3"
   ]
  },
  {
   "cell_type": "code",
   "execution_count": 21,
   "id": "83648320-718c-46a2-a94b-73283278ca8e",
   "metadata": {},
   "outputs": [],
   "source": [
    "ages=[(\"Alice\", 25), (\"Bob\", 17), (\"Charlie\", 19), (\"David\", 16)]"
   ]
  },
  {
   "cell_type": "code",
   "execution_count": 47,
   "id": "294c4dd1-c733-4520-9659-888aad6859e1",
   "metadata": {},
   "outputs": [
    {
     "data": {
      "text/plain": [
       "{'Alice': 25, 'Charlie': 19}"
      ]
     },
     "execution_count": 47,
     "metadata": {},
     "output_type": "execute_result"
    }
   ],
   "source": [
    "a=dict(ages)\n",
    "{key: a for key, a in a.items() if a >= 18}"
   ]
  },
  {
   "cell_type": "code",
   "execution_count": 49,
   "id": "efdac9f4-e58e-4d67-91dc-828f7fd7c6ee",
   "metadata": {},
   "outputs": [],
   "source": [
    "#task4"
   ]
  },
  {
   "cell_type": "code",
   "execution_count": 151,
   "id": "62f31206-cc02-4961-ad4b-39d08a7e7adb",
   "metadata": {},
   "outputs": [],
   "source": [
    "matrix = [[1, 2, 3], [4, 5, 6], [7, 8, 9]]\n"
   ]
  },
  {
   "cell_type": "code",
   "execution_count": 153,
   "id": "1e6c9b27-e2a1-4780-a4b1-03baff6f62b2",
   "metadata": {},
   "outputs": [
    {
     "data": {
      "text/plain": [
       "[1, 2, 3, 4, 5, 6, 7, 8, 9]"
      ]
     },
     "execution_count": 153,
     "metadata": {},
     "output_type": "execute_result"
    }
   ],
   "source": [
    "[j for i in matrix for j in i ]"
   ]
  },
  {
   "cell_type": "code",
   "execution_count": 81,
   "id": "3946d55d-6f8f-4c11-a21e-f1e2eb4a5b34",
   "metadata": {},
   "outputs": [],
   "source": [
    "#task5"
   ]
  },
  {
   "cell_type": "code",
   "execution_count": 101,
   "id": "0c0416a2-8414-4663-a106-1a4af8f2bb4a",
   "metadata": {},
   "outputs": [],
   "source": [
    "text = \"comprehension\""
   ]
  },
  {
   "cell_type": "code",
   "execution_count": 115,
   "id": "0ca83f7e-b142-4a2f-bf18-1147112e8e81",
   "metadata": {},
   "outputs": [
    {
     "data": {
      "text/plain": [
       "{'c': 1,\n",
       " 'o': 1,\n",
       " 'm': 1,\n",
       " 'p': 1,\n",
       " 'r': 1,\n",
       " 'e': 1,\n",
       " 'h': 1,\n",
       " 'n': 1,\n",
       " 's': 1,\n",
       " 'i': 1}"
      ]
     },
     "execution_count": 115,
     "metadata": {},
     "output_type": "execute_result"
    }
   ],
   "source": [
    "{i:len(i) for i in text if  }"
   ]
  },
  {
   "cell_type": "code",
   "execution_count": 117,
   "id": "52c18c3f-12c0-4191-b681-8126655a8b87",
   "metadata": {},
   "outputs": [],
   "source": [
    "#task6 buid algo"
   ]
  },
  {
   "cell_type": "code",
   "execution_count": 201,
   "id": "bda658b4-b5c2-426a-88cc-96831c1c9659",
   "metadata": {},
   "outputs": [],
   "source": [
    "Example=[1, 2, 3, [4, 5, [6, 7]], 8]"
   ]
  },
  {
   "cell_type": "code",
   "execution_count": 235,
   "id": "5a4519d0-169a-4d95-b4d0-3af5b06d0195",
   "metadata": {},
   "outputs": [
    {
     "data": {
      "text/plain": [
       "[1, 2, 3, [6, 7], 5, 4, 8]"
      ]
     },
     "execution_count": 235,
     "metadata": {},
     "output_type": "execute_result"
    }
   ],
   "source": [
    "def flaten(num):\n",
    "    num1=num[::-1]\n",
    "    flat=[]\n",
    "    while num1:\n",
    "        item=num1.pop()\n",
    "        # print(item)\n",
    "        if isinstance(item,list):\n",
    "            if isinstance(item,list):\n",
    "                flat.extend(item[::-1])\n",
    "            else:\n",
    "                flat.extend(item[::-1])\n",
    "        else:\n",
    "            flat.append(item)\n",
    "    # return num1\n",
    "    return flat\n",
    "    \n",
    "flaten(Example)"
   ]
  },
  {
   "cell_type": "code",
   "execution_count": null,
   "id": "f1d851ac-03f8-4d10-beec-65a882ad27fb",
   "metadata": {},
   "outputs": [],
   "source": []
  }
 ],
 "metadata": {
  "kernelspec": {
   "display_name": "Python 3 (ipykernel)",
   "language": "python",
   "name": "python3"
  },
  "language_info": {
   "codemirror_mode": {
    "name": "ipython",
    "version": 3
   },
   "file_extension": ".py",
   "mimetype": "text/x-python",
   "name": "python",
   "nbconvert_exporter": "python",
   "pygments_lexer": "ipython3",
   "version": "3.12.7"
  }
 },
 "nbformat": 4,
 "nbformat_minor": 5
}
