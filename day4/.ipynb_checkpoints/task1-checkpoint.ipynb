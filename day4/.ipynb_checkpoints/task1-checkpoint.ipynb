{
 "cells": [
  {
   "cell_type": "code",
   "execution_count": null,
   "id": "a7819755-b212-4d0f-a323-dd0a51796d20",
   "metadata": {},
   "outputs": [],
   "source": [
    "#task1"
   ]
  },
  {
   "cell_type": "code",
   "execution_count": 21,
   "id": "dc3c05be-733e-428c-a5d8-c47783354d26",
   "metadata": {},
   "outputs": [
    {
     "name": "stdout",
     "output_type": "stream",
     "text": [
      "Application to find sum of given number\n",
      "____________________________________________________________________________________________________\n"
     ]
    },
    {
     "name": "stdin",
     "output_type": "stream",
     "text": [
      "--> 123456789\n"
     ]
    },
    {
     "name": "stdout",
     "output_type": "stream",
     "text": [
      "the sume of num is : 45\n"
     ]
    }
   ],
   "source": [
    "print(\"Application to find sum of given number\") #name of app\n",
    "print(\"_\"*100) \n",
    "Usersum=0 #variable to sto sum\n",
    "Result=input(\"-->\") # getting user input\n",
    "for i in UserInput:\n",
    "    Result+=int(i)\n",
    "print(\"the sume of num is :\",Result)\n",
    "        \n"
   ]
  },
  {
   "cell_type": "code",
   "execution_count": null,
   "id": "42bfd5d9-1282-48d3-95f3-25e85bace56b",
   "metadata": {},
   "outputs": [],
   "source": [
    "#task2"
   ]
  },
  {
   "cell_type": "code",
   "execution_count": 27,
   "id": "bb6b52fe-6c4c-43ae-9419-41dafc75ed3f",
   "metadata": {},
   "outputs": [
    {
     "data": {
      "text/plain": [
       "[1.0, 4.0, 9.0, 16.0, 25.0, 36.0, 49.0, 64.0, 81.0]"
      ]
     },
     "execution_count": 27,
     "metadata": {},
     "output_type": "execute_result"
    }
   ],
   "source": [
    "import math\n",
    "Squares=map(lambda x:math.pow(x,2),range(1,10))\n",
    "list(Squares)"
   ]
  },
  {
   "cell_type": "code",
   "execution_count": 29,
   "id": "5f5eb010-4653-474f-b156-d7d4f89956a8",
   "metadata": {},
   "outputs": [],
   "source": [
    "#task3"
   ]
  },
  {
   "cell_type": "code",
   "execution_count": 97,
   "id": "6bf4fe80-fd79-496e-8215-ce75053a6981",
   "metadata": {},
   "outputs": [
    {
     "name": "stdout",
     "output_type": "stream",
     "text": [
      "[119, 128, 137, 146, 155, 164, 173, 182, 191, 209, 218, 227, 236, 245, 254, 263, 272, 281, 290, 308, 317, 326, 335, 344, 353, 362, 371, 380, 407, 416, 425, 434, 443, 452, 461, 470, 506, 515, 524, 533, 542, 551, 560, 605, 614, 623, 632, 641, 650, 704, 713, 722, 731, 740, 803, 812, 821, 830, 902, 911, 920] "
     ]
    }
   ],
   "source": [
    "Squares=map(lambda x:x,range(100,1000))\n",
    "sum=[]       \n",
    "def sumthree(num):\n",
    "    s = 0\n",
    "    temp = num\n",
    "    while temp > 0:\n",
    "        s += temp % 10\n",
    "        temp //= 10\n",
    "    if s == 11:\n",
    "        return True\n",
    "    else:\n",
    "        return False\n",
    "\n",
    "sum=filter(sumthree,range(100,1000))\n",
    "print(list(sum),end=\" \")"
   ]
  },
  {
   "cell_type": "code",
   "execution_count": 57,
   "id": "135c0ac7-5b31-4ceb-ba12-c1130909ef6f",
   "metadata": {},
   "outputs": [],
   "source": [
    "#task4"
   ]
  },
  {
   "cell_type": "code",
   "execution_count": 59,
   "id": "608db7c6-333b-4bd9-bd0f-76be7f4bf6ee",
   "metadata": {},
   "outputs": [],
   "source": [
    "L = [\"red\", \"green\", \"blue\", \"yellow\"]"
   ]
  },
  {
   "cell_type": "code",
   "execution_count": 67,
   "id": "2210db54-6ea6-4894-a216-b5b2582856c0",
   "metadata": {},
   "outputs": [
    {
     "data": {
      "text/plain": [
       "['yellow', 'green', 'blue', 'red']"
      ]
     },
     "execution_count": 67,
     "metadata": {},
     "output_type": "execute_result"
    }
   ],
   "source": [
    "L.sort(key=lambda item : item[-1] ,reverse=True)\n",
    "L"
   ]
  },
  {
   "cell_type": "code",
   "execution_count": null,
   "id": "3b8dd27e-1a6b-4a68-85ff-3d94a3a45b2a",
   "metadata": {},
   "outputs": [],
   "source": []
  }
 ],
 "metadata": {
  "kernelspec": {
   "display_name": "Python 3 (ipykernel)",
   "language": "python",
   "name": "python3"
  },
  "language_info": {
   "codemirror_mode": {
    "name": "ipython",
    "version": 3
   },
   "file_extension": ".py",
   "mimetype": "text/x-python",
   "name": "python",
   "nbconvert_exporter": "python",
   "pygments_lexer": "ipython3",
   "version": "3.12.7"
  }
 },
 "nbformat": 4,
 "nbformat_minor": 5
}
