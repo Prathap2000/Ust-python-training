{
 "cells": [
  {
   "cell_type": "code",
   "execution_count": 2,
   "id": "f5a3cd9a-dad8-4dbf-8404-698bbfa30604",
   "metadata": {},
   "outputs": [],
   "source": [
    "# its and exp for short cut for  iteration task "
   ]
  },
  {
   "cell_type": "code",
   "execution_count": 6,
   "id": "e2e2b6cc-789f-4c41-a732-72b81dd66cbd",
   "metadata": {},
   "outputs": [],
   "source": [
    "#[<exp> <loop> <condition>] works for list,tuple,dict"
   ]
  },
  {
   "cell_type": "code",
   "execution_count": 24,
   "id": "9ebec676-1654-4709-b078-54b80936335e",
   "metadata": {},
   "outputs": [
    {
     "data": {
      "text/plain": [
       "{3, 4, 5}"
      ]
     },
     "execution_count": 24,
     "metadata": {},
     "output_type": "execute_result"
    }
   ],
   "source": [
    "{(a+b) for a in range(5) for b in range(2) if a+b>=3 }"
   ]
  },
  {
   "cell_type": "code",
   "execution_count": 36,
   "id": "974c2354-f954-46c3-ada6-de21efdf4ce7",
   "metadata": {},
   "outputs": [
    {
     "data": {
      "text/plain": [
       "[1, 4, 9, 16, 25, 36, 49, 64, 81]"
      ]
     },
     "execution_count": 36,
     "metadata": {},
     "output_type": "execute_result"
    }
   ],
   "source": [
    "[a**2 for a in range(1,10,)]"
   ]
  },
  {
   "cell_type": "code",
   "execution_count": null,
   "id": "a13ce4f4-4778-4349-8f0f-d1588bed33be",
   "metadata": {},
   "outputs": [],
   "source": [
    "#task2"
   ]
  }
 ],
 "metadata": {
  "kernelspec": {
   "display_name": "Python 3 (ipykernel)",
   "language": "python",
   "name": "python3"
  },
  "language_info": {
   "codemirror_mode": {
    "name": "ipython",
    "version": 3
   },
   "file_extension": ".py",
   "mimetype": "text/x-python",
   "name": "python",
   "nbconvert_exporter": "python",
   "pygments_lexer": "ipython3",
   "version": "3.12.7"
  }
 },
 "nbformat": 4,
 "nbformat_minor": 5
}
