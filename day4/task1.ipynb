{
 "cells": [
  {
   "cell_type": "code",
   "execution_count": null,
   "id": "a7819755-b212-4d0f-a323-dd0a51796d20",
   "metadata": {},
   "outputs": [],
   "source": [
    "#task1"
   ]
  },
  {
   "cell_type": "code",
   "execution_count": 21,
   "id": "dc3c05be-733e-428c-a5d8-c47783354d26",
   "metadata": {},
   "outputs": [
    {
     "name": "stdout",
     "output_type": "stream",
     "text": [
      "Application to find sum of given number\n",
      "____________________________________________________________________________________________________\n"
     ]
    },
    {
     "name": "stdin",
     "output_type": "stream",
     "text": [
      "--> 123456789\n"
     ]
    },
    {
     "name": "stdout",
     "output_type": "stream",
     "text": [
      "the sume of num is : 45\n"
     ]
    }
   ],
   "source": [
    "print(\"Application to find sum of given number\") #name of app\n",
    "print(\"_\"*100) \n",
    "Usersum=0 #variable to sto sum\n",
    "Result=input(\"-->\") # getting user input\n",
    "for i in UserInput:\n",
    "    Result+=int(i)\n",
    "print(\"the sume of num is :\",Result)\n",
    "        \n"
   ]
  },
  {
   "cell_type": "code",
   "execution_count": null,
   "id": "42bfd5d9-1282-48d3-95f3-25e85bace56b",
   "metadata": {},
   "outputs": [],
   "source": [
    "#task2"
   ]
  },
  {
   "cell_type": "code",
   "execution_count": 27,
   "id": "bb6b52fe-6c4c-43ae-9419-41dafc75ed3f",
   "metadata": {},
   "outputs": [
    {
     "data": {
      "text/plain": [
       "[1.0, 4.0, 9.0, 16.0, 25.0, 36.0, 49.0, 64.0, 81.0]"
      ]
     },
     "execution_count": 27,
     "metadata": {},
     "output_type": "execute_result"
    }
   ],
   "source": [
    "import math\n",
    "Squares=map(lambda x:math.pow(x,2),range(1,10))\n",
    "list(Squares)"
   ]
  },
  {
   "cell_type": "code",
   "execution_count": 29,
   "id": "5f5eb010-4653-474f-b156-d7d4f89956a8",
   "metadata": {},
   "outputs": [],
   "source": [
    "#task3"
   ]
  },
  {
   "cell_type": "code",
   "execution_count": 113,
   "id": "6bf4fe80-fd79-496e-8215-ce75053a6981",
   "metadata": {},
   "outputs": [
    {
     "ename": "TypeError",
     "evalue": "'map' object is not callable",
     "output_type": "error",
     "traceback": [
      "\u001b[1;31m---------------------------------------------------------------------------\u001b[0m",
      "\u001b[1;31mTypeError\u001b[0m                                 Traceback (most recent call last)",
      "Cell \u001b[1;32mIn[113], line 15\u001b[0m\n\u001b[0;32m      4\u001b[0m     \u001b[38;5;66;03m# sum = 0\u001b[39;00m\n\u001b[0;32m      5\u001b[0m     \u001b[38;5;66;03m# temp = num\u001b[39;00m\n\u001b[0;32m      6\u001b[0m     \u001b[38;5;66;03m# while temp > 0:\u001b[39;00m\n\u001b[1;32m   (...)\u001b[0m\n\u001b[0;32m     11\u001b[0m     \u001b[38;5;66;03m# else:\u001b[39;00m\n\u001b[0;32m     12\u001b[0m     \u001b[38;5;66;03m#     return False\u001b[39;00m\n\u001b[0;32m     14\u001b[0m \u001b[38;5;28msum\u001b[39m\u001b[38;5;241m=\u001b[39m\u001b[38;5;28mfilter\u001b[39m(sumthree,\u001b[38;5;28mrange\u001b[39m(\u001b[38;5;241m100\u001b[39m,\u001b[38;5;241m1000\u001b[39m))\n\u001b[1;32m---> 15\u001b[0m \u001b[38;5;28mprint\u001b[39m(\u001b[38;5;28mlist\u001b[39m(\u001b[38;5;28msum\u001b[39m),end\u001b[38;5;241m=\u001b[39m\u001b[38;5;124m\"\u001b[39m\u001b[38;5;124m \u001b[39m\u001b[38;5;124m\"\u001b[39m)\n",
      "Cell \u001b[1;32mIn[113], line 3\u001b[0m, in \u001b[0;36msumthree\u001b[1;34m(num)\u001b[0m\n\u001b[0;32m      2\u001b[0m \u001b[38;5;28;01mdef\u001b[39;00m \u001b[38;5;21msumthree\u001b[39m(num):\n\u001b[1;32m----> 3\u001b[0m     \u001b[38;5;28;01mreturn\u001b[39;00m [sum1 \u001b[38;5;28;01mfor\u001b[39;00m sum1 \u001b[38;5;129;01min\u001b[39;00m S \u001b[38;5;28;01mif\u001b[39;00m \u001b[38;5;28msum\u001b[39m(S(sum1))\u001b[38;5;241m==\u001b[39m\u001b[38;5;241m11\u001b[39m]\n",
      "\u001b[1;31mTypeError\u001b[0m: 'map' object is not callable"
     ]
    }
   ],
   "source": [
    "S=map(lambda x:x,range(100,1000))     \n",
    "def sumthree(num):\n",
    "    return [sum1 for sum1 in S if sum(S(sum1))==11]\n",
    "    # sum = 0\n",
    "    # temp = num\n",
    "    # while temp > 0:\n",
    "    #     sum += temp % 10\n",
    "    #     temp //= 10\n",
    "    # if sum == 11:\n",
    "    #     return True\n",
    "    # else:\n",
    "    #     return False\n",
    "\n",
    "sum=filter(sumthree,range(100,1000))\n",
    "print(list(sum),end=\" \")"
   ]
  },
  {
   "cell_type": "code",
   "execution_count": 57,
   "id": "135c0ac7-5b31-4ceb-ba12-c1130909ef6f",
   "metadata": {},
   "outputs": [],
   "source": [
    "#task4"
   ]
  },
  {
   "cell_type": "code",
   "execution_count": 59,
   "id": "608db7c6-333b-4bd9-bd0f-76be7f4bf6ee",
   "metadata": {},
   "outputs": [],
   "source": [
    "L = [\"red\", \"green\", \"blue\", \"yellow\"]"
   ]
  },
  {
   "cell_type": "code",
   "execution_count": 67,
   "id": "2210db54-6ea6-4894-a216-b5b2582856c0",
   "metadata": {},
   "outputs": [
    {
     "data": {
      "text/plain": [
       "['yellow', 'green', 'blue', 'red']"
      ]
     },
     "execution_count": 67,
     "metadata": {},
     "output_type": "execute_result"
    }
   ],
   "source": [
    "L.sort(key=lambda item : item[-1] ,reverse=True)\n",
    "L"
   ]
  },
  {
   "cell_type": "code",
   "execution_count": null,
   "id": "3b8dd27e-1a6b-4a68-85ff-3d94a3a45b2a",
   "metadata": {},
   "outputs": [],
   "source": []
  }
 ],
 "metadata": {
  "kernelspec": {
   "display_name": "Python 3 (ipykernel)",
   "language": "python",
   "name": "python3"
  },
  "language_info": {
   "codemirror_mode": {
    "name": "ipython",
    "version": 3
   },
   "file_extension": ".py",
   "mimetype": "text/x-python",
   "name": "python",
   "nbconvert_exporter": "python",
   "pygments_lexer": "ipython3",
   "version": "3.12.7"
  }
 },
 "nbformat": 4,
 "nbformat_minor": 5
}
