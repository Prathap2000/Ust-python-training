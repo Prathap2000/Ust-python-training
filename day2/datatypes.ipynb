{
 "cells": [
  {
   "cell_type": "code",
   "execution_count": null,
   "id": "d555cc2a-5098-4a26-b24e-26968f43e449",
   "metadata": {},
   "outputs": [],
   "source": [
    "solution #1"
   ]
  },
  {
   "cell_type": "code",
   "execution_count": 1,
   "id": "7e13fc26-2699-4bbf-a861-d445792c7240",
   "metadata": {},
   "outputs": [],
   "source": [
    "a=24"
   ]
  },
  {
   "cell_type": "code",
   "execution_count": 4,
   "id": "d855b13d-ca04-4524-aa46-2c17907f53e8",
   "metadata": {},
   "outputs": [
    {
     "name": "stdout",
     "output_type": "stream",
     "text": [
      "24°C is equal to 75.2°F\n"
     ]
    }
   ],
   "source": [
    "f=(a * 9/5) + 32\n",
    "print(f\"{a}°C is equal to {f}°F\")"
   ]
  },
  {
   "cell_type": "code",
   "execution_count": null,
   "id": "f706587d-6135-4045-a89a-d46cfbd6c300",
   "metadata": {},
   "outputs": [],
   "source": [
    "solution#2"
   ]
  },
  {
   "cell_type": "code",
   "execution_count": 14,
   "id": "cf2386f8-e16d-46a7-9855-7f98aae11dc0",
   "metadata": {},
   "outputs": [],
   "source": [
    "import math\n"
   ]
  },
  {
   "cell_type": "code",
   "execution_count": 46,
   "id": "f7f2164b-fa5f-4f5c-87c9-11d025bd067f",
   "metadata": {},
   "outputs": [],
   "source": [
    "def s(x1,x2,y1,y2):\n",
    "    return math.sqrt(math.pow(x2 - x1, 2) + math.pow(y2 - y1, 2))\n",
    "    \n"
   ]
  },
  {
   "cell_type": "code",
   "execution_count": 49,
   "id": "7a23fc67-c163-4725-9837-5c07938ace54",
   "metadata": {},
   "outputs": [],
   "source": [
    "p=(s(3 , 4 , 7 , 1))\n"
   ]
  },
  {
   "cell_type": "code",
   "execution_count": 50,
   "id": "2519989f-a410-48ab-869a-4447f6e3e23d",
   "metadata": {},
   "outputs": [
    {
     "name": "stdout",
     "output_type": "stream",
     "text": [
      "the distance is  6.082762530298219\n"
     ]
    }
   ],
   "source": [
    "print(\"the distance is \",p)"
   ]
  },
  {
   "cell_type": "code",
   "execution_count": null,
   "id": "053c96c2-4934-4320-876f-5549e2590f91",
   "metadata": {},
   "outputs": [],
   "source": [
    "solution #3 area of triangle"
   ]
  },
  {
   "cell_type": "code",
   "execution_count": null,
   "id": "53c6f518-c3c4-4834-bfc7-796959c73f20",
   "metadata": {},
   "outputs": [],
   "source": []
  },
  {
   "cell_type": "code",
   "execution_count": null,
   "id": "32e7315d-d3d4-4f44-96f2-575f4504fcd9",
   "metadata": {},
   "outputs": [],
   "source": []
  }
 ],
 "metadata": {
  "kernelspec": {
   "display_name": "Python 3 (ipykernel)",
   "language": "python",
   "name": "python3"
  },
  "language_info": {
   "codemirror_mode": {
    "name": "ipython",
    "version": 3
   },
   "file_extension": ".py",
   "mimetype": "text/x-python",
   "name": "python",
   "nbconvert_exporter": "python",
   "pygments_lexer": "ipython3",
   "version": "3.9.13"
  }
 },
 "nbformat": 4,
 "nbformat_minor": 5
}
