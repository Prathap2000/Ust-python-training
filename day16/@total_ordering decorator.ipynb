{
 "cells": [
  {
   "cell_type": "code",
   "execution_count": 31,
   "id": "250eb253-0f2a-4fa9-b64a-39c5879fca14",
   "metadata": {},
   "outputs": [],
   "source": [
    "from functools import total_ordering\n",
    "class student(object):\n",
    "    def __init__(self):\n",
    "        pass\n",
    "    def __eq__(self,other):\n",
    "        if not isinstance(other,student):\n",
    "            return \"Not Implemented\"\n",
    "        return self.marks ==other.marks\n",
    "    def __lt__(self,other):\n",
    "        if not isinstance(other,student):\n",
    "            return \"Not Implemented\"\n",
    "        return self.marks <other.marks\n",
    "    def __repr__(self,other):\n",
    "        return f\"{self.name}({self.marks})\""
   ]
  },
  {
   "cell_type": "code",
   "execution_count": 33,
   "id": "660cdbf0-dcda-4636-9590-acf93f155d85",
   "metadata": {},
   "outputs": [],
   "source": [
    "s1=(\"prathap\",26)\n",
    "\n",
    "\n",
    "s2=(\"prathap\",26)"
   ]
  },
  {
   "cell_type": "code",
   "execution_count": 37,
   "id": "eed41934-507b-495a-84b9-4f7dcc82dd01",
   "metadata": {},
   "outputs": [
    {
     "data": {
      "text/plain": [
       "True"
      ]
     },
     "execution_count": 37,
     "metadata": {},
     "output_type": "execute_result"
    }
   ],
   "source": [
    "s1==s2"
   ]
  },
  {
   "cell_type": "code",
   "execution_count": 39,
   "id": "c11bb1f2-0aee-4ffc-a047-ac9e13a4d4c1",
   "metadata": {},
   "outputs": [
    {
     "data": {
      "text/plain": [
       "False"
      ]
     },
     "execution_count": 39,
     "metadata": {},
     "output_type": "execute_result"
    }
   ],
   "source": [
    "s1 <s2\n",
    "\n",
    "\n",
    "\n"
   ]
  },
  {
   "cell_type": "code",
   "execution_count": 25,
   "id": "87f0cc1f-d4cd-4a59-92e1-681c1fad51d8",
   "metadata": {},
   "outputs": [
    {
     "data": {
      "text/plain": [
       "(('prathap', 26), ('prathap', 26))"
      ]
     },
     "execution_count": 25,
     "metadata": {},
     "output_type": "execute_result"
    }
   ],
   "source": [
    "s1,s2"
   ]
  },
  {
   "cell_type": "code",
   "execution_count": null,
   "id": "c0e8b718-b047-4578-964c-ad5ef00e4308",
   "metadata": {},
   "outputs": [],
   "source": []
  }
 ],
 "metadata": {
  "kernelspec": {
   "display_name": "Python 3 (ipykernel)",
   "language": "python",
   "name": "python3"
  },
  "language_info": {
   "codemirror_mode": {
    "name": "ipython",
    "version": 3
   },
   "file_extension": ".py",
   "mimetype": "text/x-python",
   "name": "python",
   "nbconvert_exporter": "python",
   "pygments_lexer": "ipython3",
   "version": "3.12.7"
  }
 },
 "nbformat": 4,
 "nbformat_minor": 5
}
