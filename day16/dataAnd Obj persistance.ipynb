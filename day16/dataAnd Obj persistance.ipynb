{
 "cells": [
  {
   "cell_type": "code",
   "execution_count": 1,
   "id": "808d1099-b029-4f52-a173-9a7be68b7892",
   "metadata": {},
   "outputs": [],
   "source": [
    "#sqllite DB connection\n",
    "#shelve \n",
    "#pickle"
   ]
  },
  {
   "cell_type": "code",
   "execution_count": 5,
   "id": "4ce07710-e24d-4c37-a7d8-fe07fe856b29",
   "metadata": {},
   "outputs": [],
   "source": [
    "#sqllite3 module"
   ]
  },
  {
   "cell_type": "code",
   "execution_count": 7,
   "id": "bc72b441-8cde-435d-9bea-fd2f582b5ec0",
   "metadata": {},
   "outputs": [],
   "source": [
    "import sqlite3\n"
   ]
  },
  {
   "cell_type": "code",
   "execution_count": 9,
   "id": "063a1561-3020-4ab0-ab48-b12fd63bd35f",
   "metadata": {},
   "outputs": [],
   "source": [
    "#connect to the database\n",
    "conn=sqlite3.connect('employee.db')\n",
    "cursor=conn.cursor()"
   ]
  },
  {
   "cell_type": "code",
   "execution_count": 13,
   "id": "89a7e65a-96e5-4cae-9592-6869bc95da1e",
   "metadata": {},
   "outputs": [
    {
     "ename": "OperationalError",
     "evalue": "table emp already exists",
     "output_type": "error",
     "traceback": [
      "\u001b[1;31m---------------------------------------------------------------------------\u001b[0m",
      "\u001b[1;31mOperationalError\u001b[0m                          Traceback (most recent call last)",
      "Cell \u001b[1;32mIn[13], line 2\u001b[0m\n\u001b[0;32m      1\u001b[0m \u001b[38;5;66;03m#create the table\u001b[39;00m\n\u001b[1;32m----> 2\u001b[0m cursor\u001b[38;5;241m.\u001b[39mexecute(\u001b[38;5;124m'''\u001b[39m\u001b[38;5;124mcreate table emp (id integer primary key autoincrement,name text not null,deparment text not null,salary real not null,join_date text)\u001b[39m\u001b[38;5;124m'''\u001b[39m)\n",
      "\u001b[1;31mOperationalError\u001b[0m: table emp already exists"
     ]
    }
   ],
   "source": [
    "#create the table\n",
    "cursor.execute('''create table emp (id integer primary key autoincrement,name text not null,deparment text not null,salary real not null,join_date text)''')"
   ]
  },
  {
   "cell_type": "code",
   "execution_count": 21,
   "id": "91febd34-32ba-4605-9d02-e67bfc8c441a",
   "metadata": {},
   "outputs": [
    {
     "data": {
      "text/plain": [
       "<sqlite3.Cursor at 0x1a2d3563140>"
      ]
     },
     "execution_count": 21,
     "metadata": {},
     "output_type": "execute_result"
    }
   ],
   "source": [
    "cursor.execute(''' insert into emp(name,deparment,salary,join_date) values(\"prathap\",\"python\",\"10000\",\"2025-03-12\") ''')"
   ]
  },
  {
   "cell_type": "code",
   "execution_count": 25,
   "id": "f47c96d3-0ddf-49e1-b435-b5d084494e14",
   "metadata": {},
   "outputs": [
    {
     "data": {
      "text/plain": [
       "[(1, 'prathap', 'python', 10000.0, '2025-03-12')]"
      ]
     },
     "execution_count": 25,
     "metadata": {},
     "output_type": "execute_result"
    }
   ],
   "source": [
    "cursor.execute(''' select * from emp''')\n",
    "cursor.fetchall()"
   ]
  },
  {
   "cell_type": "code",
   "execution_count": 35,
   "id": "5608112c-ece6-4f23-b87f-35744635ec04",
   "metadata": {},
   "outputs": [
    {
     "data": {
      "text/plain": [
       "<sqlite3.Cursor at 0x1a2d3563140>"
      ]
     },
     "execution_count": 35,
     "metadata": {},
     "output_type": "execute_result"
    }
   ],
   "source": [
    "cursor.execute(''' insert into emp(name,deparment,salary,join_date) values (\"ibrhim\",\"python\",\"10000\",\"2025-04-12\")''')"
   ]
  },
  {
   "cell_type": "code",
   "execution_count": 37,
   "id": "faa8e1fa-3afe-4e35-acce-e7f830d6c2af",
   "metadata": {},
   "outputs": [
    {
     "data": {
      "text/plain": [
       "<sqlite3.Cursor at 0x1a2d3563140>"
      ]
     },
     "execution_count": 37,
     "metadata": {},
     "output_type": "execute_result"
    }
   ],
   "source": [
    "cursor.execute(''' insert into emp(name,deparment,salary,join_date) values (\"kiran\",\"python\",\"10000\",\"2025-04-12\")''')"
   ]
  },
  {
   "cell_type": "code",
   "execution_count": 45,
   "id": "eda73a00-84b0-477d-b5ba-cc6475f86b9c",
   "metadata": {},
   "outputs": [
    {
     "data": {
      "text/plain": [
       "[(1, 'prathap', 'python', 10000.0, '2025-03-12'),\n",
       " (2, 'ibrhim', 'python', 10000.0, '2025-04-12'),\n",
       " (3, 'kiran', 'python', 10000.0, '2025-04-12'),\n",
       " (4, 'kiran', 'python', 1000.0, '2025-04-12')]"
      ]
     },
     "execution_count": 45,
     "metadata": {},
     "output_type": "execute_result"
    }
   ],
   "source": [
    "cursor.execute(''' select * from emp''')\n",
    "cursor.fetchall()"
   ]
  },
  {
   "cell_type": "code",
   "execution_count": 43,
   "id": "b2f08423-7c23-4591-85e9-f4a1c6ac99b6",
   "metadata": {},
   "outputs": [
    {
     "data": {
      "text/plain": [
       "<sqlite3.Cursor at 0x1a2d3563140>"
      ]
     },
     "execution_count": 43,
     "metadata": {},
     "output_type": "execute_result"
    }
   ],
   "source": [
    "cursor.execute(''' insert into emp(name,deparment,salary,join_date) values (\"kiran\",\"python\",\"1000\",\"2025-04-12\")''')"
   ]
  },
  {
   "cell_type": "code",
   "execution_count": 49,
   "id": "8915f2f0-980d-4f55-9445-64b1c4e6c559",
   "metadata": {},
   "outputs": [
    {
     "name": "stdout",
     "output_type": "stream",
     "text": [
      "('kiran', 1000.0)\n",
      "\n"
     ]
    }
   ],
   "source": [
    "cursor.execute(\"select name,salary from emp where salary <?\",(6000,))\n",
    "for row in cursor.fetchall():\n",
    "    print(row)\n",
    "print()"
   ]
  },
  {
   "cell_type": "code",
   "execution_count": 53,
   "id": "7dcd510c-86fd-409c-b9e3-809ea1c75fb2",
   "metadata": {},
   "outputs": [
    {
     "data": {
      "text/plain": [
       "<sqlite3.Cursor at 0x1a2d3563140>"
      ]
     },
     "execution_count": 53,
     "metadata": {},
     "output_type": "execute_result"
    }
   ],
   "source": [
    "cursor.execute(\"update emp set salary =?\",(600000,))"
   ]
  },
  {
   "cell_type": "code",
   "execution_count": 55,
   "id": "98c30113-9ddb-4e15-896e-b58391222149",
   "metadata": {},
   "outputs": [
    {
     "data": {
      "text/plain": [
       "[(1, 'prathap', 'python', 600000.0, '2025-03-12'),\n",
       " (2, 'ibrhim', 'python', 600000.0, '2025-04-12'),\n",
       " (3, 'kiran', 'python', 600000.0, '2025-04-12'),\n",
       " (4, 'kiran', 'python', 600000.0, '2025-04-12')]"
      ]
     },
     "execution_count": 55,
     "metadata": {},
     "output_type": "execute_result"
    }
   ],
   "source": [
    "cursor.execute(''' select * from emp''')\n",
    "cursor.fetchall()\n"
   ]
  },
  {
   "cell_type": "code",
   "execution_count": 59,
   "id": "747497d4-ea64-4080-b05c-cf5431b3810b",
   "metadata": {},
   "outputs": [],
   "source": [
    "#to close the connect \n",
    "conn.commit()"
   ]
  },
  {
   "cell_type": "code",
   "execution_count": 63,
   "id": "7938f5a1-4c28-4871-9900-295922c9689d",
   "metadata": {},
   "outputs": [],
   "source": [
    "conn.close()"
   ]
  },
  {
   "cell_type": "code",
   "execution_count": 65,
   "id": "5ea06170-95c1-4e96-b77f-a8e20dba4861",
   "metadata": {},
   "outputs": [
    {
     "ename": "ProgrammingError",
     "evalue": "Cannot operate on a closed database.",
     "output_type": "error",
     "traceback": [
      "\u001b[1;31m---------------------------------------------------------------------------\u001b[0m",
      "\u001b[1;31mProgrammingError\u001b[0m                          Traceback (most recent call last)",
      "Cell \u001b[1;32mIn[65], line 1\u001b[0m\n\u001b[1;32m----> 1\u001b[0m cursor\u001b[38;5;241m.\u001b[39mexecute(\u001b[38;5;124m'''\u001b[39m\u001b[38;5;124m select * from emp\u001b[39m\u001b[38;5;124m'''\u001b[39m)\n\u001b[0;32m      2\u001b[0m cursor\u001b[38;5;241m.\u001b[39mfetchall()\n",
      "\u001b[1;31mProgrammingError\u001b[0m: Cannot operate on a closed database."
     ]
    }
   ],
   "source": [
    "cursor.execute(''' select * from emp''')\n",
    "cursor.fetchall()"
   ]
  },
  {
   "cell_type": "code",
   "execution_count": 67,
   "id": "6493ed9b-1721-4f16-a7c2-828e80e9e0a6",
   "metadata": {},
   "outputs": [],
   "source": [
    "#pickle obj serialzationthe "
   ]
  },
  {
   "cell_type": "code",
   "execution_count": 69,
   "id": "6f473721-0e1f-474a-ac31-d9975126ca17",
   "metadata": {},
   "outputs": [],
   "source": [
    "#create a student class with following attribute\n",
    "#define a usersession class with the "
   ]
  },
  {
   "cell_type": "code",
   "execution_count": 73,
   "id": "e797cadc-6628-4438-a800-ce069e608b43",
   "metadata": {},
   "outputs": [],
   "source": [
    "import pickle\n",
    "from datetime import datetime\n"
   ]
  },
  {
   "cell_type": "code",
   "execution_count": 81,
   "id": "4abaf51f-4e70-4080-ad18-d22e00de2268",
   "metadata": {},
   "outputs": [],
   "source": [
    "class usersession:\n",
    "    def __init__(self,username,last_login_time,preferences):\n",
    "        self.username=username\n",
    "        self.last_login_time=last_login_time\n",
    "        self.preferences=preferences\n",
    "    def __repr__(self):\n",
    "        return(f\"usersession(uusername='{self.username}',laslast_login_time={self.last_login_time},self.ppreferences={self.preferences})\")"
   ]
  },
  {
   "cell_type": "code",
   "execution_count": 83,
   "id": "2b026fdd-37ae-4b0c-99d6-1d054100b733",
   "metadata": {},
   "outputs": [],
   "source": [
    "s1=usersession(\"prathap\",datetime.now(),{'heme':'dark','language':'tamil'})"
   ]
  },
  {
   "cell_type": "code",
   "execution_count": 85,
   "id": "2fd07d3a-3d69-4dad-8fdb-0b9ae776c0fa",
   "metadata": {},
   "outputs": [
    {
     "data": {
      "text/plain": [
       "usersession(uusername='prathap',laslast_login_time=2025-04-09 12:58:10.444552,self.ppreferences={'heme': 'dark', 'language': 'tamil'})"
      ]
     },
     "execution_count": 85,
     "metadata": {},
     "output_type": "execute_result"
    }
   ],
   "source": [
    "s1"
   ]
  },
  {
   "cell_type": "code",
   "execution_count": 89,
   "id": "47b613fd-4201-441f-95e9-4d38f32930df",
   "metadata": {},
   "outputs": [],
   "source": [
    "s2=usersession(\"ibrahim\",datetime.now(),{'heme':'dark','language':'hindi'})"
   ]
  },
  {
   "cell_type": "code",
   "execution_count": 91,
   "id": "d15ca592-627b-4728-bb8e-86cfbef93a95",
   "metadata": {},
   "outputs": [
    {
     "data": {
      "text/plain": [
       "usersession(uusername='ibrahim',laslast_login_time=2025-04-09 12:58:43.073135,self.ppreferences={'heme': 'dark', 'language': 'hindi'})"
      ]
     },
     "execution_count": 91,
     "metadata": {},
     "output_type": "execute_result"
    }
   ],
   "source": [
    "s2"
   ]
  },
  {
   "cell_type": "code",
   "execution_count": 95,
   "id": "26bf2a35-e604-4ede-bb0a-444a2cb5bbd7",
   "metadata": {},
   "outputs": [],
   "source": [
    "ses=[s1,s2]"
   ]
  },
  {
   "cell_type": "code",
   "execution_count": 97,
   "id": "9db05f2d-3fe8-4401-8585-da063caf880c",
   "metadata": {},
   "outputs": [],
   "source": [
    "with open(\"ses.pkl\",'wb')as f:\n",
    "    pickle.dump(ses,f)"
   ]
  },
  {
   "cell_type": "code",
   "execution_count": 99,
   "id": "3b95f9ec-fec6-4c07-bb1c-588b79a60520",
   "metadata": {},
   "outputs": [],
   "source": [
    "#how to restore the obj\n"
   ]
  },
  {
   "cell_type": "code",
   "execution_count": 109,
   "id": "68661f69-49b7-4546-b1d4-758b9c558450",
   "metadata": {},
   "outputs": [
    {
     "name": "stdout",
     "output_type": "stream",
     "text": [
      "usersession(uusername='prathap',laslast_login_time=2025-04-09 12:58:10.444552,self.ppreferences={'heme': 'dark', 'language': 'tamil'})\n",
      "usersession(uusername='ibrahim',laslast_login_time=2025-04-09 12:58:43.073135,self.ppreferences={'heme': 'dark', 'language': 'hindi'})\n"
     ]
    }
   ],
   "source": [
    "try:\n",
    "    with open (\"ses.pkl\",'rb') as f:\n",
    "        load=pickle.load(f)\n",
    "    for sess in load:\n",
    "        print(sess)\n",
    "except Exception as e:\n",
    "    print(f\"Exception {e}\")"
   ]
  },
  {
   "cell_type": "code",
   "execution_count": null,
   "id": "1e64c536-0b28-4980-ab4f-5169e410439c",
   "metadata": {},
   "outputs": [],
   "source": []
  }
 ],
 "metadata": {
  "kernelspec": {
   "display_name": "Python 3 (ipykernel)",
   "language": "python",
   "name": "python3"
  },
  "language_info": {
   "codemirror_mode": {
    "name": "ipython",
    "version": 3
   },
   "file_extension": ".py",
   "mimetype": "text/x-python",
   "name": "python",
   "nbconvert_exporter": "python",
   "pygments_lexer": "ipython3",
   "version": "3.12.7"
  }
 },
 "nbformat": 4,
 "nbformat_minor": 5
}
