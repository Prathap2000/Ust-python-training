{
 "cells": [
  {
   "cell_type": "code",
   "execution_count": 1,
   "id": "250eb253-0f2a-4fa9-b64a-39c5879fca14",
   "metadata": {},
   "outputs": [],
   "source": [
    "class student(object):\n",
    "    def __init__(self):\n",
    "        pass\n",
    "    def __eq__(self,other):\n",
    "        if not isinstance(other,student):\n",
    "            return \"Not Implemented\"\n",
    "        return self.marks ==other.marks\n",
    "    def __lt__(self,other):\n",
    "        if not isinstance(other,student):\n",
    "            return \"Not Implemented\"\n",
    "        return self.marks <other.marks\n",
    "    def __repr__(self,other):\n",
    "        return f\"{self.name}({self.marks})\""
   ]
  },
  {
   "cell_type": "code",
   "execution_count": 3,
   "id": "660cdbf0-dcda-4636-9590-acf93f155d85",
   "metadata": {},
   "outputs": [],
   "source": [
    "s1=(\"prathap\",26)\n",
    "s2=(\"prathap\",26)"
   ]
  }
 ],
 "metadata": {
  "kernelspec": {
   "display_name": "Python 3 (ipykernel)",
   "language": "python",
   "name": "python3"
  },
  "language_info": {
   "codemirror_mode": {
    "name": "ipython",
    "version": 3
   },
   "file_extension": ".py",
   "mimetype": "text/x-python",
   "name": "python",
   "nbconvert_exporter": "python",
   "pygments_lexer": "ipython3",
   "version": "3.12.7"
  }
 },
 "nbformat": 4,
 "nbformat_minor": 5
}
