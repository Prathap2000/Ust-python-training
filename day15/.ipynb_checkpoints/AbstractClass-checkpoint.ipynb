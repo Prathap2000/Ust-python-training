{
 "cells": [
  {
   "cell_type": "code",
   "execution_count": 1,
   "id": "0bfeb7b5-dd1b-4be9-92b0-b3cf7d22b050",
   "metadata": {},
   "outputs": [],
   "source": [
    "#abstract classes "
   ]
  },
  {
   "cell_type": "code",
   "execution_count": 3,
   "id": "75745078-acd4-4f1a-9b00-828a4b5e0042",
   "metadata": {},
   "outputs": [],
   "source": [
    "#they can't be instantiated directly \n",
    "#you can have abstract methods(methods with mo implimentation)\n",
    "# will enforce the implementation of the func in the derived class "
   ]
  },
  {
   "cell_type": "code",
   "execution_count": 5,
   "id": "048a63a1-2417-4802-92dd-4a40a36e794b",
   "metadata": {},
   "outputs": [],
   "source": [
    "#the abc module -https://docs.python.org/3/libray/abc.hyml\n",
    "#ABC -abstract Base class\n",
    "#@Abstractmethod\n",
    "#abstract property - @propert + @abstractmethod\n",
    "#@staticmethod +@abstractmethod\n",
    "#@classmethod + @abstractmethod"
   ]
  },
  {
   "cell_type": "code",
   "execution_count": null,
   "id": "4f2b7d07-1ff6-4d6c-ada4-23b97705884d",
   "metadata": {},
   "outputs": [],
   "source": []
  }
 ],
 "metadata": {
  "kernelspec": {
   "display_name": "Python 3 (ipykernel)",
   "language": "python",
   "name": "python3"
  },
  "language_info": {
   "codemirror_mode": {
    "name": "ipython",
    "version": 3
   },
   "file_extension": ".py",
   "mimetype": "text/x-python",
   "name": "python",
   "nbconvert_exporter": "python",
   "pygments_lexer": "ipython3",
   "version": "3.12.7"
  }
 },
 "nbformat": 4,
 "nbformat_minor": 5
}
