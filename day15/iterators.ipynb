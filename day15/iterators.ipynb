{
 "cells": [
  {
   "cell_type": "code",
   "execution_count": null,
   "id": "6007bc99-a97a-4b33-adc8-c2fea5cc02f6",
   "metadata": {},
   "outputs": [],
   "source": [
    "#attendance problem"
   ]
  },
  {
   "cell_type": "code",
   "execution_count": 61,
   "id": "a51c3390-ed76-4551-9c11-061fc3376076",
   "metadata": {},
   "outputs": [],
   "source": [
    "class wekly:\n",
    "    def __init__(self,attendence_data):\n",
    "        self.attendence_data=attendence_data\n",
    "        self.index=0\n",
    "    def __iter__(self):\n",
    "        return self\n",
    "    def __next__(self):\n",
    "        if self.index < len(self.attendence_data):\n",
    "            week=(self.attendence_data(self.index))\n",
    "            self.index+=1\n",
    "            return week\n",
    "        else:\n",
    "            raise StopIteration\n",
    "    "
   ]
  },
  {
   "cell_type": "code",
   "execution_count": 71,
   "id": "c619aefd-e4ea-4822-9feb-400b51f62116",
   "metadata": {},
   "outputs": [],
   "source": [
    "weekl_date=[['prthap','pradeep','charlie'],['prathap','charlie','ibrahim'],['prathap','ibrahim']]"
   ]
  },
  {
   "cell_type": "code",
   "execution_count": 73,
   "id": "22f2d0f6-570c-4f3e-8974-be264cfee151",
   "metadata": {},
   "outputs": [],
   "source": [
    "ai=wekly(weekl_date)"
   ]
  },
  {
   "cell_type": "code",
   "execution_count": 75,
   "id": "8d7e7ec9-394c-4c3f-ae85-20fa7aa68b6d",
   "metadata": {},
   "outputs": [
    {
     "ename": "TypeError",
     "evalue": "'list' object is not callable",
     "output_type": "error",
     "traceback": [
      "\u001b[1;31m---------------------------------------------------------------------------\u001b[0m",
      "\u001b[1;31mTypeError\u001b[0m                                 Traceback (most recent call last)",
      "Cell \u001b[1;32mIn[75], line 1\u001b[0m\n\u001b[1;32m----> 1\u001b[0m \u001b[38;5;28;01mfor\u001b[39;00m week \u001b[38;5;129;01min\u001b[39;00m ai:\n\u001b[0;32m      2\u001b[0m     \u001b[38;5;28mprint\u001b[39m(week)\n",
      "Cell \u001b[1;32mIn[61], line 9\u001b[0m, in \u001b[0;36mwekly.__next__\u001b[1;34m(self)\u001b[0m\n\u001b[0;32m      7\u001b[0m \u001b[38;5;28;01mdef\u001b[39;00m \u001b[38;5;21m__next__\u001b[39m(\u001b[38;5;28mself\u001b[39m):\n\u001b[0;32m      8\u001b[0m     \u001b[38;5;28;01mif\u001b[39;00m \u001b[38;5;28mself\u001b[39m\u001b[38;5;241m.\u001b[39mindex \u001b[38;5;241m<\u001b[39m \u001b[38;5;28mlen\u001b[39m(\u001b[38;5;28mself\u001b[39m\u001b[38;5;241m.\u001b[39mattendence_data):\n\u001b[1;32m----> 9\u001b[0m         week\u001b[38;5;241m=\u001b[39m(\u001b[38;5;28mself\u001b[39m\u001b[38;5;241m.\u001b[39mattendence_data(\u001b[38;5;28mself\u001b[39m\u001b[38;5;241m.\u001b[39mindex))\n\u001b[0;32m     10\u001b[0m         \u001b[38;5;28mself\u001b[39m\u001b[38;5;241m.\u001b[39mindex\u001b[38;5;241m+\u001b[39m\u001b[38;5;241m=\u001b[39m\u001b[38;5;241m1\u001b[39m\n\u001b[0;32m     11\u001b[0m         \u001b[38;5;28;01mreturn\u001b[39;00m week\n",
      "\u001b[1;31mTypeError\u001b[0m: 'list' object is not callable"
     ]
    }
   ],
   "source": [
    "for week in ai:\n",
    "    print(week)"
   ]
  },
  {
   "cell_type": "code",
   "execution_count": null,
   "id": "08f5c967-2c5f-4326-a33c-0c4228e63135",
   "metadata": {},
   "outputs": [],
   "source": []
  }
 ],
 "metadata": {
  "kernelspec": {
   "display_name": "Python 3 (ipykernel)",
   "language": "python",
   "name": "python3"
  },
  "language_info": {
   "codemirror_mode": {
    "name": "ipython",
    "version": 3
   },
   "file_extension": ".py",
   "mimetype": "text/x-python",
   "name": "python",
   "nbconvert_exporter": "python",
   "pygments_lexer": "ipython3",
   "version": "3.12.7"
  }
 },
 "nbformat": 4,
 "nbformat_minor": 5
}
