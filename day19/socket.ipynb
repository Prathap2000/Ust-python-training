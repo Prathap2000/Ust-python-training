{
 "cells": [
  {
   "cell_type": "code",
   "execution_count": null,
   "id": "fc9dcaef-572c-4b5a-823d-4fccf2ed6b76",
   "metadata": {},
   "outputs": [],
   "source": [
    "import socket\n",
    "s=socket.socket()\n",
    "s.bind(('127.0.0.1',1000))\n",
    "s.listen(5)\n",
    "while True:\n",
    "    c,addr=s.accept()\n",
    "    print('got connection',addr)\n",
    "    c.send(bytes('thanks for connecting','utf-8'))\n",
    "    c.close()"
   ]
  },
  {
   "cell_type": "code",
   "execution_count": null,
   "id": "f4ce0fd5-16d8-42e7-9d60-c94afd4eeb92",
   "metadata": {},
   "outputs": [],
   "source": [
    "import socket\n",
    "s=socket.socket()\n",
    "s.connect(('127.0.0.1',1000))\n",
    "print(s.recv(1024))\n",
    "s.close()"
   ]
  },
  {
   "cell_type": "code",
   "execution_count": null,
   "id": "6deb125f-b8df-4344-b1b5-d1fd5c952152",
   "metadata": {},
   "outputs": [],
   "source": []
  }
 ],
 "metadata": {
  "kernelspec": {
   "display_name": "Python 3 (ipykernel)",
   "language": "python",
   "name": "python3"
  },
  "language_info": {
   "codemirror_mode": {
    "name": "ipython",
    "version": 3
   },
   "file_extension": ".py",
   "mimetype": "text/x-python",
   "name": "python",
   "nbconvert_exporter": "python",
   "pygments_lexer": "ipython3",
   "version": "3.12.7"
  }
 },
 "nbformat": 4,
 "nbformat_minor": 5
}
